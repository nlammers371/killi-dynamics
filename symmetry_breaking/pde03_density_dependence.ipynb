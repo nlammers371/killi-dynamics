{
 "cells": [
  {
   "cell_type": "code",
   "execution_count": null,
   "metadata": {},
   "outputs": [],
   "source": [
    "import numpy as np\n",
    "import itertools\n",
    "import pandas as pd\n",
    "from tqdm import tqdm\n",
    "from multiprocessing import Pool, Lock, Manager\n",
    "import os\n",
    "import time\n",
    "import uuid\n",
    "from symmetry_breaking.models.NLP_neutralization_1D import NodalLeftyNeutralization1D\n",
    "from symmetry_breaking.models.sweep import run_simulation_1D, make_1d_grid\n",
    "from symmetry_breaking.models.trackers import NodalROITracker"
   ]
  },
  {
   "cell_type": "code",
   "execution_count": null,
   "metadata": {},
   "outputs": [],
   "source": [
    "from pde import ScalarField, FieldCollection, PDEBase, CartesianGrid\n",
    "\n",
    "def make_1d_grid(length=3000, dx=10, periodic=True):\n",
    "    N = int(length / dx)\n",
    "    grid = CartesianGrid([[0, length]], shape=(N,), periodic=periodic)\n",
    "    return grid"
   ]
  },
  {
   "cell_type": "code",
   "execution_count": null,
   "metadata": {
    "jupyter": {
     "outputs_hidden": false
    }
   },
   "outputs": [],
   "source": [
    "# hyperparams\n",
    "dx = 5\n",
    "L = 3500\n",
    "T = 10 * 60 * 60\n",
    "dt = 0.5 * dx ** 2 / 60 / 1.25 # Stability condition for diffusion\n",
    "\n",
    "param_dicts= [{\n",
    "    \"D0_N\":60.0, \n",
    "    \"D0_L\":60.0,\n",
    "    \"alpha_N\":0,\n",
    "    \"alpha_L\":0,\n",
    "    \"sigma_L\": 1, #np.logspace(-3, -1, 10),\n",
    "    \"sigma_N\": 10,  #np.logspace(-1, 1, 10),\n",
    "    # \"lambda_\": .01,\n",
    "    # \"K_R\": 100, #np.logspace(1, 3, 10),\n",
    "    \"K_I\":100,\n",
    "    \"K_A\": 2154, #np.logspace(1.81, 3.81, 10),\n",
    "    \"K_NL\": 77,#np.logspace(1.81, 3.81, 10),\n",
    "    \"K_rho\": 2154,\n",
    "    \"K_R\":46\n",
    "    # \"alpha_N\":5,\n",
    "    # \"alpha_L\": 0.0001\n",
    "}]\n",
    "\n",
    "static_params = {\n",
    "              # \"mu_N\": 1.11e-3,\n",
    "              \"mu_L\": 0.61e-3,\n",
    "              # \"lambda_\": 0.1,    # Lefty inhibition rate\n",
    "              \"n\": 2,\n",
    "              \"m\": 1,\n",
    "              \"p\": 2,\n",
    "              \"q\": 2, # cell density nodal-dependence\n",
    "              \"tau_rho\":3600, # pretty raoid cellular relacation\n",
    "              \"N_amp\":5000, \n",
    "              \"N_sigma\":50.0,\n",
    "              \"rho_value\":0.1\n",
    "                }\n",
    "\n",
    "# Simulation config (you can also pass this from CLI)\n",
    "sim_config = {\n",
    "                \"dx\": dx,\n",
    "                \"L\": L,\n",
    "                \"T\": T,\n",
    "                \"dt\": dt,\n",
    "                \"model_class\": NodalLeftyNeutralization1D,\n",
    "                \"tracker_class\": NodalROITracker,\n",
    "                \"interval\": 1000,\n",
    "            }\n",
    "\n",
    "args = [(p | static_params, sim_config, \"\") for p in param_dicts]\n",
    "\n",
    "# args"
   ]
  },
  {
   "cell_type": "code",
   "execution_count": null,
   "metadata": {},
   "outputs": [],
   "source": [
    "from pde import ProgressTracker, PlotTracker\n",
    "\n",
    "param_dict, sim_config, output_dir = args[0]\n",
    "\n",
    "# Unpack sim config\n",
    "dx = sim_config[\"dx\"]\n",
    "L = sim_config[\"L\"]\n",
    "T = sim_config[\"T\"]\n",
    "dt = sim_config[\"dt\"]\n",
    "model_class = sim_config[\"model_class\"]\n",
    "tracker_class = sim_config[\"tracker_class\"]\n",
    "interval = sim_config.get(\"interval\", 1000)\n",
    "\n",
    "# --- Setup grid and model ---\n",
    "grid = make_1d_grid(length=L, dx=dx)\n",
    "model = model_class(**param_dict)\n",
    "state = model.get_state(grid)\n",
    "\n",
    "# --- Build a tracker collection ---\n",
    "# Progress bar updates every 'interval' steps\n",
    "progress = ProgressTracker(interval=interval)\n",
    "\n",
    "# Live plots (you can adjust scale, cmap, etc.)\n",
    "plots = PlotTracker(interval=interval, plot_args={\"figsize\": (6, 4)}, \n",
    "                    show=True, tight_layout=True)\n",
    "\n",
    "# If you want both at once, wrap them in a list\n",
    "trackers = [progress, plots, tracker_class(grid, interval=interval)]\n",
    "\n",
    "# --- Run simulation ---\n",
    "state = model.solve(state, t_range=T, dt=dt, tracker=trackers)\n",
    "\n",
    "# --- Collect results from your custom tracker ---\n",
    "result = {\n",
    "    **param_dict,\n",
    "    **trackers[-1].get_metrics(),  # last tracker is your custom one\n",
    "}"
   ]
  },
  {
   "cell_type": "code",
   "execution_count": null,
   "metadata": {},
   "outputs": [],
   "source": [
    "import plotly.express as px\n",
    "import plotly.graph_objects as go\n",
    "\n",
    "x_grid = np.linspace(0, L, int(L/dx)) - L/dx/2\n",
    "\n",
    "fig = go.Figure()\n",
    "fig.add_traces(go.Scatter(\n",
    "    x=x_grid, \n",
    "    y=result[\"profile_Activator\"] / result[\"K_A\"], \n",
    "    mode=\"lines\", \n",
    "    line=dict(width=3, color=\"#8da0cb\"),  # Set2 blue\n",
    "    fill=\"tozeroy\",\n",
    "    fillcolor=\"rgba(141, 160, 203, 0.3)\",  # semi-transparent blue\n",
    "    name=\"Nodal\"\n",
    "))\n",
    "fig.add_traces(go.Scatter(\n",
    "    x=x_grid, \n",
    "    y=result[\"profile_Repressor\"] / result[\"K_I\"], \n",
    "    mode=\"lines\", \n",
    "    line=dict(width=3, color=\"#fc8d62\"),  # Set2 red\n",
    "    fill=\"tozeroy\",\n",
    "    fillcolor=\"rgba(252, 141, 98, 0.3)\",  # semi-transparent red\n",
    "    name=\"Lefty\"\n",
    "))\n",
    "fig.show()\n",
    "\n"
   ]
  },
  {
   "cell_type": "code",
   "execution_count": null,
   "metadata": {},
   "outputs": [],
   "source": [
    "result"
   ]
  },
  {
   "cell_type": "code",
   "execution_count": null,
   "metadata": {},
   "outputs": [],
   "source": []
  }
 ],
 "metadata": {
  "kernelspec": {
   "display_name": "Python 3 (ipykernel)",
   "language": "python",
   "name": "python3"
  },
  "language_info": {
   "codemirror_mode": {
    "name": "ipython",
    "version": 3
   },
   "file_extension": ".py",
   "mimetype": "text/x-python",
   "name": "python",
   "nbconvert_exporter": "python",
   "pygments_lexer": "ipython3",
   "version": "3.10.18"
  }
 },
 "nbformat": 4,
 "nbformat_minor": 4
}
