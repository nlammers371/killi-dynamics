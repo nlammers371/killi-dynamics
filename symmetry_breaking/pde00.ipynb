{
 "cells": [
  {
   "cell_type": "markdown",
   "metadata": {},
   "source": [
    "### Initial test"
   ]
  },
  {
   "cell_type": "code",
   "execution_count": null,
   "metadata": {
    "pycharm": {
     "is_executing": true
    }
   },
   "outputs": [],
   "source": [
    "from pde import DiffusionPDE, ScalarField, UnitGrid\n",
    "\n",
    "grid = UnitGrid([64, 64])  # generate grid\n",
    "state = ScalarField.random_uniform(grid, 0.2, 0.3)  # generate initial condition\n",
    "\n",
    "eq = DiffusionPDE(diffusivity=0.1)  # define the pde\n",
    "result = eq.solve(state, t_range=10)\n",
    "result.plot()"
   ]
  },
  {
   "cell_type": "markdown",
   "metadata": {
    "jupyter": {
     "outputs_hidden": false
    }
   },
   "source": [
    "## Turing-like R/A system"
   ]
  },
  {
   "cell_type": "markdown",
   "metadata": {},
   "source": [
    "Initilize fields"
   ]
  },
  {
   "cell_type": "code",
   "execution_count": null,
   "metadata": {},
   "outputs": [],
   "source": [
    "# from pde import CartesianGrid, ScalarField, PDE\n",
    "# import numpy as np\n",
    "# import matplotlib.pyplot as plt\n",
    "\n",
    "# # (i) Define a 2D periodic grid\n",
    "# L = 50.0                     # physical length\n",
    "# N = 128                      # number of grid points per axis\n",
    "# grid = CartesianGrid([[0, L], [0, L]], shape=(N, N), periodic=True)\n",
    "\n",
    "# # (ii) Initialize fields directly from NumPy arrays\n",
    "# D_data = 1 + 0.05 * np.sin(2 * np.pi * np.linspace(0, 1, N))[:, None] * np.ones((1, N))\n",
    "# A_data = 0.5 + 0.1 * np.random.rand(N, N)\n",
    "# R_data = 0.5 + 0.1 * np.random.rand(N, N)\n",
    "\n",
    "# D = ScalarField(grid, data=D_data)\n",
    "# A = ScalarField(grid, data=A_data)\n",
    "# R = ScalarField(grid, data=R_data)\n",
    "\n",
    "# # Optional visualization\n",
    "# fig, axs = plt.subplots(1, 3, figsize=(12, 4))\n",
    "# D.plot(ax=axs[0], title=\"Substrate D\")\n",
    "# A.plot(ax=axs[1], title=\"Activator A\")\n",
    "# R.plot(ax=axs[2], title=\"Repressor R\")\n",
    "# plt.tight_layout(); plt.show()"
   ]
  },
  {
   "cell_type": "markdown",
   "metadata": {},
   "source": [
    "Define a function that gives the logic of the PDE system"
   ]
  },
  {
   "cell_type": "code",
   "execution_count": null,
   "metadata": {},
   "outputs": [],
   "source": [
    "from pde import FieldCollection, PDEBase, PlotTracker, ScalarField, UnitGrid\n",
    "\n",
    "\n",
    "class SIRPDE(PDEBase):\n",
    "    \"\"\"SIR-model with diffusive mobility\"\"\"\n",
    "\n",
    "    def __init__(\n",
    "        self, beta=0.3, gamma=0.9, diffusivity=0.1, bc=\"auto_periodic_neumann\"\n",
    "    ):\n",
    "        super().__init__()\n",
    "        self.beta = beta  # transmission rate\n",
    "        self.gamma = gamma  # recovery rate\n",
    "        self.diffusivity = diffusivity  # spatial mobility\n",
    "        self.bc = bc  # boundary condition\n",
    "\n",
    "    def get_state(self, s, i):\n",
    "        \"\"\"generate a suitable initial state\"\"\"\n",
    "        norm = (s + i).data.max()  # maximal density\n",
    "        if norm > 1:\n",
    "            s /= norm\n",
    "            i /= norm\n",
    "        s.label = \"Susceptible\"\n",
    "        i.label = \"Infected\"\n",
    "\n",
    "        # create recovered field\n",
    "        r = ScalarField(s.grid, data=1 - s - i, label=\"Recovered\")\n",
    "        return FieldCollection([s, i, r])\n",
    "\n",
    "    def evolution_rate(self, state, t=0):\n",
    "        s, i, r = state\n",
    "        diff = self.diffusivity\n",
    "        ds_dt = diff * s.laplace(self.bc) - self.beta * i * s\n",
    "        di_dt = diff * i.laplace(self.bc) + self.beta * i * s - self.gamma * i\n",
    "        dr_dt = diff * r.laplace(self.bc) + self.gamma * i\n",
    "        return FieldCollection([ds_dt, di_dt, dr_dt])\n",
    "\n",
    "\n",
    "eq = SIRPDE(beta=2, gamma=0.1)\n",
    "\n",
    "# initialize state\n",
    "grid = UnitGrid([32, 32])\n",
    "s = ScalarField(grid.copy(), 1)\n",
    "i = ScalarField(grid.copy(), 0)\n",
    "i.data[0, 0] = 1\n",
    "state = eq.get_state(s, i)\n",
    "\n",
    "# simulate the pde\n",
    "tracker = PlotTracker(interval=10, plot_args={\"vmin\": 0, \"vmax\": 1})\n",
    "sol = eq.solve(state, t_range=50, dt=1e-2, tracker=[\"progress\", tracker])"
   ]
  },
  {
   "cell_type": "code",
   "execution_count": null,
   "metadata": {},
   "outputs": [],
   "source": [
    "from pde import ScalarField, FieldCollection, PDEBase\n",
    "# from pde.tools.misc import skip_args\n",
    "\n",
    "class TuringPDE(PDEBase):\n",
    "    def __init__(self,\n",
    "                 Da=0.01, Dr=0.2,\n",
    "                 alpha=1.0, beta=1.0, gamma=0.5, decay=0.1,\n",
    "                 bc=\"auto_periodic_neumann\",\n",
    "                 n_A_spots=5, n_R_spots=2,hill=None):\n",
    "        super().__init__()\n",
    "        self.Da = Da\n",
    "        self.Dr = Dr\n",
    "        self.alpha = alpha\n",
    "        self.beta = beta\n",
    "        self.gamma = gamma\n",
    "        self.decay = decay\n",
    "        self.bc = bc\n",
    "        self.n_A_spots = n_A_spots\n",
    "        self.n_R_spots = n_R_spots\n",
    "        self.hill = hill\n",
    "\n",
    "    def evolution_rate(self, state, t=0):\n",
    "        A, R = state  # Activator, Repressor\n",
    "\n",
    "        f_A = self.alpha * A**self.hill0 / (1 + R**self.hill1) - self.beta * A\n",
    "        f_R = self.gamma * A**self.hill2 - self.decay * R\n",
    "\n",
    "        dA_dt = self.Da * A.laplace(self.bc) + f_A\n",
    "        dR_dt = self.Dr * R.laplace(self.bc) + f_R\n",
    "\n",
    "        return FieldCollection([dA_dt, dR_dt])\n",
    "\n",
    "    def get_state(self, grid):\n",
    "        A = self.make_spot_field(grid, n_spots=self.n_A_spots,\n",
    "                                 radius=2, amplitude_range=(0.5, 1.0)).copy(label=\"Activator\")\n",
    "        R = self.make_spot_field(grid, n_spots=self.n_R_spots,\n",
    "                                 radius=2, amplitude_range=(0.2, 0.6)).copy(label=\"Repressor\")\n",
    "        return FieldCollection([A, R])\n",
    "\n",
    "    def make_spot_field(self, grid, n_spots=3, radius=2, amplitude_range=(0.5, 1.0), seed=None):\n",
    "        if seed is not None:\n",
    "            np.random.seed(seed)\n",
    "    \n",
    "        field = ScalarField(grid, data=0.0)\n",
    "    \n",
    "        # Build coordinate arrays manually\n",
    "        Nx, Ny = grid.shape\n",
    "        (x_min, x_max), (y_min, y_max) = grid.axes_bounds\n",
    "        x = np.linspace(x_min, x_max, Nx)\n",
    "        y = np.linspace(y_min, y_max, Ny)\n",
    "        X, Y = np.meshgrid(x, y, indexing=\"ij\")  # shape (Nx, Ny)\n",
    "    \n",
    "        for _ in range(n_spots):\n",
    "            cx, cy = np.random.uniform(x_min, x_max), np.random.uniform(y_min, y_max)\n",
    "            # radius = np.random.uniform(*radius_range)\n",
    "            amplitude = np.random.uniform(*amplitude_range)\n",
    "    \n",
    "            dist2 = (X - cx)**2 + (Y - cy)**2\n",
    "            field.data += amplitude * np.exp(-dist2 / (2 * radius**2))\n",
    "    \n",
    "        return field\n",
    "    \n"
   ]
  },
  {
   "cell_type": "code",
   "execution_count": null,
   "metadata": {},
   "outputs": [],
   "source": [
    "from pde import UnitGrid, PlotTracker\n",
    "\n",
    "from pde import CartesianGrid\n",
    "L = 50.0  # Physical domain size\n",
    "N = 128   # Grid resolution\n",
    "grid = CartesianGrid([[0, L], [0, L]], shape=(N, N), periodic=True)\n",
    "\n",
    "# Initialize PDE and state\n",
    "eq = TuringPDE(\n",
    "    Da=0.005, Dr=0.3,\n",
    "    alpha=2.0,   # ↑ stronger A production\n",
    "    beta=0.002,    # ↓ slower A degradation\n",
    "    gamma=10,   # ↑ stronger R production\n",
    "    decay=0.002,    # ↓ slower R degradation,\n",
    "    n_A_spots=2,\n",
    "    n_R_spots=0,\n",
    "    hill=5\n",
    ")\n",
    "state = eq.get_state(grid)\n",
    "\n",
    "# Run simulation with inline visualization\n",
    "tracker = PlotTracker(interval=100)\n",
    "result = eq.solve(state, t_range=2500, dt=0.1, tracker=[\"progress\", tracker])"
   ]
  },
  {
   "cell_type": "code",
   "execution_count": null,
   "metadata": {},
   "outputs": [],
   "source": [
    "12*4*3*3"
   ]
  },
  {
   "cell_type": "code",
   "execution_count": null,
   "metadata": {},
   "outputs": [],
   "source": []
  }
 ],
 "metadata": {
  "kernelspec": {
   "display_name": "Python 3 (ipykernel)",
   "language": "python",
   "name": "python3"
  },
  "language_info": {
   "codemirror_mode": {
    "name": "ipython",
    "version": 3
   },
   "file_extension": ".py",
   "mimetype": "text/x-python",
   "name": "python",
   "nbconvert_exporter": "python",
   "pygments_lexer": "ipython3",
   "version": "3.10.18"
  }
 },
 "nbformat": 4,
 "nbformat_minor": 4
}
