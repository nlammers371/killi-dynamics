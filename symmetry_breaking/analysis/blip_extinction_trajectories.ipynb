{
 "cells": [
  {
   "cell_type": "code",
   "execution_count": null,
   "id": "0",
   "metadata": {},
   "outputs": [],
   "source": [
    "import pandas as pd\n",
    "import plotly.express as px\n",
    "import numpy as np\n",
    "from pathlib import Path\n",
    "from compile_sweep_results import compile_sweep_results\n",
    "from tqdm import tqdm"
   ]
  },
  {
   "cell_type": "code",
   "execution_count": null,
   "id": "1",
   "metadata": {
    "jupyter": {
     "is_executing": true
    }
   },
   "outputs": [],
   "source": [
    "root = Path(\"/Users/nick/Cole Trapnell's Lab Dropbox/Nick Lammers/Nick/symmetry_breaking/sweep_results/\")\n",
    "sweep_name = \"sweep03_extinction\"\n",
    "output_dir = root / sweep_name"
   ]
  },
  {
   "cell_type": "code",
   "execution_count": null,
   "id": "2",
   "metadata": {},
   "outputs": [],
   "source": [
    "rows = []\n",
    "\n",
    "for path in tqdm(output_dir.glob(\"*.json\")):\n",
    "    # First try pandas' JSON reader for Series format\n",
    "    s = pd.read_json(path, typ=\"series\")\n",
    "    s = s.copy()\n",
    "    s[\"__source_file__\"] = path.name\n",
    "    s[\"sim_id\"] = s[\"__source_file__\"].replace(\"result_\", \"\").replace(\".json\", \"\")\n",
    "    rows.append(s)"
   ]
  },
  {
   "cell_type": "markdown",
   "id": "3",
   "metadata": {},
   "source": [
    "### Compile results into pandas dataframes"
   ]
  },
  {
   "cell_type": "code",
   "execution_count": null,
   "id": "4",
   "metadata": {},
   "outputs": [],
   "source": [
    "array_cols = [\"Activator\", \"Repressor\", \"rho\"]\n",
    "skip_cols = [\"x\", \"times\"] + array_cols\n",
    "param_cols = [col for col in rows[0].keys() if col not in [\"sim_id\"] + skip_cols]\n",
    "param_cols = [\"sim_id\"] + param_cols\n",
    "\n",
    "x_grid = (np.asarray(rows[0][\"x\"]) - 1500)[:, None]\n",
    "t_grid = np.asarray(rows[0][\"times\"])[:, None]\n",
    "x_cols = [f\"x{i:04}\" for i in range(len(x_grid))]\n",
    "\n",
    "param_dfs = []\n",
    "activator_dfs = []\n",
    "repressor_dfs = []\n",
    "rho_dfs = []\n",
    "# iterate\n",
    "for row in tqdm(rows):\n",
    "\n",
    "    # params\n",
    "    p_temp = pd.DataFrame(row[param_cols])\n",
    "    param_dfs.append(p_temp.T)\n",
    "    \n",
    "    sim_id_vec = np.tile(row[\"sim_id\"], len(t_grid))[:, None]\n",
    "    # N df\n",
    "    a_array = np.asarray(row[\"Activator\"])\n",
    "    a_temp = pd.DataFrame(np.c_[sim_id_vec, t_grid, a_array], columns=[\"sim_id\", \"t\"] + x_cols)\n",
    "    activator_dfs.append(a_temp)\n",
    "    # L df\n",
    "    r_array = np.asarray(row[\"Repressor\"])\n",
    "    r_temp = pd.DataFrame(np.c_[sim_id_vec, t_grid, r_array], columns=[\"sim_id\", \"t\"] + x_cols)\n",
    "    repressor_dfs.append(r_temp)\n",
    "    # rho df\n",
    "    rho_array = np.asarray(row[\"rho\"])\n",
    "    rho_temp = pd.DataFrame(np.c_[sim_id_vec, t_grid, rho_array], columns=[\"sim_id\", \"t\"] + x_cols)\n",
    "    rho_dfs.append(rho_temp)\n",
    "\n",
    "\n",
    "Nodal_df = pd.concat(activator_dfs, axis=0, ignore_index=True)\n",
    "Lefty_df = pd.concat(repressor_dfs, axis=0, ignore_index=True)\n",
    "rho_df = pd.concat(rho_dfs, axis=0, ignore_index=True)\n",
    "param_df = pd.concat(param_dfs, axis=0, ignore_index=True)\n",
    "\n",
    "Nodal_df.head()"
   ]
  },
  {
   "cell_type": "markdown",
   "id": "5",
   "metadata": {},
   "source": [
    "### Calculate profile stats/trajectories"
   ]
  },
  {
   "cell_type": "code",
   "execution_count": null,
   "id": "6",
   "metadata": {},
   "outputs": [],
   "source": [
    "sigma_N = 10\n",
    "mu_L = 0.0002275846\n",
    "mu_N = mu_L * 1.11e-4/0.61e-4\n",
    "# target domain sigma: 250\n",
    "d_sigma = 250\n",
    "ref_grid = x_grid.ravel()\n",
    "# generate calculation masks\n",
    "mid_mask = np.abs(ref_grid) <= d_sigma\n",
    "left_mask = ref_grid < -d_sigma\n",
    "right_mask = ref_grid > d_sigma"
   ]
  },
  {
   "cell_type": "code",
   "execution_count": null,
   "id": "7",
   "metadata": {},
   "outputs": [],
   "source": [
    "# nodal_factor_vec = np.tile(np.asarray(np.divide(sigma_N, param_df[\"mu_L\"]*,))[:, None], len(t_grid))\n",
    "# lefty_factor_vec = np.tile(np.asarray(np.divide(param_df[\"sigma_L\"], param_df[\"mu_L\"]))[:, None], len(t_grid))"
   ]
  },
  {
   "cell_type": "code",
   "execution_count": null,
   "id": "8",
   "metadata": {},
   "outputs": [],
   "source": [
    "nodal_array = Nodal_df.loc[:, x_cols].to_numpy().astype(float)\n",
    "N_left = np.mean(nodal_array[:, left_mask==1], axis=1)\n",
    "N_center = np.mean(nodal_array[:, mid_mask==1], axis=1)\n",
    "N_right = np.mean(nodal_array[:, right_mask==1], axis=1)\n",
    "\n",
    "lefty_array = Lefty_df.loc[:, x_cols].to_numpy().astype(float)\n",
    "L_left = np.mean(lefty_array[:, left_mask==1], axis=1)\n",
    "L_center = np.mean(lefty_array[:, mid_mask==1], axis=1)\n",
    "L_right = np.mean(lefty_array[:, right_mask==1], axis=1)"
   ]
  },
  {
   "cell_type": "code",
   "execution_count": null,
   "id": "9",
   "metadata": {},
   "outputs": [],
   "source": [
    "pattern_df = pd.DataFrame(Nodal_df.loc[:, \"sim_id\"]).merge(param_df, how=\"left\", on=\"sim_id\")\n",
    "pattern_df[\"N_left\"] = N_left\n",
    "pattern_df[\"N_center\"] = N_center \n",
    "pattern_df[\"N_right\"] = N_right\n",
    "\n",
    "pattern_df[\"L_left\"] = L_left\n",
    "pattern_df[\"L_center\"] = L_center \n",
    "pattern_df[\"L_right\"] = L_right\n",
    "\n",
    "pattern_df.head()"
   ]
  },
  {
   "cell_type": "code",
   "execution_count": null,
   "id": "10",
   "metadata": {},
   "outputs": [],
   "source": [
    "fig = px.scatter(pattern_df, x=\"N_center\", y=\"N_left\")\n",
    "fig.show()"
   ]
  },
  {
   "cell_type": "code",
   "execution_count": null,
   "id": "11",
   "metadata": {},
   "outputs": [],
   "source": [
    "pd.DataFrame(param_dfs)"
   ]
  },
  {
   "cell_type": "code",
   "execution_count": null,
   "id": "12",
   "metadata": {},
   "outputs": [],
   "source": []
  }
 ],
 "metadata": {
  "kernelspec": {
   "display_name": "Python 3 (ipykernel)",
   "language": "python",
   "name": "python3"
  },
  "language_info": {
   "codemirror_mode": {
    "name": "ipython",
    "version": 3
   },
   "file_extension": ".py",
   "mimetype": "text/x-python",
   "name": "python",
   "nbconvert_exporter": "python",
   "pygments_lexer": "ipython3",
   "version": "3.10.18"
  }
 },
 "nbformat": 4,
 "nbformat_minor": 5
}
