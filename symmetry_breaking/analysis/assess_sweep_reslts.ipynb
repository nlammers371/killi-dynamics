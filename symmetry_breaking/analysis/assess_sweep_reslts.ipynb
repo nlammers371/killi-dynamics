{
 "cells": [
  {
   "cell_type": "code",
   "execution_count": null,
   "id": "0",
   "metadata": {},
   "outputs": [],
   "source": [
    "import pandas as pd\n",
    "import plotly.express as px\n",
    "import numpy as np\n",
    "from pathlib import Path\n",
    "from compile_sweep_results import compile_sweep_results"
   ]
  },
  {
   "cell_type": "code",
   "execution_count": null,
   "id": "1",
   "metadata": {},
   "outputs": [],
   "source": [
    "root = Path(\"/media/nick/hdd021/Cole Trapnell's Lab Dropbox/Nick Lammers/Nick/symmetry_breaking/pde/sweeps/\")\n",
    "sweep_name = \"sweep01\"\n",
    "df = compile_sweep_results(output_dir=root / sweep_name)\n",
    "print(df.shape)\n",
    "df.head()"
   ]
  },
  {
   "cell_type": "code",
   "execution_count": null,
   "id": "2",
   "metadata": {},
   "outputs": [],
   "source": [
    "fig = px.scatter(df, x=\"roi_frac\", y=\"max_fold_change\", log_y=True)\n",
    "# add a line at y=1\n",
    "fig.add_hline(y=1, line_dash=\"dash\", line_color=\"white\", annotation_text=\"y=1\", annotation_position=\"top left\")\n",
    "# add vertical line at x=500/3500\n",
    "fig.add_vline(x=500/3500, line_dash=\"dash\", line_color=\"white\", annotation_text=\"x=500/3500\", annotation_position=\"top right\")\n",
    "# set axis limits\n",
    "fig.update_xaxes(title_text=\"Fraction of ROI\", range=[0, 1])\n",
    "fig.update_yaxes(title_text=\"Max Fold Change\", range=[-4, 4])\n",
    "\n",
    "fig.show()"
   ]
  },
  {
   "cell_type": "code",
   "execution_count": null,
   "id": "3",
   "metadata": {},
   "outputs": [],
   "source": [
    "df.shape"
   ]
  },
  {
   "cell_type": "code",
   "execution_count": null,
   "id": "4",
   "metadata": {},
   "outputs": [],
   "source": []
  }
 ],
 "metadata": {
  "kernelspec": {
   "display_name": "Python 3",
   "language": "python",
   "name": "python3"
  },
  "language_info": {
   "codemirror_mode": {
    "name": "ipython",
    "version": 2
   },
   "file_extension": ".py",
   "mimetype": "text/x-python",
   "name": "python",
   "nbconvert_exporter": "python",
   "pygments_lexer": "ipython2",
   "version": "2.7.6"
  }
 },
 "nbformat": 4,
 "nbformat_minor": 5
}
