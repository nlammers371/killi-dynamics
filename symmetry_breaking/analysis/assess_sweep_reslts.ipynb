{
 "cells": [
  {
   "cell_type": "code",
   "execution_count": null,
   "id": "0",
   "metadata": {},
   "outputs": [],
   "source": [
    "import pandas as pd\n",
    "import plotly.express as px\n",
    "import numpy as np\n",
    "from pathlib import Path\n",
    "from compile_sweep_results import compile_sweep_results"
   ]
  },
  {
   "cell_type": "code",
   "execution_count": null,
   "id": "1",
   "metadata": {
    "jupyter": {
     "is_executing": true
    }
   },
   "outputs": [],
   "source": [
    "root = Path(\"/media/nick/hdd021/Cole Trapnell's Lab Dropbox/Nick Lammers/Nick/symmetry_breaking/pde/sweeps/\")\n",
    "sweep_name = \"sweep01_neutralization_v2\"\n",
    "df = compile_sweep_results(output_dir=root / sweep_name)\n",
    "print(df.shape)\n",
    "df.head()"
   ]
  },
  {
   "cell_type": "code",
   "execution_count": null,
   "id": "2",
   "metadata": {},
   "outputs": [],
   "source": [
    "fig = px.scatter(df, x=\"roi_frac\", y=\"roi_fold_change\", log_y=True)\n",
    "# add a line at y=1\n",
    "fig.add_hline(y=1, line_dash=\"dash\", line_color=\"white\", annotation_text=\"y=1\", annotation_position=\"top left\")\n",
    "# add vertical line at x=500/3500\n",
    "fig.add_vline(x=500/3500, line_dash=\"dash\", line_color=\"white\", annotation_text=\"x=500/3500\", annotation_position=\"top right\")\n",
    "# set axis limits\n",
    "fig.update_xaxes(title_text=\"Fraction of ROI\", range=[0, 1])\n",
    "fig.update_yaxes(title_text=\"Max Fold Change\", range=[-4, 4])\n",
    "\n",
    "fig.show()"
   ]
  },
  {
   "cell_type": "code",
   "execution_count": null,
   "id": "3",
   "metadata": {},
   "outputs": [],
   "source": [
    "df[\"sim_id\"] = df[\"__source_file__\"].str.replace(\"result_\", \"\").str.replace(\".json\", \"\")"
   ]
  },
  {
   "cell_type": "code",
   "execution_count": null,
   "id": "4",
   "metadata": {},
   "outputs": [],
   "source": [
    "param_cols = [\"sim_id\", 'K_NL', 'K_A', 'K_R', 'K_I', 'mu_L', 'N_amp', 'N_sigma', 'sigma_N',\n",
    "       'sigma_L', 'D0_N', 'D0_L', 'alpha_L',\n",
    "       'alpha_N', 'tau_rho', 'n', 'm', 'p', 'q', 'roi_frac', 'roi_fold_change',\n",
    "       'max_fold_change']\n",
    "param_df = df[param_cols].copy()\n",
    "\n",
    "nodal_df = df[[\"sim_id\", 'profile_Activator']].copy()\n",
    "lefty_df = df[[\"sim_id\", 'profile_Repressor']].copy()\n",
    "rho_df = df[[\"sim_id\", 'profile_rho']].copy()\n",
    "\n",
    "# save\n",
    "param_df.to_csv(root / f\"{sweep_name}_params_df.csv\", index=False)\n",
    "nodal_df.to_csv(root / f\"{sweep_name}_nodal_df.csv\", index=False)\n",
    "lefty_df.to_csv(root / f\"{sweep_name}_lefty_df.csv\", index=False)\n",
    "rho_df.to_csv(root / f\"{sweep_name}_rho_df.csv\", index=False)"
   ]
  },
  {
   "cell_type": "code",
   "execution_count": null,
   "id": "5",
   "metadata": {},
   "outputs": [],
   "source": [
    "ind = np.where((df[\"max_fold_change\"] > 10) & (df[\"roi_frac\"] > 0.9))[0]\n",
    "df.loc[ind, \"sigma_L\"].unique()"
   ]
  },
  {
   "cell_type": "code",
   "execution_count": null,
   "id": "6",
   "metadata": {},
   "outputs": [],
   "source": [
    "nodal_profile = np.asarray(nodal_df.loc[ind[0], \"profile_Activator\"])\n",
    "fig = px.scatter(x=np.arange(len(nodal_profile)), y=nodal_profile)\n",
    "fig.show()"
   ]
  },
  {
   "cell_type": "code",
   "execution_count": null,
   "id": "7",
   "metadata": {},
   "outputs": [],
   "source": [
    "param_df.loc[ind]"
   ]
  },
  {
   "cell_type": "code",
   "execution_count": null,
   "id": "8",
   "metadata": {},
   "outputs": [],
   "source": [
    "df.loc[ind[0], \"__source_file__\"]"
   ]
  },
  {
   "cell_type": "code",
   "execution_count": null,
   "id": "9",
   "metadata": {},
   "outputs": [],
   "source": []
  }
 ],
 "metadata": {
  "kernelspec": {
   "display_name": "Python 3",
   "language": "python",
   "name": "python3"
  },
  "language_info": {
   "codemirror_mode": {
    "name": "ipython",
    "version": 2
   },
   "file_extension": ".py",
   "mimetype": "text/x-python",
   "name": "python",
   "nbconvert_exporter": "python",
   "pygments_lexer": "ipython2",
   "version": "2.7.6"
  }
 },
 "nbformat": 4,
 "nbformat_minor": 5
}
