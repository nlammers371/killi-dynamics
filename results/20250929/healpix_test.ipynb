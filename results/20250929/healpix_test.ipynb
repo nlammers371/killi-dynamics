{
 "cells": [
  {
   "cell_type": "code",
   "id": "0",
   "metadata": {
    "jupyter": {
     "outputs_hidden": true
    },
    "ExecuteTime": {
     "end_time": "2025-10-06T14:21:39.058614Z",
     "start_time": "2025-10-06T14:21:37.975672Z"
    }
   },
   "source": [
    "import numpy as np\n",
    "import zarr, healpy as hp\n",
    "import plotly.graph_objects as go\n",
    "from scipy.ndimage import gaussian_filter1d\n",
    "from pathlib import Path"
   ],
   "outputs": [],
   "execution_count": 1
  },
  {
   "cell_type": "code",
   "execution_count": null,
   "id": "1",
   "metadata": {},
   "outputs": [],
   "source": [
    "root = \"/media/nick/cluster/projects/data/killi_tracker/\"\n",
    "project_name = \"20250716\"\n",
    "projection_path = Path(root) / \"output_data\" / \"sphere_projections\" / project_name\n",
    "well_list = sorted(projection_path.glob(\"*.zarr\"))\n",
    "well_ind = 0\n",
    "well_zarr_path = well_list[well_ind]\n",
    "values_key=\"raw\"\n",
    "t_index=32\n",
    "channel=0\n",
    "nside=None,\n",
    "\n",
    "# --- load ---\n",
    "g = zarr.open_group(str(well_zarr_path), mode=\"r\")\n",
    "arr = g[values_key]   # shape (T, C, Npix) or (T, Npix)\n",
    "nval = arr.shape[-1]\n",
    "if nside is None:\n",
    "    nside = int(np.sqrt(nval/12))\n",
    "\n",
    "\n",
    "if arr.ndim == 3:\n",
    "    vals = np.array(arr[t_index, channel])\n",
    "elif arr.ndim == 2:\n",
    "    vals = np.array(arr[t_index])\n",
    "\n",
    "nval = vals.shape[-1]\n",
    "nside = int(np.sqrt(nval/12))\n",
    "npix = hp.nside2npix(nside)"
   ]
  },
  {
   "cell_type": "code",
   "execution_count": null,
   "id": "2",
   "metadata": {},
   "outputs": [],
   "source": [
    "# --- optional smoothing on HEALPix sphere ---\n",
    "# vals = gaussian_filter1d(vals, sigma=3, mode=\"wrap\")\n",
    "\n",
    "# --- get pixel centers on sphere ---\n",
    "theta, phi = hp.pix2ang(nside, np.arange(npix))\n",
    "x = np.sin(theta) * np.cos(phi)\n",
    "y = np.sin(theta) * np.sin(phi)\n",
    "z = np.cos(theta)\n",
    "\n",
    "# --- Plotly 3D scatter ---\n",
    "fig = go.Figure(\n",
    "    data=go.Scatter3d(\n",
    "        x=x, y=y, z=z,\n",
    "        mode=\"markers\",\n",
    "        marker=dict(\n",
    "            size=2,\n",
    "            color=vals,\n",
    "            colorscale=\"Viridis\",\n",
    "            showscale=True,\n",
    "            colorbar=dict(title=values_key)\n",
    "        )\n",
    "    )\n",
    ")\n",
    "fig.update_layout(\n",
    "    scene=dict(\n",
    "        xaxis=dict(visible=False),\n",
    "        yaxis=dict(visible=False),\n",
    "        zaxis=dict(visible=False),\n",
    "        aspectmode=\"data\"\n",
    "    ),\n",
    "    title=f\"{Path(well_zarr_path).name}  t={t_index}  ch={channel}\"\n",
    ")\n",
    "fig.show()"
   ]
  },
  {
   "cell_type": "code",
   "execution_count": null,
   "id": "3",
   "metadata": {},
   "outputs": [],
   "source": [
    "import numpy as np\n",
    "import healpy as hp\n",
    "import plotly.graph_objects as go\n",
    "\n",
    "def healpix_surface_plot(values, nside, n_theta=200, n_phi=400, cmap=\"Viridis\"):\n",
    "    # Regular grid in (theta, phi)\n",
    "    theta = np.linspace(0, np.pi, n_theta)\n",
    "    phi   = np.linspace(0, 2*np.pi, n_phi)\n",
    "    TH, PH = np.meshgrid(theta, phi, indexing=\"ij\")\n",
    "\n",
    "    # Interpolate HEALPix values onto the grid\n",
    "    vals_grid = hp.get_interp_val(values, TH.ravel(), PH.ravel(), nest=False)\n",
    "    vals_grid = vals_grid.reshape(TH.shape)\n",
    "\n",
    "    # Cartesian coords for unit sphere\n",
    "    X = np.sin(TH) * np.cos(PH)\n",
    "    Y = np.sin(TH) * np.sin(PH)\n",
    "    Z = np.cos(TH)\n",
    "\n",
    "    fig = go.Figure(\n",
    "        data=go.Surface(\n",
    "            x=X, y=Y, z=Z,\n",
    "            surfacecolor=vals_grid,\n",
    "            colorscale=cmap,\n",
    "            cmin=np.nanmin(vals_grid),\n",
    "            cmax=np.nanmax(vals_grid),\n",
    "            showscale=True\n",
    "        )\n",
    "    )\n",
    "    fig.update_layout(\n",
    "        scene=dict(\n",
    "            xaxis=dict(visible=False),\n",
    "            yaxis=dict(visible=False),\n",
    "            zaxis=dict(visible=False),\n",
    "            aspectmode=\"data\"\n",
    "        )\n",
    "    )\n",
    "    return fig\n"
   ]
  },
  {
   "cell_type": "code",
   "execution_count": null,
   "id": "4",
   "metadata": {},
   "outputs": [],
   "source": [
    "fig = healpix_surface_plot(vals, nside, n_theta=100, n_phi=200)\n",
    "fig.show()"
   ]
  },
  {
   "cell_type": "code",
   "execution_count": null,
   "id": "5",
   "metadata": {},
   "outputs": [],
   "source": []
  }
 ],
 "metadata": {
  "kernelspec": {
   "display_name": "Python 3 (ipykernel)",
   "language": "python",
   "name": "python3"
  },
  "language_info": {
   "codemirror_mode": {
    "name": "ipython",
    "version": 3
   },
   "file_extension": ".py",
   "mimetype": "text/x-python",
   "name": "python",
   "nbconvert_exporter": "python",
   "pygments_lexer": "ipython3",
   "version": "3.10.18"
  }
 },
 "nbformat": 4,
 "nbformat_minor": 5
}
