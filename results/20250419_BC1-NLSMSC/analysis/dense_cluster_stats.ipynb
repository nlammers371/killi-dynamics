{
 "cells": [
  {
   "cell_type": "code",
   "execution_count": null,
   "metadata": {
    "is_executing": true
   },
   "outputs": [],
   "source": [
    "import pandas as pd\n",
    "import numpy as np\n",
    "import plotly.express as px\n",
    "from pathlib import Path"
   ]
  },
  {
   "cell_type": "code",
   "execution_count": null,
   "metadata": {
    "jupyter": {
     "outputs_hidden": false
    }
   },
   "outputs": [],
   "source": [
    "root = Path(\"/Users/nick/Cole Trapnell's Lab Dropbox/Nick Lammers/Nick/killi_tracker/tracking/20250419_BC1-NLSMSC/tracking_20250328_redux/well0000/track_0000_0614/\")\n",
    "# load track class data\n",
    "track_class_df = pd.read_csv(root / \"track_class_df.csv\")\n",
    "# load sphere info\n",
    "sphere_df = pd.read_csv(root / \"sphere_fit.csv\")\n",
    "# load tracks\n",
    "scale_vec = np.asarray([3, 0.85, 0.85])\n",
    "track_df = pd.read_csv(root / \"tracks_fluo.csv\")\n",
    "track_df[[\"z\", \"y\", \"x\"]] = np.multiply(track_df[[\"z\", \"y\", \"x\"]].to_numpy(), scale_vec[None, :])\n",
    "track_class_df.head()"
   ]
  },
  {
   "cell_type": "code",
   "execution_count": null,
   "metadata": {},
   "outputs": [],
   "source": [
    "deep_track_df = track_df.copy().merge(track_class_df.loc[:, [\"track_id\", \"track_class\"]], how=\"left\", on=\"track_id\")\n",
    "deep_track_df = deep_track_df.loc[deep_track_df[\"track_class\"]==0]"
   ]
  },
  {
   "cell_type": "markdown",
   "metadata": {},
   "source": [
    "### Use NN stats to estimate each cell's local density"
   ]
  },
  {
   "cell_type": "code",
   "execution_count": null,
   "metadata": {},
   "outputs": [],
   "source": [
    "from src.symmetry_breaking.cluster_tracking import find_clusters_per_timepoint, track_clusters_over_time, stitch_tracklets\n",
    "from tqdm import tqdm \n",
    "\n",
    "# 1) clusters per frame\n",
    "clusters_by_t = find_clusters_per_timepoint(\n",
    "    deep_track_df, \n",
    "    sphere_df,\n",
    "    d_thresh=40.0, \n",
    "    min_size=25,  # tune\n",
    "    fluo_col=\"mean_fluo\",\n",
    "    sphere_center_cols=(\"xs\", \"ys\",\"zs\")\n",
    ")\n",
    "\n",
    "# 2) link across time (motion/feature-aware, with merges)\n",
    "cluster_ts, merges_df = track_clusters_over_time(\n",
    "    clusters_by_t,\n",
    "    link_metric=\"overlap\",         # or \"jaccard\"\n",
    "    sim_min=0.3,\n",
    "    max_centroid_angle=np.deg2rad(15),\n",
    "    w_sim=1.0, w_feat=0.7, w_pred=0.7,  # tune\n",
    "    pred_step=1.0\n",
    ")\n",
    "\n",
    "# 3) stitch fragmented tracklets (bridge small gaps, fix flips)\n",
    "stitched_ts, stitch_log = stitch_tracklets(\n",
    "    cluster_ts,\n",
    "    gap_max=2, window=1,\n",
    "    link_metric=\"overlap\", sim_min=0.3,\n",
    "    max_centroid_angle=np.deg2rad(15),\n",
    "    w_sim=1.0, w_feat=0.7, w_pred=0.7, w_size=3.0,\n",
    "    max_iters=3\n",
    ")"
   ]
  },
  {
   "cell_type": "code",
   "execution_count": null,
   "metadata": {},
   "outputs": [],
   "source": [
    "# cluster_ts.tail()"
   ]
  },
  {
   "cell_type": "code",
   "execution_count": null,
   "metadata": {},
   "outputs": [],
   "source": [
    "from src.utilities.plot_functions import format_2d_plotly\n",
    "\n",
    "cluster_ts[\"cluster_id\"] = cluster_ts[\"cluster_id\"].astype(int) \n",
    "fig = px.scatter(cluster_ts, x=\"fluo_mean\", y=\"deg_mean\", size=\"size\", color=\"t\")\n",
    "fig = format_2d_plotly(fig,axis_labels=[\"nuclear BC1\", \"average degree\"], marker_size=30)\n",
    "fig.update_traces(marker=dict(size=cluster_ts[\"size\"]))\n",
    "fig.update_xaxes(range=[100, 700])\n",
    "fig.update_yaxes(range=[0.9, 6])\n",
    "fig.show()"
   ]
  },
  {
   "cell_type": "code",
   "execution_count": null,
   "metadata": {},
   "outputs": [],
   "source": [
    "stitched_ts[\"cluster_id_stitched\"] = stitched_ts[\"cluster_id_stitched\"].astype(str) \n",
    "fig = px.scatter(stitched_ts, x=\"t\", y=\"fluo_mean\", size=\"size\", color=\"cluster_id_stitched\")\n",
    "# fig = format_2d_plotly(fig,axis_labels=[\"time\", \"average degree\"], marker_size=30)\n",
    "# fig.update_traces(marker=dict(size=cluster_ts[\"size\"]))\n",
    "fig.update_xaxes(range=[0, 614])\n",
    "# fig.update_yaxes(range=[0, 6])\n",
    "fig.show()"
   ]
  },
  {
   "cell_type": "code",
   "execution_count": null,
   "metadata": {},
   "outputs": [],
   "source": [
    "stitched_ts.columns"
   ]
  },
  {
   "cell_type": "code",
   "execution_count": null,
   "metadata": {},
   "outputs": [],
   "source": [
    "lag_vec = results[0][\"lags\"]\n",
    "nboots = 100\n",
    "\n",
    "xcorr_list = []\n",
    "xcorr_se_list = []\n",
    "for t in tqdm(range(len(t_bins)-1)):\n",
    "    results = result_dict[t]\n",
    "    xcorr_array = np.asarray([r[\"xcorr\"] for r in results])\n",
    "    options = np.arange(xcorr_array.shape[0])\n",
    "    mu_array = np.empty((nboots, xcorr_array.shape[1]))\n",
    "    for n in range(nboots):\n",
    "        boot_ids = np.random.choice(options, len(options), replace=True)\n",
    "        mu_array[n, :] = np.mean(xcorr_array[boot_ids, :], axis=0)\n",
    "    xcorr_mean = np.mean(mu_array, axis=0)\n",
    "    xcorr_se = np.std(mu_array, axis=0)\n",
    "    xcorr_list.append(xcorr_mean)\n",
    "    xcorr_se_list.append(xcorr_se)"
   ]
  },
  {
   "cell_type": "code",
   "execution_count": null,
   "metadata": {},
   "outputs": [],
   "source": [
    "lag_long = np.tile(lag_vec, len(t_bins)-1)\n",
    "id_vec = np.repeat(np.arange(len(t_bins)-1), len(xcorr_list[0]))\n",
    "xcorr_long = np.concatenate(xcorr_list, axis=0)\n",
    "xcorr_se_long = np.concatenate(xcorr_se_list, axis=0)\n",
    "\n",
    "x_df = pd.DataFrame(id_vec, columns=[\"time_group\"])\n",
    "x_df[\"lag\"] = lag_long\n",
    "x_df[\"corr\"] = xcorr_long\n",
    "x_df[\"corr_se\"] = xcorr_se_long"
   ]
  },
  {
   "cell_type": "code",
   "execution_count": null,
   "metadata": {},
   "outputs": [],
   "source": [
    "fig = px.line(x_df, x=\"lag\", y=\"corr\", error_y=\"corr_se\",color=\"time_group\")\n",
    "fig.show()"
   ]
  },
  {
   "cell_type": "code",
   "execution_count": null,
   "metadata": {},
   "outputs": [],
   "source": [
    "xcorr_array.shape"
   ]
  },
  {
   "cell_type": "code",
   "execution_count": null,
   "metadata": {},
   "outputs": [],
   "source": [
    "import plotly.graph_objects as go\n",
    "\n",
    "t = 100\n",
    "test_df = deep_track_df.loc[deep_track_df[\"t\"]==t, :]\n",
    "sp_test = sphere_df.loc[sphere_df[\"t\"]==t, :]\n",
    "fig = go.Figure()\n",
    "fig.add_traces(go.Scatter3d(x=test_df[\"x\"], y=test_df[\"y\"], z=test_df[\"z\"], mode=\"markers\", marker=dict(opacity=0.1, size=6)))\n",
    "fig.add_traces(go.Scatter3d(x=sp_test[\"xs\"], y=sp_test[\"ys\"], z=sp_test[\"zs\"], mode=\"markers\", marker=dict(size=6)))\n",
    "fig.show()"
   ]
  },
  {
   "cell_type": "code",
   "execution_count": null,
   "metadata": {},
   "outputs": [],
   "source": [
    "test_df.shape"
   ]
  },
  {
   "cell_type": "code",
   "execution_count": null,
   "metadata": {},
   "outputs": [],
   "source": [
    "A = 4*np.pi*501**2"
   ]
  },
  {
   "cell_type": "markdown",
   "metadata": {},
   "source": [
    "### "
   ]
  },
  {
   "cell_type": "code",
   "execution_count": null,
   "metadata": {},
   "outputs": [],
   "source": [
    "941/A * 1000 * 1000"
   ]
  },
  {
   "cell_type": "code",
   "execution_count": null,
   "metadata": {},
   "outputs": [],
   "source": []
  }
 ],
 "metadata": {
  "kernelspec": {
   "display_name": "Python 3 (ipykernel)",
   "language": "python",
   "name": "python3"
  },
  "language_info": {
   "codemirror_mode": {
    "name": "ipython",
    "version": 3
   },
   "file_extension": ".py",
   "mimetype": "text/x-python",
   "name": "python",
   "nbconvert_exporter": "python",
   "pygments_lexer": "ipython3",
   "version": "3.10.18"
  }
 },
 "nbformat": 4,
 "nbformat_minor": 4
}
