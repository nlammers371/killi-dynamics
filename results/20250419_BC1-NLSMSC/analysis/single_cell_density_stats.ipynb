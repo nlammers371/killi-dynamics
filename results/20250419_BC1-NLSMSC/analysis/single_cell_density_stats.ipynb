{
 "cells": [
  {
   "cell_type": "code",
   "execution_count": null,
   "metadata": {
    "is_executing": true
   },
   "outputs": [],
   "source": [
    "import pandas as pd\n",
    "import numpy as np\n",
    "import plotly.express as px\n",
    "from pathlib import Path"
   ]
  },
  {
   "cell_type": "code",
   "execution_count": null,
   "metadata": {
    "jupyter": {
     "outputs_hidden": false
    }
   },
   "outputs": [],
   "source": [
    "root = Path(\"/Users/nick/Cole Trapnell's Lab Dropbox/Nick Lammers/Nick/killi_tracker/tracking/20250419_BC1-NLSMSC/tracking_20250328_redux/well0000/track_0000_0614/\")\n",
    "# load track class data\n",
    "track_class_df = pd.read_csv(root / \"track_class_df.csv\")\n",
    "# load sphere info\n",
    "sphere_df = pd.read_csv(root / \"sphere_fit.csv\")\n",
    "# load tracks\n",
    "scale_vec = np.asarray([3, 0.85, 0.85])\n",
    "track_df = pd.read_csv(root / \"tracks_fluo.csv\")\n",
    "track_df[[\"z\", \"y\", \"x\"]] = np.multiply(track_df[[\"z\", \"y\", \"x\"]].to_numpy(), scale_vec[None, :])\n",
    "track_class_df.head()"
   ]
  },
  {
   "cell_type": "code",
   "execution_count": null,
   "metadata": {},
   "outputs": [],
   "source": [
    "deep_track_df = track_df.copy().merge(track_class_df.loc[:, [\"track_id\", \"track_class\"]], how=\"left\", on=\"track_id\")\n",
    "deep_track_df = deep_track_df.loc[deep_track_df[\"track_class\"]==0]"
   ]
  },
  {
   "cell_type": "markdown",
   "metadata": {},
   "source": [
    "### Use NN stats to estimate each cell's local density"
   ]
  },
  {
   "cell_type": "code",
   "execution_count": null,
   "metadata": {},
   "outputs": [],
   "source": [
    "from src.symmetry_breaking.density_functions import compute_spherical_knn_density, xcorr_laglead_by_track\n",
    "from tqdm import tqdm \n",
    "\n",
    "deep_track_df = compute_spherical_knn_density(tracks_df=deep_track_df,\n",
    "                                              sphere_df=sphere_df,\n",
    "                                              k=15, \n",
    "                                              method=\"trimmed\",\n",
    "                                              sphere_center_cols = (\"xs\",\"ys\",\"zs\")\n",
    "                                             )"
   ]
  },
  {
   "cell_type": "code",
   "execution_count": null,
   "metadata": {},
   "outputs": [],
   "source": [
    "t_bins = np.linspace(0, 615, 6)\n",
    "\n",
    "result_dict = {}\n",
    "for t in tqdm(range(len(t_bins)-1)):\n",
    "    t_start = t_bins[t]\n",
    "    t_stop = t_bins[t+1]\n",
    "    t_filter = (deep_track_df[\"t\"]>=t_start) & (deep_track_df[\"t\"] < t_stop)\n",
    "    df_temp = deep_track_df.loc[t_filter]\n",
    "    results = xcorr_laglead_by_track(\n",
    "            df= df_temp,\n",
    "            var_x= \"mean_fluo\",\n",
    "            var_y= \"rho_sphere\",\n",
    "            min_t= 50,\n",
    "            max_lag= 25 \n",
    "            )\n",
    "    result_dict[t] = results"
   ]
  },
  {
   "cell_type": "code",
   "execution_count": null,
   "metadata": {},
   "outputs": [],
   "source": [
    "lag_vec = results[0][\"lags\"]\n",
    "nboots = 100\n",
    "\n",
    "xcorr_list = []\n",
    "xcorr_se_list = []\n",
    "for t in tqdm(range(len(t_bins)-1)):\n",
    "    results = result_dict[t]\n",
    "    xcorr_array = np.asarray([r[\"xcorr\"] for r in results])\n",
    "    options = np.arange(xcorr_array.shape[0])\n",
    "    mu_array = np.empty((nboots, xcorr_array.shape[1]))\n",
    "    for n in range(nboots):\n",
    "        boot_ids = np.random.choice(options, len(options), replace=True)\n",
    "        mu_array[n, :] = np.mean(xcorr_array[boot_ids, :], axis=0)\n",
    "    xcorr_mean = np.mean(mu_array, axis=0)\n",
    "    xcorr_se = np.std(mu_array, axis=0)\n",
    "    xcorr_list.append(xcorr_mean)\n",
    "    xcorr_se_list.append(xcorr_se)"
   ]
  },
  {
   "cell_type": "code",
   "execution_count": null,
   "metadata": {},
   "outputs": [],
   "source": [
    "lag_long = np.tile(lag_vec, len(t_bins)-1)\n",
    "id_vec = np.repeat(np.arange(len(t_bins)-1), len(xcorr_list[0]))\n",
    "xcorr_long = np.concatenate(xcorr_list, axis=0)\n",
    "xcorr_se_long = np.concatenate(xcorr_se_list, axis=0)\n",
    "\n",
    "x_df = pd.DataFrame(id_vec, columns=[\"time_group\"])\n",
    "x_df[\"lag\"] = lag_long\n",
    "x_df[\"corr\"] = xcorr_long\n",
    "x_df[\"corr_se\"] = xcorr_se_long"
   ]
  },
  {
   "cell_type": "code",
   "execution_count": null,
   "metadata": {},
   "outputs": [],
   "source": [
    "fig = px.line(x_df, x=\"lag\", y=\"corr\", error_y=\"corr_se\",color=\"time_group\")\n",
    "fig.show()"
   ]
  },
  {
   "cell_type": "code",
   "execution_count": null,
   "metadata": {},
   "outputs": [],
   "source": [
    "xcorr_array.shape"
   ]
  },
  {
   "cell_type": "code",
   "execution_count": null,
   "metadata": {},
   "outputs": [],
   "source": [
    "import plotly.graph_objects as go\n",
    "\n",
    "t = 100\n",
    "test_df = deep_track_df.loc[deep_track_df[\"t\"]==t, :]\n",
    "sp_test = sphere_df.loc[sphere_df[\"t\"]==t, :]\n",
    "fig = go.Figure()\n",
    "fig.add_traces(go.Scatter3d(x=test_df[\"x\"], y=test_df[\"y\"], z=test_df[\"z\"], mode=\"markers\", marker=dict(opacity=0.1, size=6)))\n",
    "fig.add_traces(go.Scatter3d(x=sp_test[\"xs\"], y=sp_test[\"ys\"], z=sp_test[\"zs\"], mode=\"markers\", marker=dict(size=6)))\n",
    "fig.show()"
   ]
  },
  {
   "cell_type": "code",
   "execution_count": null,
   "metadata": {},
   "outputs": [],
   "source": [
    "test_df.shape"
   ]
  },
  {
   "cell_type": "code",
   "execution_count": null,
   "metadata": {},
   "outputs": [],
   "source": [
    "A = 4*np.pi*501**2"
   ]
  },
  {
   "cell_type": "markdown",
   "metadata": {},
   "source": [
    "### "
   ]
  },
  {
   "cell_type": "code",
   "execution_count": null,
   "metadata": {},
   "outputs": [],
   "source": [
    "941/A * 1000 * 1000"
   ]
  },
  {
   "cell_type": "code",
   "execution_count": null,
   "metadata": {},
   "outputs": [],
   "source": []
  }
 ],
 "metadata": {
  "kernelspec": {
   "display_name": "Python 3 (ipykernel)",
   "language": "python",
   "name": "python3"
  },
  "language_info": {
   "codemirror_mode": {
    "name": "ipython",
    "version": 3
   },
   "file_extension": ".py",
   "mimetype": "text/x-python",
   "name": "python",
   "nbconvert_exporter": "python",
   "pygments_lexer": "ipython3",
   "version": "3.10.18"
  }
 },
 "nbformat": 4,
 "nbformat_minor": 4
}
