{
 "cells": [
  {
   "cell_type": "code",
   "execution_count": null,
   "metadata": {},
   "outputs": [],
   "source": [
    "import pandas as pd\n",
    "import numpy as np\n",
    "import os\n",
    "from src.utilities.plot_functions import format_2d_plotly\n",
    "from ultrack.tracks.graph import get_paths_to_roots, tracks_df_forest, inv_tracks_df_forest\n",
    "from glob2 import glob\n",
    "from tqdm import tqdm"
   ]
  },
  {
   "cell_type": "markdown",
   "metadata": {},
   "source": [
    "## Ultrack may not want to track lcp+ cells, but by god we're going to make it"
   ]
  },
  {
   "cell_type": "markdown",
   "metadata": {},
   "source": [
    "## Load mask data"
   ]
  },
  {
   "cell_type": "code",
   "execution_count": null,
   "metadata": {},
   "outputs": [],
   "source": [
    "root = \"E:\\\\Nick\\\\Cole Trapnell's Lab Dropbox\\\\Nick Lammers\\\\Nick\\\\killi_tracker\\\\\"\n",
    "project_name = \"20250311_LCP1-NLSMSC\"\n",
    "\n",
    "# full mask dataset\n",
    "full_mask_fluo_dir = os.path.join(root, \"built_data\", \"fluorescence_data\", project_name, \"\")\n",
    "fluo_frames = sorted(glob(full_mask_fluo_dir + \"*.csv\"))\n",
    "fluo_df_list = []\n",
    "for df_path in tqdm(fluo_frames):\n",
    "    df = pd.read_csv(df_path)\n",
    "    fluo_df_list.append(df)\n",
    "\n",
    "fluo_df_full = pd.concat(fluo_df_list, axis=0, ignore_index=True)"
   ]
  },
  {
   "cell_type": "markdown",
   "metadata": {},
   "source": []
  },
  {
   "cell_type": "code",
   "execution_count": null,
   "metadata": {},
   "outputs": [],
   "source": [
    "fluo_df_full[\"stage\"] = 26 + fluo_df_full[\"frame\"]*1.5/60\n",
    "fig_path = os.path.join(root, \"figures\", \"tracking\", project_name)\n",
    "os.makedirs(fig_path, exist_ok=True)"
   ]
  },
  {
   "cell_type": "markdown",
   "metadata": {},
   "source": [
    "## Filter for only nuclei with bright lcp expression"
   ]
  },
  {
   "cell_type": "code",
   "execution_count": null,
   "metadata": {},
   "outputs": [],
   "source": [
    "import plotly.express as px\n",
    "\n",
    "# fluo_thresh = 110\n",
    "min_time = 70 # avoid weird early stuff\n",
    "N = 50\n",
    "# fluo_df_lcp = fluo_df_full.loc[(fluo_df_full[\"mean_fluo\"]>fluo_thresh) & (fluo_df_full[\"stage\"]>min_time), :].copy()\n",
    "fluo_df_lcp = fluo_df_full.loc[fluo_df_full[\"stage\"]>=min_time, :].groupby('frame', group_keys=False).apply(lambda g: g.nlargest(N, 'mean_fluo'))\n",
    "fluo_df_lcp.head()"
   ]
  },
  {
   "cell_type": "markdown",
   "metadata": {},
   "source": [
    "## Call track stitching...can we use this to track single-frame fragments?"
   ]
  },
  {
   "cell_type": "code",
   "execution_count": null,
   "metadata": {},
   "outputs": [],
   "source": [
    "tracks_df = fluo_df_lcp.rename(columns={\"frame\": \"t\"}).sort_values(by=[\"t\", \"nucleus_id\"])\n",
    "tracks_df['id'] = pd.factorize(list(zip(tracks_df['t'], tracks_df['nucleus_id'])))[0]\n",
    "tracks_df[\"parent_track_id\"] = -1\n",
    "tracks_df.shape"
   ]
  },
  {
   "cell_type": "code",
   "execution_count": null,
   "metadata": {},
   "outputs": [],
   "source": [
    "from ultrack.tracks.gap_closing import close_tracks_gaps\n",
    "from scipy.optimize import linear_sum_assignment\n",
    "from scipy.spatial import distance_matrix\n",
    "\n",
    "max_radius = 25\n",
    "scale_vec = np.asarray([3, 1, 1])\n",
    "time_index = np.unique(tracks_df[\"t\"])\n",
    "tracks_df[\"track_id\"] = -1\n",
    "# Split the DataFrame by the unique values in the 'group' column\n",
    "dfs = {key: group for key, group in tracks_df.groupby('t')}\n",
    "dfs[time_index[0]][\"track_id\"] = np.arange(dfs[time_index[0]].shape[0])\n",
    "\n",
    "# perform cell tracking\n",
    "for _, t1 in enumerate(tqdm(time_index[1:])):\n",
    "\n",
    "    # get prev locations and IDs\n",
    "    df0 = dfs[t1-1]\n",
    "    xyz0 = np.multiply(df0[[\"x\", \"y\", \"z\"]].to_numpy(), scale_vec)\n",
    "    extant_tracks = df0[\"track_id\"].to_numpy()\n",
    "    # get curr locations\n",
    "    df1 = dfs[t1]\n",
    "    xyz1 = np.multiply(df1[[\"x\", \"y\", \"z\"]].to_numpy(), scale_vec)\n",
    "\n",
    "    # get distances\n",
    "    dist_mat = distance_matrix(xyz1, xyz0)\n",
    "\n",
    "    # solve\n",
    "    row_ind, col_ind = linear_sum_assignment(dist_mat)\n",
    "\n",
    "    # assign track IDs\n",
    "    valid_links = dist_mat[row_ind, col_ind] < max_radius\n",
    "\n",
    "    new_track_ids = np.zeros_like(extant_tracks) - 1\n",
    "    new_track_ids[valid_links] = extant_tracks[col_ind[valid_links]]\n",
    "\n",
    "    # assign new track IDs\n",
    "    max_id = np.max(extant_tracks)\n",
    "    n_new = np.sum(~valid_links)\n",
    "    new_track_ids[~valid_links] = np.arange(max_id+1, max_id+n_new+1)\n",
    "\n",
    "    # assign to dataframe\n",
    "    df1[\"track_id\"] = new_track_ids\n",
    "    # assign to dictionary\n",
    "    dfs[t1] = df1\n"
   ]
  },
  {
   "cell_type": "code",
   "execution_count": null,
   "metadata": {},
   "outputs": [],
   "source": [
    "# convert dict to dataframe\n",
    "tracks_df = pd.concat(dfs.values(), axis=0, ignore_index=True)\n",
    "len(np.unique(tracks_df[\"track_id\"]))"
   ]
  },
  {
   "cell_type": "code",
   "execution_count": null,
   "metadata": {},
   "outputs": [],
   "source": [
    "# do stitching\n",
    "print(\"Stitching tracks...\")\n",
    "max_gap = 3\n",
    "max_radius = 25 * 3\n",
    "scale_vec = np.array([3, 1, 1])\n",
    "tracks_df_stitched = close_tracks_gaps(tracks_df, max_gap=max_gap, max_radius=max_radius, scale=scale_vec)\n",
    "\n",
    "# make save path\n",
    "data_path = os.path.join(root, \"built_data\", \"tracking\", project_name)\n",
    "os.makedirs(data_path, exist_ok=True)\n",
    "tracks_df_stitched.to_csv(os.path.join(data_path, \"lcp_tracks_df.csv\"), index=False)"
   ]
  },
  {
   "cell_type": "code",
   "execution_count": null,
   "metadata": {},
   "outputs": [],
   "source": [
    "len(np.unique(tracks_df_stitched[\"track_id\"]))"
   ]
  },
  {
   "cell_type": "code",
   "execution_count": null,
   "metadata": {},
   "outputs": [],
   "source": []
  }
 ],
 "metadata": {
  "kernelspec": {
   "display_name": "Python 3 (ipykernel)",
   "language": "python",
   "name": "python3"
  },
  "language_info": {
   "codemirror_mode": {
    "name": "ipython",
    "version": 3
   },
   "file_extension": ".py",
   "mimetype": "text/x-python",
   "name": "python",
   "nbconvert_exporter": "python",
   "pygments_lexer": "ipython3",
   "version": "3.10.13"
  }
 },
 "nbformat": 4,
 "nbformat_minor": 4
}
