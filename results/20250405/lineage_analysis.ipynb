{
 "cells": [
  {
   "cell_type": "code",
   "execution_count": 1,
   "metadata": {
    "pycharm": {
     "is_executing": true
    },
    "ExecuteTime": {
     "end_time": "2025-04-12T20:24:57.645247800Z",
     "start_time": "2025-04-12T20:24:46.745940900Z"
    }
   },
   "outputs": [],
   "source": [
    "import pandas as pd\n",
    "import numpy as np\n",
    "import os\n",
    "from ultrack.tracks.graph import get_paths_to_roots, tracks_df_forest"
   ]
  },
  {
   "cell_type": "markdown",
   "metadata": {},
   "source": [
    "## Load tracking data"
   ]
  },
  {
   "cell_type": "code",
   "execution_count": null,
   "metadata": {},
   "outputs": [],
   "source": [
    "# load tracks dataset\n",
    "root = \"/Users/nick/Cole Trapnell's Lab Dropbox/Nick Lammers/Nick/killi_tracker/\"\n",
    "project_name = \"20250311_LCP1-NLSMSC_local\"\n",
    "tracking_config = \"tracking_20250328_redux\"\n",
    "tracking_name = \"track_0000_2339_cb\"\n",
    "\n",
    "track_path = os.path.join(root, \"tracking\", project_name, tracking_config, \"well0000\", tracking_name, \"tracks_fluo.csv\")\n",
    "tracks_df_raw = pd.read_csv(track_path)\n",
    "track_path_s = os.path.join(root, \"tracking\", project_name, tracking_config, \"well0000\", tracking_name, \"tracks_fluo_stitched.csv\")\n",
    "tracks_df = pd.read_csv(track_path_s)"
   ]
  },
  {
   "cell_type": "code",
   "execution_count": null,
   "metadata": {},
   "outputs": [],
   "source": [
    "fig_path = os.path.join(root, \"figures\", \"tracking\", project_name, tracking_config)\n",
    "os.makedirs(fig_path, exist_ok=True)"
   ]
  },
  {
   "cell_type": "markdown",
   "metadata": {},
   "source": [
    "## Load raw nucleus mask data"
   ]
  },
  {
   "cell_type": "code",
   "execution_count": null,
   "metadata": {},
   "outputs": [],
   "source": [
    "from glob2 import glob\n",
    "from tqdm import tqdm\n",
    "\n",
    "fluo_path = os.path.join(root, \"built_data\", \"fluorescence_data\", project_name, \"\")\n",
    "fluo_df_path_list = sorted(glob(fluo_path + \"*.csv\"))\n",
    "fluo_df_list = []\n",
    "for fluo_p in tqdm(fluo_df_path_list):\n",
    "    df = pd.read_csv(fluo_p)\n",
    "    fluo_df_list.append(df)\n",
    "\n",
    "fluo_df = pd.concat(fluo_df_list, axis=0, ignore_index=True)"
   ]
  },
  {
   "cell_type": "markdown",
   "metadata": {},
   "source": [
    "### Plot numbers of cells over time"
   ]
  },
  {
   "cell_type": "code",
   "execution_count": null,
   "metadata": {},
   "outputs": [],
   "source": [
    "import plotly.express as px\n",
    "from src.utilities.plot_functions import format_2d_plotly\n",
    "\n",
    "# get tracking-based counts\n",
    "tid, tc = np.unique(tracks_df[\"t\"], return_counts=True)\n",
    "counts_df = pd.DataFrame(tid, columns=[\"frame\"])\n",
    "counts_df[\"n_nuclei_track\"] = tc\n",
    "\n",
    "# get segmentation-based counts\n",
    "tidf, tcf = np.unique(fluo_df[\"frame\"], return_counts=True)\n",
    "counts_df[\"n_nuclei_seg\"] = tcf\n",
    "\n",
    "counts_df[\"stage\"] = 26 + counts_df[\"frame\"] * 1.5 / 60\n",
    "\n",
    "fig = px.line(counts_df, x=\"stage\", y=\"n_nuclei_seg\")\n",
    "\n",
    "axis_labels = [\"stage (hpf)\", \"number of nuclei\"]\n",
    "\n",
    "fig = format_2d_plotly(fig, axis_labels=axis_labels, font_size=18)\n",
    "\n",
    "fig.update_traces(line=dict(width=4))\n",
    "\n",
    "fig.write_image(fig_path + \"n_cells_seg.png\")\n",
    "fig.show()"
   ]
  },
  {
   "cell_type": "code",
   "execution_count": null,
   "metadata": {},
   "outputs": [],
   "source": [
    "import plotly.graph_objects as go\n",
    "\n",
    "fig = px.line(counts_df, x=\"frame\", y=\"n_nuclei_seg\")\n",
    "\n",
    "fig.add_traces(go.Scatter(x=counts_df[\"frame\"], y=counts_df[\"n_nuclei_track\"], mode=\"lines\"))\n",
    "axis_labels = [\"stage (hpf)\", \"number of nuclei\"]\n",
    "\n",
    "fig = format_2d_plotly(fig, axis_labels=axis_labels, font_size=18)\n",
    "\n",
    "fig.update_traces(line=dict(width=4))\n",
    "\n",
    "# fig.write_image(fig_path + \"n_cells_seg.png\")\n",
    "fig.show()"
   ]
  },
  {
   "cell_type": "markdown",
   "metadata": {},
   "source": [
    "### Look at emergence of lcp+ cells"
   ]
  },
  {
   "cell_type": "code",
   "execution_count": null,
   "metadata": {},
   "outputs": [],
   "source": [
    "fluo_thresh = 115\n",
    "\n",
    "# # initialize\n",
    "# full_frame_vec = np.arange(0, np.max(tracks_df[\"t\"])+1)\n",
    "# track_counts = np.zeros_like(full_frame_vec)\n",
    "# seg_counts = np.zeros_like(full_frame_vec)\n",
    "\n",
    "# # tracking data\n",
    "# track_df_ft = tracks_df[\"mean_fluo\"] > fluo_thresh\n",
    "# tr_frames, tr_counts_ = np.unique(tracks_df.loc[track_df_ft, \"t\"], return_counts=True)\n",
    "# track_counts[tr_frames.astype(int)] = tr_counts\n",
    "\n",
    "# # mask data\n",
    "# mask_df_ft = fluo_df[\"mean_fluo\"] > fluo_thresh\n",
    "# m_frames, m_counts = np.unique(fluo_df.loc[mask_df_ft, \"frame\"], return_counts=True)\n",
    "# seg_counts[m_frames.astype(int)] = m_counts\n",
    "\n",
    "# # generate data frame\n",
    "# lcp_df0 = pd.DataFrame(full_frame_vec, columns=[\"frame\"])\n",
    "# lcp_df0[\"n_lcp_cells\"] = track_counts\n",
    "# lcp_df0[\"data type\"] = \"tracking\"\n",
    "\n",
    "# lcp_df1 = pd.DataFrame(full_frame_vec, columns=[\"frame\"])\n",
    "# lcp_df1[\"n_lcp_cells\"] = seg_counts\n",
    "# lcp_df1[\"data type\"] = \"segmentation\"\n",
    "\n",
    "# lcp_df = pd.concat([lcp_df0, lcp_df1], ignore_index=True)\n",
    "# lcp_df[\"stage\"] = 26 + lcp_df[\"frame\"] * 1.5 / 60 \n",
    "\n",
    "# fig = px.scatter(lcp_df, x=\"stage\", y=\"n_lcp_cells\", color=\"data type\", trendline=\"ols\", opacity=0.5, trendline_options={\"poly_order\": 3})\n",
    "\n",
    "# # fig.update_traces()\n",
    "\n",
    "# axis_labels = [\"stage (hpf)\", \"number of detected lcp+ cells\"]\n",
    "# fig = format_2d_plotly(fig, axis_labels=axis_labels, font_size=18)\n",
    "\n",
    "# fig.show()"
   ]
  },
  {
   "cell_type": "code",
   "execution_count": null,
   "metadata": {},
   "outputs": [],
   "source": [
    "\n",
    "# Choose a rolling window size (adjust based on your data):\n",
    "window_size = 40\n",
    "\n",
    "# Sort the DataFrame by stage so that rolling is done in the correct order:\n",
    "lcp_df = lcp_df.sort_values(\"stage\")\n",
    "\n",
    "# Group by \"data type\" and compute rolling mean and std.\n",
    "# Using min_periods=1 so that we still get values at the beginning.\n",
    "df_trend = lcp_df.groupby(\"data type\").apply(\n",
    "    lambda x: x.assign(\n",
    "        moving_avg=x[\"n_lcp_cells\"].rolling(window=window_size, center=True, min_periods=1).mean(),\n",
    "        moving_std=x[\"n_lcp_cells\"].rolling(window=window_size, center=True, min_periods=1).std()\n",
    "    )\n",
    ").reset_index(drop=True)\n",
    "\n",
    "# Use a defined color sequence from Plotly and build a mapping (you could also use a custom dictionary).\n",
    "color_sequence = px.colors.qualitative.Plotly\n",
    "unique_types = sorted(lcp_df[\"data type\"].unique())  # sort for consistency\n",
    "color_map = {dt: color for dt, color in zip(unique_types, color_sequence)}\n",
    "# Alternatively, you can pass a discrete map directly when calling px.scatter:\n",
    "fig = go.Figure()\n",
    "# px.scatter(\n",
    "#     lcp_df, \n",
    "#     x=\"stage\", \n",
    "#     y=\"n_lcp_cells\", \n",
    "#     color=\"data type\", \n",
    "#     color_discrete_map=color_map,\n",
    "#     opacity=0.5\n",
    "# )\n",
    "\n",
    "fig = format_2d_plotly(fig, axis_labels=axis_labels, font_size=18)\n",
    "\n",
    "# Calculate moving average and std (using a rolling window)\n",
    "lcp_df_sorted = lcp_df.sort_values(\"stage\")\n",
    "df_trend = lcp_df_sorted.groupby(\"data type\").apply(\n",
    "    lambda x: x.assign(\n",
    "        moving_avg=x[\"n_lcp_cells\"].rolling(window=window_size, center=True, min_periods=1).mean(),\n",
    "        moving_std=x[\"n_lcp_cells\"].rolling(window=window_size, center=True, min_periods=1).std()\n",
    "    )\n",
    ").reset_index(drop=True)\n",
    "\n",
    "# Utility: Convert HEX color to RGBA (for the translucent fill)\n",
    "def hex_to_rgba(hex_color, alpha=0.2):\n",
    "    hex_color = hex_color.lstrip(\"#\")\n",
    "    r, g, b = tuple(int(hex_color[i:i+2], 16) for i in (0, 2, 4))\n",
    "    return f\"rgba({r},{g},{b},{alpha})\"\n",
    "\n",
    "# Add traces for each data type: trendline and shaded error band.\n",
    "for dt in unique_types:\n",
    "    df_sub = df_trend[df_trend[\"data type\"] == dt].copy()\n",
    "    # Get the color for this group from our mapping:\n",
    "    base_color = color_map[dt]\n",
    "    \n",
    "    # Add trendline (moving average) trace:\n",
    "    avg_trace = go.Scatter(\n",
    "        x=df_sub[\"stage\"],\n",
    "        y=df_sub[\"moving_avg\"],\n",
    "        mode=\"lines\",\n",
    "        name=f\"{dt}\",\n",
    "        line=dict(color=base_color, width=3)\n",
    "    )\n",
    "    fig.add_trace(avg_trace)\n",
    "\n",
    "    # Calculate upper and lower bounds:\n",
    "    upper_bound = df_sub[\"moving_avg\"] + df_sub[\"moving_std\"]\n",
    "    lower_bound = df_sub[\"moving_avg\"] - df_sub[\"moving_std\"]\n",
    "\n",
    "    # Create a translucent shaded region for ±1 standard deviation:\n",
    "    error_band_trace = go.Scatter(\n",
    "        x=np.concatenate([df_sub[\"stage\"].to_numpy(), df_sub[\"stage\"].to_numpy()[::-1]]),\n",
    "        y=np.concatenate([upper_bound.to_numpy(), lower_bound.to_numpy()[::-1]]),\n",
    "        fill=\"toself\",\n",
    "        fillcolor=hex_to_rgba(base_color, alpha=0.4),\n",
    "        line=dict(color=\"rgba(255,255,255,0)\"),\n",
    "        hoverinfo=\"skip\",\n",
    "        showlegend=False,\n",
    "        name=f\"{dt} ±1 SD\"\n",
    "    )\n",
    "    fig.add_trace(error_band_trace)\n",
    "\n",
    "# Format the axes if desired (using your custom formatting function, for example):\n",
    "axis_labels = [\"stage (hpf)\", \"number of detected lcp+ cells\"]\n",
    "# Assuming format_2d_plotly is your custom function:\n",
    "\n",
    "fig.show()\n",
    "\n",
    "fig.write_image(fig_path + \"n_lcp_cells_vs_stage.png\")"
   ]
  },
  {
   "cell_type": "markdown",
   "metadata": {},
   "source": [
    "### Segments look shite. What about the raw masks?\n",
    "Manual inspection indicates that a number of raw masks corresponding to lcp+ nuclei are beingd dropped durring tracking, which is frustrating"
   ]
  },
  {
   "cell_type": "code",
   "execution_count": null,
   "metadata": {},
   "outputs": [],
   "source": [
    "from glob2 import glob\n",
    "from tqdm import tqdm\n",
    "\n",
    "fluo_path = os.path.join(root, \"built_data\", \"fluorescence_data\", project_name, \"\")\n",
    "fluo_df_path_list = sorted(glob(fluo_path + \"*.csv\"))\n",
    "fluo_df_list = []\n",
    "for fluo_p in tqdm(fluo_df_path_list):\n",
    "    df = pd.read_csv(fluo_p)\n",
    "    fluo_df_list.append(df)\n",
    "\n",
    "fluo_df = pd.concat(fluo_df_list, axis=0, ignore_index=True)"
   ]
  },
  {
   "cell_type": "code",
   "execution_count": null,
   "metadata": {},
   "outputs": [],
   "source": [
    "print(np.sum(fluo_df[\"mean_fluo\"]>fluo_thresh))\n",
    "print(np.sum(tracks_df[\"mean_fluo\"]>fluo_thresh))"
   ]
  },
  {
   "cell_type": "markdown",
   "metadata": {},
   "source": [
    "We see substantially more high-fluo frames. Let's look at trends over time"
   ]
  },
  {
   "cell_type": "code",
   "execution_count": null,
   "metadata": {},
   "outputs": [],
   "source": [
    "N = 50  # for example\n",
    "\n",
    "# Group by time 't' and, for each group, pick the N rows with the highest 'mean_fluo'\n",
    "top_fluo_df = fluo_df.groupby('frame', group_keys=False).apply(lambda x: x.nlargest(N, columns='mean_fluo')).reset_index(drop=True)"
   ]
  },
  {
   "cell_type": "code",
   "execution_count": null,
   "metadata": {},
   "outputs": [],
   "source": [
    "fig = px.scatter(top_fluo_df, x=\"frame\", y=\"mean_fluo\")\n",
    "fig.show()"
   ]
  },
  {
   "cell_type": "code",
   "execution_count": null,
   "metadata": {},
   "outputs": [],
   "source": [
    "fi, fc = np.unique(fluo_df.loc[fluo_df[\"mean_fluo\"]>fluo_thresh, \"frame\"], return_counts=True)\n",
    "\n",
    "fig = px.scatter(x=fi, y=fc)\n",
    "fig.show()"
   ]
  },
  {
   "cell_type": "markdown",
   "metadata": {},
   "source": [
    "Clearly we're losing a ton during the tracking process. Sad."
   ]
  },
  {
   "cell_type": "markdown",
   "metadata": {},
   "source": [
    "### Assess overall quality of the tracks. Can we reconstruct lineage trees?"
   ]
  },
  {
   "cell_type": "code",
   "execution_count": null,
   "metadata": {},
   "outputs": [],
   "source": [
    "from ultrack.tracks.graph import inv_tracks_df_forest\n",
    "\n",
    "forest_graph = tracks_df_forest(tracks_df)\n",
    "inv_forest_graph = inv_tracks_df_forest(tracks_df)"
   ]
  },
  {
   "cell_type": "code",
   "execution_count": null,
   "metadata": {},
   "outputs": [],
   "source": [
    "def get_root(cell, parent_map):\n",
    "    \"\"\"\n",
    "    Recursively follow the parent mapping until a cell is reached that has no parent.\n",
    "    Assumes parent_map[cell] returns a list of parent IDs (with one parent per cell).\n",
    "    \"\"\"\n",
    "    while cell in parent_map:\n",
    "        # For a simple 1-to-1 mapping, take the first (and only) parent.\n",
    "        cell = parent_map[cell]\n",
    "    return cell\n",
    "\n",
    "# Build a list of results for each child that is a key in parent_map.\n",
    "results = []\n",
    "track_index = np.unique(tracks_df[\"track_id\"])\n",
    "mapped_ids = np.asarray(list(inv_forest_graph.keys()))\n",
    "for child in tqdm(track_index):\n",
    "    if child in mapped_ids:\n",
    "        root = get_root(child, inv_forest_graph)\n",
    "    else:\n",
    "        root = child\n",
    "    # Look up the frame number for the root cell\n",
    "    root_frame = np.min(tracks_df.loc[tracks_df[\"track_id\"]==root, \"t\"])\n",
    "    leaf_frame = np.max(tracks_df.loc[tracks_df[\"track_id\"]==child, \"t\"])\n",
    "    results.append({'child_id': child, 'root_id': root, 'root_frame': root_frame, 'leaf_frame': leaf_frame})\n",
    "\n",
    "# Convert results to a DataFrame\n",
    "df_roots = pd.DataFrame(results)\n",
    "df_roots = df_roots.merge(counts_df, how=\"left\", left_on=\"child_id\", right_on=\"track_id\")"
   ]
  },
  {
   "cell_type": "code",
   "execution_count": null,
   "metadata": {},
   "outputs": [],
   "source": [
    "df_roots_ft = df_roots.loc[df_roots[\"track_length\"] >= 10]\n",
    "print(df_roots_ft.shape)"
   ]
  },
  {
   "cell_type": "code",
   "execution_count": null,
   "metadata": {},
   "outputs": [],
   "source": [
    "df_roots_ft[\"span\"] = df_roots_ft[\"leaf_frame\"] - df_roots_ft[\"root_frame\"]\n",
    "\n",
    "fig = px.scatter(df_roots_ft, x=\"leaf_frame\", y=\"span\")\n",
    "fig.show()"
   ]
  },
  {
   "cell_type": "code",
   "execution_count": null,
   "metadata": {},
   "outputs": [],
   "source": [
    "from ultrack.tracks.gap_closing import close_tracks_gaps\n",
    "\n",
    "test = close_tracks_gaps(tracks_df, max_gap=3, max_radius=50, scale=np.asarray([3.0, 1.0, 1.0]))"
   ]
  },
  {
   "cell_type": "code",
   "execution_count": null,
   "metadata": {},
   "outputs": [],
   "source": [
    "test"
   ]
  },
  {
   "cell_type": "code",
   "execution_count": null,
   "metadata": {},
   "outputs": [],
   "source": [
    "len(np.unique(test[\"track_id\"]))"
   ]
  },
  {
   "cell_type": "code",
   "execution_count": null,
   "metadata": {},
   "outputs": [],
   "source": [
    "len(np.unique(tracks_df[\"track_id\"]))"
   ]
  },
  {
   "cell_type": "code",
   "execution_count": null,
   "metadata": {},
   "outputs": [],
   "source": []
  }
 ],
 "metadata": {
  "kernelspec": {
   "display_name": "Python 3 (ipykernel)",
   "language": "python",
   "name": "python3"
  },
  "language_info": {
   "codemirror_mode": {
    "name": "ipython",
    "version": 3
   },
   "file_extension": ".py",
   "mimetype": "text/x-python",
   "name": "python",
   "nbconvert_exporter": "python",
   "pygments_lexer": "ipython3",
   "version": "3.10.13"
  }
 },
 "nbformat": 4,
 "nbformat_minor": 4
}
