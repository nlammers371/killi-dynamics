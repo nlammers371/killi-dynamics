{
 "cells": [
  {
   "cell_type": "code",
   "execution_count": null,
   "metadata": {
    "is_executing": true,
    "pycharm": {
     "is_executing": true
    }
   },
   "outputs": [],
   "source": [
    "import pandas as pd\n",
    "import numpy as np\n",
    "import os\n",
    "from ultrack.tracks.graph import get_paths_to_roots, tracks_df_forest"
   ]
  },
  {
   "cell_type": "code",
   "execution_count": null,
   "metadata": {},
   "outputs": [],
   "source": [
    "# load tracks dataset\n",
    "root = \"/Users/nick/Cole Trapnell's Lab Dropbox/Nick Lammers/Nick/killi_tracker/\"\n",
    "project_name = \"20250311_LCP1-NLSMSC_local\"\n",
    "tracking_config = \"tracking_20250328_redux\"\n",
    "tracking_name = \"track_0000_2339_cb\"\n",
    "\n",
    "track_path = os.path.join(root, \"tracking\", project_name, tracking_config, \"well0000\", tracking_name, \"tracks_fluo.csv\")\n",
    "tracks_df = pd.read_csv(track_path)"
   ]
  },
  {
   "cell_type": "code",
   "execution_count": null,
   "metadata": {},
   "outputs": [],
   "source": [
    "import plotly.express as px\n",
    "\n",
    "tid, tc = np.unique(tracks_df[\"track_id\"], return_counts=True)\n",
    "counts_df = pd.DataFrame(tid, columns=[\"track_id\"])\n",
    "counts_df[\"track_length\"] = tc\n",
    "tracks_df = tracks_df.merge(counts_df, how=\"left\", on=\"track_id\")"
   ]
  },
  {
   "cell_type": "code",
   "execution_count": null,
   "metadata": {},
   "outputs": [],
   "source": [
    "fluo_thresh = 115\n",
    "\n",
    "bright_tracks = tracks_df.loc[tracks_df[\"mean_fluo\"] > fluo_thresh, \"track_id\"]\n",
    "\n",
    "ti, tc = np.unique(bright_tracks, return_counts=True)\n",
    "candidate_tracks = ti[tc>0]\n",
    "\n",
    "tracks_df[\"track_id_str\"] = tracks_df[\"track_id\"].astype(str)\n",
    "\n",
    "# fig = px.scatter(tracks_df.loc[np.isin(tracks_df[\"track_id\"], candidate_tracks)], x=\"t\", y=\"mean_fluo\", color=\"track_id_str\")\n",
    "fig = px.scatter(tracks_df.loc[tracks_df[\"mean_fluo\"]>fluo_thresh], x=\"t\", y=\"mean_fluo\", color=\"track_id_str\")\n",
    "fig.show()"
   ]
  },
  {
   "cell_type": "code",
   "execution_count": null,
   "metadata": {},
   "outputs": [],
   "source": [
    "fi, fc = np.unique(tracks_df.loc[tracks_df[\"mean_fluo\"]>fluo_thresh, \"t\"], return_counts=True)\n",
    "\n",
    "fig = px.scatter(x=fi, y=fc)\n",
    "fig.show()"
   ]
  },
  {
   "cell_type": "markdown",
   "metadata": {},
   "source": [
    "### Segments look shite. What about the raw masks?\n",
    "Manual inspection indicates that a number of raw masks corresponding to lcp+ nuclei are beingd dropped durring tracking, which is frustrating"
   ]
  },
  {
   "cell_type": "code",
   "execution_count": null,
   "metadata": {},
   "outputs": [],
   "source": [
    "from glob2 import glob\n",
    "from tqdm import tqdm\n",
    "\n",
    "fluo_path = os.path.join(root, \"built_data\", \"fluorescence_data\", project_name, \"\")\n",
    "fluo_df_path_list = sorted(glob(fluo_path + \"*.csv\"))\n",
    "fluo_df_list = []\n",
    "for fluo_p in tqdm(fluo_df_path_list):\n",
    "    df = pd.read_csv(fluo_p)\n",
    "    fluo_df_list.append(df)\n",
    "\n",
    "fluo_df = pd.concat(fluo_df_list, axis=0, ignore_index=True)"
   ]
  },
  {
   "cell_type": "code",
   "execution_count": null,
   "metadata": {},
   "outputs": [],
   "source": [
    "print(np.sum(fluo_df[\"mean_fluo\"]>fluo_thresh))\n",
    "print(np.sum(tracks_df[\"mean_fluo\"]>fluo_thresh))"
   ]
  },
  {
   "cell_type": "markdown",
   "metadata": {},
   "source": [
    "We see substantially more high-fluo frames. Let's look at trends over time"
   ]
  },
  {
   "cell_type": "code",
   "execution_count": null,
   "metadata": {},
   "outputs": [],
   "source": [
    "N = 50  # for example\n",
    "\n",
    "# Group by time 't' and, for each group, pick the N rows with the highest 'mean_fluo'\n",
    "top_fluo_df = fluo_df.groupby('frame', group_keys=False).apply(lambda x: x.nlargest(N, columns='mean_fluo')).reset_index(drop=True)"
   ]
  },
  {
   "cell_type": "code",
   "execution_count": null,
   "metadata": {},
   "outputs": [],
   "source": [
    "fig = px.scatter(top_fluo_df, x=\"frame\", y=\"mean_fluo\")\n",
    "fig.show()"
   ]
  },
  {
   "cell_type": "code",
   "execution_count": null,
   "metadata": {},
   "outputs": [],
   "source": [
    "fi, fc = np.unique(fluo_df.loc[fluo_df[\"mean_fluo\"]>fluo_thresh, \"frame\"], return_counts=True)\n",
    "\n",
    "fig = px.scatter(x=fi, y=fc)\n",
    "fig.show()"
   ]
  },
  {
   "cell_type": "markdown",
   "metadata": {},
   "source": [
    "Clearly we're losing a ton during the tracking process. Sad."
   ]
  },
  {
   "cell_type": "markdown",
   "metadata": {},
   "source": [
    "### Assess overall quality of the tracks. Can we reconstruct lineage trees?"
   ]
  },
  {
   "cell_type": "code",
   "execution_count": null,
   "metadata": {},
   "outputs": [],
   "source": [
    "from ultrack.tracks.graph import inv_tracks_df_forest\n",
    "\n",
    "forest_graph = tracks_df_forest(tracks_df)\n",
    "inv_forest_graph = inv_tracks_df_forest(tracks_df)"
   ]
  },
  {
   "cell_type": "code",
   "execution_count": null,
   "metadata": {},
   "outputs": [],
   "source": [
    "def get_root(cell, parent_map):\n",
    "    \"\"\"\n",
    "    Recursively follow the parent mapping until a cell is reached that has no parent.\n",
    "    Assumes parent_map[cell] returns a list of parent IDs (with one parent per cell).\n",
    "    \"\"\"\n",
    "    while cell in parent_map:\n",
    "        # For a simple 1-to-1 mapping, take the first (and only) parent.\n",
    "        cell = parent_map[cell]\n",
    "    return cell\n",
    "\n",
    "# Build a list of results for each child that is a key in parent_map.\n",
    "results = []\n",
    "track_index = np.unique(tracks_df[\"track_id\"])\n",
    "mapped_ids = np.asarray(list(inv_forest_graph.keys()))\n",
    "for child in tqdm(track_index):\n",
    "    if child in mapped_ids:\n",
    "        root = get_root(child, inv_forest_graph)\n",
    "    else:\n",
    "        root = child\n",
    "    # Look up the frame number for the root cell\n",
    "    root_frame = np.min(tracks_df.loc[tracks_df[\"track_id\"]==root, \"t\"])\n",
    "    leaf_frame = np.max(tracks_df.loc[tracks_df[\"track_id\"]==child, \"t\"])\n",
    "    results.append({'child_id': child, 'root_id': root, 'root_frame': root_frame, 'leaf_frame': leaf_frame})\n",
    "\n",
    "# Convert results to a DataFrame\n",
    "df_roots = pd.DataFrame(results)\n",
    "df_roots = df_roots.merge(counts_df, how=\"left\", left_on=\"child_id\", right_on=\"track_id\")"
   ]
  },
  {
   "cell_type": "code",
   "execution_count": null,
   "metadata": {},
   "outputs": [],
   "source": [
    "df_roots_ft = df_roots.loc[df_roots[\"track_length\"] >= 10]\n",
    "print(df_roots_ft.shape)"
   ]
  },
  {
   "cell_type": "code",
   "execution_count": null,
   "metadata": {},
   "outputs": [],
   "source": [
    "df_roots_ft[\"span\"] = df_roots_ft[\"leaf_frame\"] - df_roots_ft[\"root_frame\"]\n",
    "\n",
    "fig = px.scatter(df_roots_ft, x=\"leaf_frame\", y=\"span\")\n",
    "fig.show()"
   ]
  },
  {
   "cell_type": "code",
   "execution_count": null,
   "metadata": {},
   "outputs": [],
   "source": [
    "from ultrack.tracks.gap_closing import close_tracks_gaps\n",
    "\n",
    "test = close_tracks_gaps(tracks_df, max_gap=3, max_radius=50, scale=np.asarray([3.0, 1.0, 1.0]))"
   ]
  },
  {
   "cell_type": "code",
   "execution_count": null,
   "metadata": {},
   "outputs": [],
   "source": [
    "test"
   ]
  },
  {
   "cell_type": "code",
   "execution_count": null,
   "metadata": {},
   "outputs": [],
   "source": [
    "len(np.unique(test[\"track_id\"]))"
   ]
  },
  {
   "cell_type": "code",
   "execution_count": null,
   "metadata": {},
   "outputs": [],
   "source": [
    "len(np.unique(tracks_df[\"track_id\"]))"
   ]
  },
  {
   "cell_type": "code",
   "execution_count": null,
   "metadata": {},
   "outputs": [],
   "source": []
  }
 ],
 "metadata": {
  "kernelspec": {
   "display_name": "Python 3 (ipykernel)",
   "language": "python",
   "name": "python3"
  },
  "language_info": {
   "codemirror_mode": {
    "name": "ipython",
    "version": 3
   },
   "file_extension": ".py",
   "mimetype": "text/x-python",
   "name": "python",
   "nbconvert_exporter": "python",
   "pygments_lexer": "ipython3",
   "version": "3.10.13"
  }
 },
 "nbformat": 4,
 "nbformat_minor": 4
}
