{
 "cells": [
  {
   "cell_type": "code",
   "execution_count": null,
   "metadata": {},
   "outputs": [],
   "source": [
    "import jax\n",
    "import jax.numpy as jnp\n",
    "import matplotlib.pyplot as plt\n",
    "from matplotlib.animation import FuncAnimation\n",
    "\n",
    "from symmetry_breaking_JAX.models_2D.run import simulate_2d, build_initial_state_2d, run_2d\n",
    "from symmetry_breaking_JAX.models_2D.geom_utils import make_grid\n",
    "from symmetry_breaking_JAX.models_2D.param_classes import Params2D, BlipSet2D"
   ]
  },
  {
   "cell_type": "code",
   "execution_count": null,
   "metadata": {
    "jupyter": {
     "outputs_hidden": false
    }
   },
   "outputs": [],
   "source": [
    "T = 1000\n",
    "n_save = 50\n",
    "\n",
    "# 1. Define parameters and blips\n",
    "params = Params2D(\n",
    "    D_N=1.0, D_L=15.0,\n",
    "    sigma_N=0.001, sigma_L=0.001,\n",
    "    mu_N=1e-4, mu_L=1e-4,\n",
    "    n=2, p=2, alpha=1.0,\n",
    "    K_A=667.0, K_NL=670, K_I=1.0,\n",
    "    Lx=500.0, Ly=500.0, dx=5.0, dy=5.0,\n",
    "    geometry=\"disk\",\n",
    ")\n",
    "\n",
    "blips = BlipSet2D.empty()  # no dynamic events for this test"
   ]
  },
  {
   "cell_type": "code",
   "execution_count": null,
   "metadata": {
    "jupyter": {
     "outputs_hidden": false
    }
   },
   "outputs": [],
   "source": [
    "# 2. Build grid\n",
    "grid = make_grid(params)\n",
    "\n",
    "# 3. Initialize state\n",
    "y0 = build_initial_state_2d(\n",
    "    params, grid,\n",
    "    N_mode=\"gaussian\",\n",
    "    N_positions=jnp.array([[0, 0], [100, 100]]),\n",
    "    N_amps=jnp.array([1000, 500]),\n",
    "    N_sigmas=jnp.array([25, 25]),\n",
    "    L_mode=\"constant\",\n",
    "    L_amp=0.0,\n",
    ")\n"
   ]
  },
  {
   "cell_type": "markdown",
   "metadata": {
    "jupyter": {
     "outputs_hidden": false
    }
   },
   "source": [
    "# Run the simulation"
   ]
  },
  {
   "cell_type": "code",
   "execution_count": null,
   "metadata": {
    "jupyter": {
     "outputs_hidden": false
    }
   },
   "outputs": [],
   "source": [
    "# 4. Integrate\n",
    "ts, ys = run_2d(\n",
    "    params,\n",
    "    blips,\n",
    "    grid,\n",
    "    T=T,\n",
    "    save_ts=jnp.linspace(0, T, n_save),\n",
    "    y0=y0,\n",
    ")"
   ]
  },
  {
   "cell_type": "code",
   "execution_count": null,
   "metadata": {
    "jupyter": {
     "outputs_hidden": false
    }
   },
   "outputs": [],
   "source": [
    "# unpack grid\n",
    "X, Y, mask = grid.X, grid.Y, grid.mask\n",
    "nx, ny = X.shape\n",
    "nxy = nx * ny\n",
    "\n",
    "# extract Nodal field over time\n",
    "N_t = ys[:, :nxy].reshape(len(ts), nx, ny)\n",
    "L_t = ys[:, nxy:2*nxy]         # shape (nt, nxy)\n",
    "L_t = L_t.reshape(len(ts), *grid.X.shape)"
   ]
  },
  {
   "cell_type": "code",
   "execution_count": null,
   "metadata": {},
   "outputs": [],
   "source": [
    "import matplotlib.pyplot as plt\n",
    "import time\n",
    "\n",
    "%matplotlib tk\n",
    "\n",
    "fig, ax = plt.subplots(figsize=(6, 5))\n",
    "for i in range(len(ts)):\n",
    "    ax.clear()\n",
    "    ax.imshow(\n",
    "        L_t[i],\n",
    "        cmap=\"viridis\",\n",
    "        origin=\"lower\",\n",
    "        extent=[X.min(), X.max(), Y.min(), Y.max()],\n",
    "        # vmin=0,\n",
    "        # vmax=L_t.max(),\n",
    "    )\n",
    "    ax.set_title(f\"t = {ts[i]:.2f}\")\n",
    "    ax.set_xlabel(\"x\")\n",
    "    ax.set_ylabel(\"y\")\n",
    "    plt.pause(0.05)   # force GUI update\n",
    "    \n",
    "    plt.show()\n",
    "\n"
   ]
  },
  {
   "cell_type": "code",
   "execution_count": null,
   "metadata": {},
   "outputs": [],
   "source": [
    "fig, ax = plt.subplots(figsize=(6, 5))\n",
    "for i in range(len(ts)):\n",
    "    ax.clear()\n",
    "    ax.imshow(\n",
    "        N_t[i],\n",
    "        cmap=\"viridis\",\n",
    "        origin=\"lower\",\n",
    "        extent=[X.min(), X.max(), Y.min(), Y.max()],\n",
    "        # vmin=0,\n",
    "        # vmax=L_t.max(),\n",
    "    )\n",
    "    ax.set_title(f\"t = {ts[i]:.2f}\")\n",
    "    ax.set_xlabel(\"x\")\n",
    "    ax.set_ylabel(\"y\")\n",
    "    plt.pause(0.05)   # force GUI update\n",
    "    \n",
    "    plt.show()"
   ]
  },
  {
   "cell_type": "code",
   "execution_count": null,
   "metadata": {},
   "outputs": [],
   "source": []
  }
 ],
 "metadata": {
  "kernelspec": {
   "display_name": "Python 3 (ipykernel)",
   "language": "python",
   "name": "python3"
  },
  "language_info": {
   "codemirror_mode": {
    "name": "ipython",
    "version": 3
   },
   "file_extension": ".py",
   "mimetype": "text/x-python",
   "name": "python",
   "nbconvert_exporter": "python",
   "pygments_lexer": "ipython3",
   "version": "3.10.18"
  }
 },
 "nbformat": 4,
 "nbformat_minor": 4
}
