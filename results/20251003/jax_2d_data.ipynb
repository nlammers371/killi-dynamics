{
 "cells": [
  {
   "cell_type": "code",
   "execution_count": null,
   "metadata": {
    "pycharm": {
     "is_executing": true
    }
   },
   "outputs": [],
   "source": [
    "import jax\n",
    "import jax.numpy as jnp\n",
    "import matplotlib.pyplot as plt\n",
    "from matplotlib.animation import FuncAnimation\n",
    "import plotly.express as px\n",
    "from symmetry_breaking_JAX.models_2D.run import build_initial_state_2d, run_2d\n",
    "from symmetry_breaking_JAX.models_2D.geom_utils import make_grid\n",
    "from symmetry_breaking_JAX.models_2D.helpers_2D import single_run_2D\n",
    "import numpy as np\n",
    "from pathlib import Path\n",
    "from PIL import Image\n",
    "from matplotlib.cm import ScalarMappable"
   ]
  },
  {
   "cell_type": "code",
   "execution_count": null,
   "metadata": {},
   "outputs": [],
   "source": [
    "fig, ax = plt.subplots(figsize=(1, 5))  # thicker bar\n",
    "fig.subplots_adjust(right=0.8)\n",
    "\n",
    "norm = plt.Normalize(vmin=0, vmax=0.01*1e4)\n",
    "cmap = plt.get_cmap(\"magma\")\n",
    "\n",
    "cb = fig.colorbar(\n",
    "    ScalarMappable(norm=norm, cmap=cmap),\n",
    "    cax=ax,\n",
    "    orientation='vertical'\n",
    ")\n",
    "\n",
    "cb.set_label(r\"density (cells per $100\\,\\mu m^2$)\", fontsize=16, color='white', labelpad=5)\n",
    "\n",
    "\n",
    "# Tick style\n",
    "cb.ax.tick_params(\n",
    "    colors='white',        # tick color\n",
    "    labelsize=14,          # tick label size\n",
    "    width=2,               # tick line width\n",
    "    length=8,              # tick length\n",
    "    direction='out'      # ticks go both directions\n",
    ")\n",
    "plt.show()\n",
    "\n",
    "fig.savefig(\"/Users/nick/Cole Trapnell's Lab Dropbox/Nick Lammers/Nick/slides/killifish/20251008_symmetry/colorbar_magma.png\", \n",
    "            dpi=300, bbox_inches=\"tight\", transparent=True)"
   ]
  },
  {
   "cell_type": "code",
   "execution_count": null,
   "metadata": {},
   "outputs": [],
   "source": [
    "def load_png_field(path, invert=False, normalize=True):\n",
    "    \"\"\"\n",
    "    Load a PNG as a grayscale field, using transparency as a mask.\n",
    "    Wherever alpha == 0, the field is set to 0.\n",
    "\n",
    "    Parameters\n",
    "    ----------\n",
    "    path : str or Path\n",
    "        Path to PNG image file.\n",
    "    invert : bool, optional\n",
    "        If True, invert intensities (dark → high).\n",
    "    normalize : bool, optional\n",
    "        Rescale pixel intensities to [0, 1].\n",
    "\n",
    "    Returns\n",
    "    -------\n",
    "    field : jnp.ndarray (float32)\n",
    "        Grayscale field, shape (H, W)\n",
    "    \"\"\"\n",
    "    img = Image.open(path).convert(\"RGBA\")\n",
    "    arr = np.array(img).astype(np.float32) / 255.0  # shape (H, W, 4)\n",
    "\n",
    "    rgb = arr[..., :3]\n",
    "    alpha = arr[..., 3]\n",
    "\n",
    "    # Convert to luminance (perceptual grayscale)\n",
    "    field = 0.2989 * rgb[..., 0] + 0.5870 * rgb[..., 1] + 0.1140 * rgb[..., 2]\n",
    "\n",
    "    # Zero-out fully transparent pixels\n",
    "    field = np.where(alpha > 0, field, 0.0)\n",
    "\n",
    "    if invert:\n",
    "        field = 1.0 - field\n",
    "\n",
    "    if normalize:\n",
    "        minv, maxv = field.min(), field.max()\n",
    "        if maxv > minv:\n",
    "            field = (field - minv) / (maxv - minv)\n",
    "        else:\n",
    "            field = np.zeros_like(field)\n",
    "\n",
    "    return jnp.array(field, dtype=jnp.float32)"
   ]
  },
  {
   "cell_type": "code",
   "execution_count": null,
   "metadata": {},
   "outputs": [],
   "source": [
    "from skimage.filters import gaussian\n",
    "from skimage.transform import resize\n",
    "\n",
    "T = 3600 * 10\n",
    "Lx = 1250\n",
    "dx = 10\n",
    "arr_size = tuple([int(Lx/dx) + 1, int(Lx/dx) + 1])\n",
    "\n",
    "# Load array to use as initial state\n",
    "field_dir = Path(\"/Users/nick/Cole Trapnell's Lab Dropbox/Nick Lammers/Nick/slides/killifish/20251008_symmetry/20250716_well0000_density/\")\n",
    "image_list = sorted(field_dir.glob(\"*.png\"))\n",
    "image_ind = 27\n",
    "field = load_png_field(image_list[image_ind])\n",
    "field_norm = np.clip(field - 0.2, 0, 1)\n",
    "field_norm = gaussian(field_norm, sigma=3, mode='nearest')\n",
    "field_norm = field_norm / np.max(field_norm)\n",
    "\n",
    "field_rs = resize(field_norm, arr_size)\n",
    "\n",
    "px.imshow(field_rs)"
   ]
  },
  {
   "cell_type": "code",
   "execution_count": null,
   "metadata": {
    "jupyter": {
     "outputs_hidden": false
    }
   },
   "outputs": [],
   "source": [
    "T = 3600 * 10\n",
    "n_save = 50\n",
    "\n",
    "c_factor = 50\n",
    "rate_factor = 4\n",
    "# 1. Define parameters and blips\n",
    "params0 = {\n",
    "    \"D_N\": 1.85 / 4 * rate_factor,\n",
    "    \"D_L\": 15*1.85 / 1.5 * rate_factor,\n",
    "    \"sigma_N\": 10 / c_factor * rate_factor,\n",
    "    \"sigma_L\": 16 / c_factor * rate_factor,\n",
    "    \"mu_N\": 0.0001,\n",
    "    \"mu_L\": 0.00005,\n",
    "    \"n\": 2,\n",
    "    \"p\": 2,\n",
    "    \"alpha\": 1.0,\n",
    "    \"K_A\": 667.0 / c_factor,\n",
    "    \"K_NL\": 667 / c_factor / 5 / 8,\n",
    "    \"K_I\": 1 / c_factor,\n",
    "    \"Lx\": 1250,\n",
    "    \"Ly\": 1250,\n",
    "    \"dx\": 10,\n",
    "    \"dy\": 10,\n",
    "    \"geometry\": \"rectangle\",\n",
    "    \"bc\": \"periodic\",\n",
    "    # \"N_positions\": jnp.array([[0, 0]]),\n",
    "    # \"N_amps\": jnp.array([1000 / c_factor]),\n",
    "    # \"N_sigmas\": jnp.array([25]),\n",
    "    \"N_init_mode\": \"array\",\n",
    "    \"N_init_array\": field_rs,\n",
    "    \"N_scale_range\": tuple([0, 2000]),\n",
    "    \"L_mode\": \"constant\",\n",
    "    \"L_amp\": 600,\n",
    "}\n",
    "\n",
    "grid0 = make_grid(params0)"
   ]
  },
  {
   "cell_type": "code",
   "execution_count": null,
   "metadata": {},
   "outputs": [],
   "source": [
    "# 1. Define parameters and blips\n",
    "grid0 = make_grid(params0)\n",
    "\n",
    "N_t0, L_t0 = single_run_2D(params0, grid0, T)"
   ]
  },
  {
   "cell_type": "code",
   "execution_count": null,
   "metadata": {},
   "outputs": [],
   "source": [
    "# x = grid0.X[0, :]\n",
    "# fig = px.line(x=x, y=N_t0[-1][61, :])\n",
    "# # fig.update_layout(yaxis=dict(range=[0, np.max(strip)]))\n",
    "# fig.show()"
   ]
  },
  {
   "cell_type": "code",
   "execution_count": null,
   "metadata": {},
   "outputs": [],
   "source": [
    "fig = px.imshow(N_t0[-1], range_color=[0, 5000], color_continuous_scale=\"magma\")\n",
    "fig.show()"
   ]
  },
  {
   "cell_type": "markdown",
   "metadata": {
    "jupyter": {
     "outputs_hidden": false
    }
   },
   "source": [
    "# Run the simulation"
   ]
  },
  {
   "cell_type": "code",
   "execution_count": null,
   "metadata": {},
   "outputs": [],
   "source": [
    "import matplotlib.pyplot as plt\n",
    "import time\n",
    "from tqdm import tqdm \n",
    "\n",
    "%matplotlib tk\n",
    "\n",
    "ts = range(N_t0.shape[0])\n",
    "out_dir = Path(\"/Users/nick/Cole Trapnell's Lab Dropbox/Nick Lammers/Nick/slides/killifish/20251008_symmetry/pde_simulation/\")\n",
    "out_dir.mkdir(exist_ok=True, parents=True)\n",
    "\n",
    "fig, ax = plt.subplots(figsize=(6, 5))\n",
    "vmin = np.percentile(N_t0[-1], 0.1)\n",
    "vmax = 5500  # or np.percentile(N_t0[-1], 99.5) * 0.85\n",
    "\n",
    "for i, t in enumerate(tqdm(ts)):\n",
    "    ax.clear()\n",
    "    im = ax.imshow(\n",
    "        N_t0[i],\n",
    "        cmap=\"magma\",\n",
    "        origin=\"lower\",\n",
    "        vmin=vmin,\n",
    "        vmax=vmax,\n",
    "    )\n",
    "    ax.set_title(f\"t = {t:.2f}\")\n",
    "    ax.set_xlabel(\"x\")\n",
    "    ax.set_ylabel(\"y\")\n",
    "\n",
    "    # Save frame\n",
    "    out_path = out_dir / f\"frame_{i:04d}.png\"\n",
    "    fig.savefig(out_path, dpi=300, bbox_inches=\"tight\")\n",
    "\n",
    "    # plt.pause(0.05)  # smaller pause if saving every frame\n",
    "\n",
    "plt.close(fig)"
   ]
  },
  {
   "cell_type": "code",
   "execution_count": null,
   "metadata": {},
   "outputs": [],
   "source": [
    "fig, ax = plt.subplots(figsize=(6, 5))\n",
    "for i in range(len(ts)):\n",
    "    ax.clear()\n",
    "    ax.imshow(\n",
    "        L_t[i],\n",
    "        cmap=\"viridis\",\n",
    "        origin=\"lower\",\n",
    "        extent=[X.min(), X.max(), Y.min(), Y.max()],\n",
    "        # vmin=0,\n",
    "        # vmax=L_t.max(),\n",
    "    )\n",
    "    ax.set_title(f\"t = {ts[i]:.2f}\")\n",
    "    ax.set_xlabel(\"x\")\n",
    "    ax.set_ylabel(\"y\")\n",
    "    plt.pause(0.05)   # force GUI update\n",
    "    \n",
    "    plt.show()\n",
    "\n"
   ]
  },
  {
   "cell_type": "code",
   "execution_count": null,
   "metadata": {},
   "outputs": [],
   "source": [
    "np.max(L_t0[-1])"
   ]
  },
  {
   "cell_type": "code",
   "execution_count": null,
   "metadata": {},
   "outputs": [],
   "source": [
    "params"
   ]
  },
  {
   "cell_type": "code",
   "execution_count": null,
   "metadata": {},
   "outputs": [],
   "source": []
  }
 ],
 "metadata": {
  "kernelspec": {
   "display_name": "Python 3 (ipykernel)",
   "language": "python",
   "name": "python3"
  },
  "language_info": {
   "codemirror_mode": {
    "name": "ipython",
    "version": 3
   },
   "file_extension": ".py",
   "mimetype": "text/x-python",
   "name": "python",
   "nbconvert_exporter": "python",
   "pygments_lexer": "ipython3",
   "version": "3.10.18"
  }
 },
 "nbformat": 4,
 "nbformat_minor": 4
}
