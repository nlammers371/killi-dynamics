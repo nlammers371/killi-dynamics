{
 "cells": [
  {
   "cell_type": "code",
   "execution_count": null,
   "metadata": {
    "pycharm": {
     "is_executing": true
    }
   },
   "outputs": [],
   "source": [
    "import jax\n",
    "import jax.numpy as jnp\n",
    "import matplotlib.pyplot as plt\n",
    "from matplotlib.animation import FuncAnimation\n",
    "import plotly.express as px\n",
    "from symmetry_breaking_JAX.models_2D.run import build_initial_state_2d, run_2d\n",
    "from symmetry_breaking_JAX.models_2D.geom_utils import make_grid\n",
    "from symmetry_breaking_JAX.models_2D.helpers_2D import single_run_2D\n",
    "import numpy as np"
   ]
  },
  {
   "cell_type": "code",
   "execution_count": null,
   "metadata": {
    "jupyter": {
     "outputs_hidden": false
    }
   },
   "outputs": [],
   "source": [
    "T = 3600 * 10\n",
    "n_save = 50\n",
    "\n",
    "c_factor = 50\n",
    "rate_factor = 4\n",
    "# 1. Define parameters and blips\n",
    "params0 = {\n",
    "    \"D_N\": 1.85 / 4 * rate_factor,\n",
    "    \"D_L\": 15*1.85 / 1.5 * rate_factor,\n",
    "    \"sigma_N\": 10 / c_factor * rate_factor,\n",
    "    \"sigma_L\": 16 / c_factor * rate_factor,\n",
    "    \"mu_N\": 0.0001,\n",
    "    \"mu_L\": 0.00005,\n",
    "    \"n\": 2,\n",
    "    \"p\": 2,\n",
    "    \"alpha\": 1.0,\n",
    "    \"K_A\": 667.0 / c_factor,\n",
    "    \"K_NL\": 667 / c_factor / 5 / 8,\n",
    "    \"K_I\": 1 / c_factor,\n",
    "    \"Lx\": 1250,\n",
    "    \"Ly\": 1250,\n",
    "    \"dx\": 10,\n",
    "    \"dy\": 10,\n",
    "    \"geometry\": \"rectangle\",\n",
    "    \"bc\": \"periodic\",\n",
    "    \"N_positions\": jnp.array([[0, 0]]),\n",
    "    \"N_amps\": jnp.array([1000 / c_factor]),\n",
    "    \"N_sigmas\": jnp.array([25]),\n",
    "    \"L_mode\": \"constant\",\n",
    "    \"L_amp\": 0.0\n",
    "}\n",
    "\n",
    "grid0 = make_grid(params0)"
   ]
  },
  {
   "cell_type": "code",
   "execution_count": null,
   "metadata": {},
   "outputs": [],
   "source": [
    "params0[\"N_positions\"] = jnp.array([[100, 100], [100, -100]]) #, [0,0]])\n",
    "params0[\"N_amps\"] = jnp.array([2000, 1900])#, 1000]) #/ c_factor \n",
    "params0[\"N_sigmas\"] = jnp.array([30, 30]) * 2 #, 30]) * 2"
   ]
  },
  {
   "cell_type": "code",
   "execution_count": null,
   "metadata": {},
   "outputs": [],
   "source": [
    "# 1. Define parameters and blips\n",
    "grid0 = make_grid(params0)\n",
    "\n",
    "N_t0, L_t0 = single_run_2D(params0, grid0, T)"
   ]
  },
  {
   "cell_type": "code",
   "execution_count": null,
   "metadata": {},
   "outputs": [],
   "source": [
    "# x = grid0.X[0, :]\n",
    "# fig = px.line(x=x, y=N_t0[-1][61, :])\n",
    "# # fig.update_layout(yaxis=dict(range=[0, np.max(strip)]))\n",
    "# fig.show()"
   ]
  },
  {
   "cell_type": "code",
   "execution_count": null,
   "metadata": {},
   "outputs": [],
   "source": [
    "fig = px.imshow(N_t0[-1], range_color=[0, float(np.max(N_t0[-1]))])\n",
    "fig.show()"
   ]
  },
  {
   "cell_type": "markdown",
   "metadata": {
    "jupyter": {
     "outputs_hidden": false
    }
   },
   "source": [
    "# Run the simulation"
   ]
  },
  {
   "cell_type": "code",
   "execution_count": null,
   "metadata": {},
   "outputs": [],
   "source": [
    "import matplotlib.pyplot as plt\n",
    "import time\n",
    "\n",
    "%matplotlib tk\n",
    "\n",
    "ts = range(N_t0.shape[0])\n",
    "\n",
    "fig, ax = plt.subplots(figsize=(6, 5))\n",
    "vmin = np.percentile(N_t0[-1], .1)\n",
    "vmax = np.percentile(N_t0[-1], 99.5) * 0.85\n",
    "\n",
    "for i in range(len(ts)):\n",
    "    ax.clear()\n",
    "    ax.imshow(\n",
    "        N_t0[i],\n",
    "        cmap=\"magma\",\n",
    "        origin=\"lower\",\n",
    "        # extent=[X.min(), X.max(), Y.min(), Y.max()],\n",
    "        vmin=vmin,\n",
    "        vmax=vmax,\n",
    "    )\n",
    "    ax.set_title(f\"t = {ts[i]:.2f}\")\n",
    "    ax.set_xlabel(\"x\")\n",
    "    ax.set_ylabel(\"y\")\n",
    "    plt.pause(0.15)   # force GUI update\n",
    "    \n",
    "plt.show()"
   ]
  },
  {
   "cell_type": "code",
   "execution_count": null,
   "metadata": {},
   "outputs": [],
   "source": [
    "fig, ax = plt.subplots(figsize=(6, 5))\n",
    "for i in range(len(ts)):\n",
    "    ax.clear()\n",
    "    ax.imshow(\n",
    "        L_t[i],\n",
    "        cmap=\"viridis\",\n",
    "        origin=\"lower\",\n",
    "        extent=[X.min(), X.max(), Y.min(), Y.max()],\n",
    "        # vmin=0,\n",
    "        # vmax=L_t.max(),\n",
    "    )\n",
    "    ax.set_title(f\"t = {ts[i]:.2f}\")\n",
    "    ax.set_xlabel(\"x\")\n",
    "    ax.set_ylabel(\"y\")\n",
    "    plt.pause(0.05)   # force GUI update\n",
    "    \n",
    "    plt.show()\n",
    "\n"
   ]
  },
  {
   "cell_type": "code",
   "execution_count": null,
   "metadata": {},
   "outputs": [],
   "source": [
    "jnp.max(N_t)"
   ]
  },
  {
   "cell_type": "code",
   "execution_count": null,
   "metadata": {},
   "outputs": [],
   "source": [
    "params"
   ]
  },
  {
   "cell_type": "code",
   "execution_count": null,
   "metadata": {},
   "outputs": [],
   "source": []
  }
 ],
 "metadata": {
  "kernelspec": {
   "display_name": "Python 3 (ipykernel)",
   "language": "python",
   "name": "python3"
  },
  "language_info": {
   "codemirror_mode": {
    "name": "ipython",
    "version": 3
   },
   "file_extension": ".py",
   "mimetype": "text/x-python",
   "name": "python",
   "nbconvert_exporter": "python",
   "pygments_lexer": "ipython3",
   "version": "3.10.18"
  }
 },
 "nbformat": 4,
 "nbformat_minor": 4
}
