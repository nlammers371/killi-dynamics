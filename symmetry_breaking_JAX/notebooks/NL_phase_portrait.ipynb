{
 "cells": [
  {
   "cell_type": "code",
   "execution_count": null,
   "metadata": {
    "jupyter": {
     "outputs_hidden": false
    }
   },
   "outputs": [],
   "source": [
    "import numpy as np, json\n",
    "from pathlib import Path\n",
    "import matplotlib\n",
    "# matplotlib.use(\"TkAgg\")   # Non-interactive backend (saves figures to file)\n",
    "from matplotlib import pyplot as plt\n",
    "import plotly.express as px\n",
    "import pandas as pd"
   ]
  },
  {
   "cell_type": "markdown",
   "metadata": {},
   "source": [
    "## Load sweep results"
   ]
  },
  {
   "cell_type": "code",
   "execution_count": null,
   "metadata": {},
   "outputs": [],
   "source": [
    "root = Path(\"/Users/nick/Data/symmetry/sweeps/\")\n",
    "output_dir = root / \"sweep02_jax_phase_space\"\n",
    "\n",
    "\n",
    "# Reload arrays\n",
    "data = np.load(output_dir / \"results.npz\")\n",
    "N = data[\"N\"]\n",
    "L = data[\"L\"]\n",
    "\n",
    "# Reload parameters\n",
    "with open(output_dir / \"params.json\") as f:\n",
    "    param_dicts = json.load(f)\n",
    "\n",
    "# print(N.shape, L.shape, len(param_dicts))\n",
    "param_df = pd.DataFrame.from_dict(param_dicts)\n",
    "param_df.head()"
   ]
  },
  {
   "cell_type": "markdown",
   "metadata": {},
   "source": [
    "## Plot example"
   ]
  },
  {
   "cell_type": "code",
   "execution_count": null,
   "metadata": {},
   "outputs": [],
   "source": [
    "sim_idx = 0  # <-- change this\n",
    "sample_data = np.array(N[sim_idx])  # shape (time, space)\n",
    "\n",
    "# imshow expects (rows, cols) = (time, space)\n",
    "\n",
    "fig = px.imshow(\n",
    "    sample_data.T,                # transpose so x=time, y=space\n",
    "    aspect=\"auto\",\n",
    "    origin=\"lower\",\n",
    "    labels=dict(x=\"Time\", y=\"Position\", color=\"Intensity\"),\n",
    "    color_continuous_scale=\"viridis\"\n",
    ")\n",
    "fig.show()"
   ]
  },
  {
   "cell_type": "code",
   "execution_count": null,
   "metadata": {},
   "outputs": [],
   "source": [
    "import plotly.graph_objects as go\n",
    "\n",
    "plot_times = np.arange(0, 121,10)\n",
    "x_grid=np.linspace(-750,750, 151)\n",
    "fig = go.Figure()\n",
    "for p in plot_times:\n",
    "    fig.add_traces(go.Scatter(x=x_grid, y=sample_data[p]))\n",
    "fig.show()"
   ]
  },
  {
   "cell_type": "markdown",
   "metadata": {},
   "source": [
    "### Question 1: what dictates survival/extintion of initial Nodal blip?\n",
    "To start consider case when K_N = N_nl"
   ]
  },
  {
   "cell_type": "code",
   "execution_count": null,
   "metadata": {},
   "outputs": [],
   "source": [
    "x_samp = 61\n",
    "t_samp = -1\n",
    "K_A = 667\n",
    "\n",
    "N_vec = N[:, t_samp, x_samp].ravel() / K_A \n",
    "N_vec_e = N[:, t_samp, 0].ravel() / K_A\n",
    "L_vec = L[:, t_samp, x_samp].ravel() / K_A\n",
    "kappa_filter = param_df[\"kappa_NL\"].astype(int)==1\n",
    "# fig = px.scatter(x=N_vec[kappa_filter], y=L_vec[kappa_filter], color=np.log10(rat_vec[kappa_filter]))\n",
    "fig = px.scatter(x=N_vec[:], y=L_vec[:], color=np.log10(param_df.loc[:, \"kappa_NL\"]))\n",
    "    #np.where(kappa_filter)[0])#np.log10(param_df.loc[kappa_filter, \"a_amp\"]+1e-6))\n",
    "fig.show()"
   ]
  },
  {
   "cell_type": "code",
   "execution_count": null,
   "metadata": {},
   "outputs": [],
   "source": [
    "# rat_vec = np.divide(L_vec, N_vec)\n",
    "# nz_ft = N_vec > 2\n",
    "# fig = px.scatter(x=param_df.loc[kappa_filter & nz_ft, \"beta_r\"], y=rat_vec[kappa_filter & nz_ft], trendline=\"ols\")\n",
    "# fig.show()"
   ]
  },
  {
   "cell_type": "code",
   "execution_count": null,
   "metadata": {},
   "outputs": [],
   "source": [
    "import numpy as np\n",
    "from scipy.optimize import curve_fit\n",
    "from tqdm import tqdm\n",
    "\n",
    "def gauss(x, A, mu, sigma):\n",
    "    return A * np.exp(-(x-mu)**2/(2*sigma**2))"
   ]
  },
  {
   "cell_type": "code",
   "execution_count": null,
   "metadata": {},
   "outputs": [],
   "source": [
    "peaked_inds = np.where((N_vec-N_vec_e)>1)[0]\n",
    "t_samp = -1\n",
    "amp_vec = np.empty_like(N_vec)\n",
    "amp_vec[:] = np.nan\n",
    "sigma_vec = np.empty_like(N_vec)\n",
    "sigma_vec[:] = np.nan\n",
    "\n",
    "for i in tqdm(peaked_inds):\n",
    "    A = np.squeeze(N[i, t_samp, :])\n",
    "    popt, _ = curve_fit(gauss, x_grid, A, p0=[A.max(), 0, 100.0])\n",
    "    amp_vec[i], _, sigma_vec[i] = popt"
   ]
  },
  {
   "cell_type": "code",
   "execution_count": null,
   "metadata": {},
   "outputs": [],
   "source": [
    "lambda_ = np.sqrt(1.85/1e-4)\n",
    "fig = px.scatter(x=amp_vec/K_A, y=sigma_vec, color=np.log10(param_df[\"beta_r\"] / 15))\n",
    "\n",
    "fig.add_hline(y=1, line_dash=\"dash\", line_color=\"black\") \n",
    "\n",
    "fig.show()"
   ]
  },
  {
   "cell_type": "markdown",
   "metadata": {},
   "source": [
    "## Find simplest conditions that still support stable domain formation\n",
    "Can beta_r=1? What range of deltas is permissible? Start with simplest case and add degrees of freedom as needed"
   ]
  },
  {
   "cell_type": "code",
   "execution_count": null,
   "metadata": {},
   "outputs": [],
   "source": [
    "N_array = np.squeeze(N[:, t_samp, :])\n",
    "N_p = np.divide(N_array, np.sum(N_array, axis=1)[:, None])\n",
    "N_ent = -np.sum(np.multiply(N_p, np.log(N_p+1e-12)), axis=1)"
   ]
  },
  {
   "cell_type": "code",
   "execution_count": null,
   "metadata": {},
   "outputs": [],
   "source": [
    "mu_N = 1e-4\n",
    "K_A = 667\n",
    "beta_a = 1 / (mu_N * K_A)\n",
    "beta_a"
   ]
  },
  {
   "cell_type": "code",
   "execution_count": null,
   "metadata": {},
   "outputs": [],
   "source": [
    "kappa_filter = param_df[\"kappa_NL\"].astype(int)==1\n",
    "beta_filter = np.round(param_df[\"beta_r\"]).astype(int)==15 # beta_r=beta_a\n",
    "plot_filter = (kappa_filter & beta_filter).to_numpy()\n",
    "\n",
    "fig = px.scatter(x=np.log10(param_df[\"kappa_NL\"]), y=N_ent )\n",
    "\n",
    "# fig.add_hline(y=1, line_dash=\"dash\", line_color=\"black\") \n",
    "\n",
    "fig.show()"
   ]
  },
  {
   "cell_type": "code",
   "execution_count": null,
   "metadata": {},
   "outputs": [],
   "source": [
    "fig = px.scatter(x=np.log10(param_df[\"beta_r\"] / 15), y=N_ent)\n",
    "\n",
    "fig.show()"
   ]
  },
  {
   "cell_type": "code",
   "execution_count": null,
   "metadata": {},
   "outputs": [],
   "source": [
    "fig = px.scatter(x=np.log10(param_df[\"delta\"]), y=N_ent)\n",
    "fig.show()"
   ]
  },
  {
   "cell_type": "code",
   "execution_count": null,
   "metadata": {},
   "outputs": [],
   "source": [
    "fig = px.scatter(x=np.log10(param_df[\"kappa_NL\"]), y=np.log10(param_df[\"beta_r\"]/15), size=1+N_vec - N_vec_e)\n",
    "fig.show()"
   ]
  },
  {
   "cell_type": "code",
   "execution_count": null,
   "metadata": {},
   "outputs": [],
   "source": [
    "fig = px.scatter(x=sigma_vec, y=amp_vec/K_A, o)\n",
    "fig.show()\n"
   ]
  },
  {
   "cell_type": "markdown",
   "metadata": {},
   "source": [
    "Looks like $K_{NL}=10 K_N$, $\\beta_r=10 \\beta_A$, $D_L/D_N=10$ is a good sweet spot"
   ]
  },
  {
   "cell_type": "code",
   "execution_count": null,
   "metadata": {},
   "outputs": [],
   "source": []
  }
 ],
 "metadata": {
  "kernelspec": {
   "display_name": "Python (symmetry-env)",
   "language": "python",
   "name": "symmetry-env"
  },
  "language_info": {
   "codemirror_mode": {
    "name": "ipython",
    "version": 3
   },
   "file_extension": ".py",
   "mimetype": "text/x-python",
   "name": "python",
   "nbconvert_exporter": "python",
   "pygments_lexer": "ipython3",
   "version": "3.10.18"
  }
 },
 "nbformat": 4,
 "nbformat_minor": 4
}
