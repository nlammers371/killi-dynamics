{
 "cells": [
  {
   "cell_type": "code",
   "execution_count": null,
   "metadata": {
    "jupyter": {
     "outputs_hidden": false
    }
   },
   "outputs": [],
   "source": [
    "import numpy as np, json\n",
    "from pathlib import Path\n",
    "import matplotlib\n",
    "# matplotlib.use(\"TkAgg\")   # Non-interactive backend (saves figures to file)\n",
    "from matplotlib import pyplot as plt\n",
    "import plotly.express as px\n",
    "import pandas as pd"
   ]
  },
  {
   "cell_type": "markdown",
   "metadata": {},
   "source": [
    "## Load sweep results"
   ]
  },
  {
   "cell_type": "code",
   "execution_count": null,
   "metadata": {},
   "outputs": [],
   "source": [
    "root = Path(\"/Users/nick/Data/symmetry/sweeps/\")\n",
    "output_dir = root / \"sweep00_jax_stable\"\n",
    "\n",
    "\n",
    "# Reload arrays\n",
    "data = np.load(output_dir / \"results.npz\")\n",
    "N = data[\"N\"]\n",
    "L = data[\"L\"]\n",
    "\n",
    "# Reload parameters\n",
    "with open(output_dir / \"params.json\") as f:\n",
    "    param_dicts = json.load(f)\n",
    "\n",
    "# print(N.shape, L.shape, len(param_dicts))\n",
    "param_df = pd.DataFrame.from_dict(param_dicts)\n",
    "param_df.head()"
   ]
  },
  {
   "cell_type": "code",
   "execution_count": null,
   "metadata": {},
   "outputs": [],
   "source": [
    "sorted(param_df[\"kappa_NL\"].unique())"
   ]
  },
  {
   "cell_type": "markdown",
   "metadata": {},
   "source": [
    "## Plot example"
   ]
  },
  {
   "cell_type": "code",
   "execution_count": null,
   "metadata": {},
   "outputs": [],
   "source": [
    "sim_idx = 355  # <-- change this\n",
    "sample_data = np.array(N[sim_idx])  # shape (time, space)\n",
    "\n",
    "# imshow expects (rows, cols) = (time, space)\n",
    "\n",
    "fig = px.imshow(\n",
    "    sample_data.T,                # transpose so x=time, y=space\n",
    "    aspect=\"auto\",\n",
    "    origin=\"lower\",\n",
    "    labels=dict(x=\"Time\", y=\"Position\", color=\"Intensity\"),\n",
    "    color_continuous_scale=\"viridis\"\n",
    ")\n",
    "fig.show()"
   ]
  },
  {
   "cell_type": "code",
   "execution_count": null,
   "metadata": {},
   "outputs": [],
   "source": [
    "import plotly.graph_objects as go\n",
    "\n",
    "plot_times = np.arange(0, 121,10)\n",
    "x_grid=np.linspace(-1000,1000, 151)\n",
    "fig = go.Figure()\n",
    "for p in plot_times:\n",
    "    fig.add_traces(go.Scatter(x=x_grid, y=sample_data[p]))\n",
    "fig.show()"
   ]
  },
  {
   "cell_type": "code",
   "execution_count": null,
   "metadata": {},
   "outputs": [],
   "source": [
    "print(np.sqrt(1.85/1e-4))\n",
    "\n",
    "test = sample_data[p] / np.sum(sample_data[p])\n",
    "test_c = np.cumsum(test)\n",
    "ind = np.where(test_c>(1-0.1587))[0]\n",
    "x_grid[ind[0]]"
   ]
  },
  {
   "cell_type": "markdown",
   "metadata": {},
   "source": [
    "### Question 1: what dictates survival/extintion of initial Nodal blip?\n",
    "To start consider case when K_N = N_nl"
   ]
  },
  {
   "cell_type": "code",
   "execution_count": null,
   "metadata": {},
   "outputs": [],
   "source": [
    "x_samp = 61\n",
    "t_samp = -1\n",
    "K_A = 667\n",
    "\n",
    "N_vec = N[:, t_samp, x_samp].ravel() / K_A\n",
    "N_vec_e = N[:, t_samp, 0].ravel() / K_A\n",
    "L_vec = L[:, t_samp, x_samp].ravel() / K_A\n",
    "kappa_filter = param_df[\"kappa_NL\"].astype(int)==1\n",
    "# fig = px.scatter(x=N_vec[kappa_filter], y=L_vec[kappa_filter], color=np.log10(rat_vec[kappa_filter]))\n",
    "fig = px.scatter(x=N_vec[kappa_filter], y=L_vec[kappa_filter], color=np.log10(param_df.loc[kappa_filter, \"delta\"]))\n",
    "    #np.where(kappa_filter)[0])#np.log10(param_df.loc[kappa_filter, \"a_amp\"]+1e-6))\n",
    "fig.show()"
   ]
  },
  {
   "cell_type": "code",
   "execution_count": null,
   "metadata": {},
   "outputs": [],
   "source": [
    "rat_vec = np.divide(L_vec, N_vec)\n",
    "nz_ft = N_vec > 2\n",
    "fig = px.scatter(x=param_df.loc[kappa_filter & nz_ft, \"beta_r\"], y=rat_vec[kappa_filter & nz_ft])\n",
    "fig.show()"
   ]
  },
  {
   "cell_type": "code",
   "execution_count": null,
   "metadata": {},
   "outputs": [],
   "source": [
    "import numpy as np\n",
    "from scipy.optimize import curve_fit\n",
    "from tqdm import tqdm\n",
    "\n",
    "def gauss(x, A, mu, sigma):\n",
    "    return A * np.exp(-(x-mu)**2/(2*sigma**2))"
   ]
  },
  {
   "cell_type": "code",
   "execution_count": null,
   "metadata": {},
   "outputs": [],
   "source": [
    "peaked_inds = np.where((N_vec-N_vec_e)>1)[0]\n",
    "t_samp = 0\n",
    "amp_vec = np.empty_like(N_vec)\n",
    "amp_vec[:] = np.nan\n",
    "sigma_vec = np.empty_like(N_vec)\n",
    "sigma_vec[:] = np.nan\n",
    "\n",
    "for i in tqdm(peaked_inds):\n",
    "    A = np.squeeze(N[i, t_samp, :])\n",
    "    popt, _ = curve_fit(gauss, x_grid, A, p0=[A.max(), 0, 1.0])\n",
    "    amp_vec[i], _, sigma_vec[i] = popt"
   ]
  },
  {
   "cell_type": "code",
   "execution_count": null,
   "metadata": {},
   "outputs": [],
   "source": [
    "fig = px.scatter(x=amp_vec, y=sigma_vec)\n",
    "fig.show()"
   ]
  },
  {
   "cell_type": "code",
   "execution_count": null,
   "metadata": {},
   "outputs": [],
   "source": [
    "np.sum(~np.isnan(amp_vec))"
   ]
  },
  {
   "cell_type": "code",
   "execution_count": null,
   "metadata": {},
   "outputs": [],
   "source": [
    "px.line(x=x_grid, A"
   ]
  },
  {
   "cell_type": "code",
   "execution_count": null,
   "metadata": {},
   "outputs": [],
   "source": []
  }
 ],
 "metadata": {
  "kernelspec": {
   "display_name": "Python (symmetry-env)",
   "language": "python",
   "name": "symmetry-env"
  },
  "language_info": {
   "codemirror_mode": {
    "name": "ipython",
    "version": 3
   },
   "file_extension": ".py",
   "mimetype": "text/x-python",
   "name": "python",
   "nbconvert_exporter": "python",
   "pygments_lexer": "ipython3",
   "version": "3.10.18"
  }
 },
 "nbformat": 4,
 "nbformat_minor": 4
}
