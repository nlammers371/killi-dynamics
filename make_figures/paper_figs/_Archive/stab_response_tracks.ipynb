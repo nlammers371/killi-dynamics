{
 "cells": [
  {
   "cell_type": "code",
   "execution_count": null,
   "metadata": {
    "is_executing": true
   },
   "outputs": [],
   "source": [
    "import os\n",
    "import numpy as np\n",
    "from ultrack import MainConfig, load_config, track, to_tracks_layer, tracks_to_zarr\n",
    "import zarr\n",
    "import pandas as pd"
   ]
  },
  {
   "cell_type": "code",
   "execution_count": null,
   "metadata": {
    "is_executing": true,
    "jupyter": {
     "outputs_hidden": false
    }
   },
   "outputs": [],
   "source": [
    "# # set parameters\n",
    "root = \"E:\\\\Nick\\\\Cole Trapnell's Lab Dropbox\\\\Nick Lammers\\\\Nick\\\\killi_tracker\\\\\"\n",
    "project_name = \"230425_EXP21_LCP1_D6_1pm_DextranStabWound\"\n",
    "image_zarr = os.path.join(root, \"built_data\", \"zarr_image_files\",  project_name + \".zarr\")\n",
    "# label_zarr = os.path.join(root, \"built_data\", \"cleaned_cell_labels\", project_name + \".zarr\")\n",
    "ds_factor = 1\n",
    "config_name = \"tracking_jordao_full.txt\"\n",
    "tracking_folder = config_name.replace(\".txt\", \"\")\n",
    "tracking_folder = tracking_folder.replace(\".toml\", \"\")\n",
    "\n",
    "figure_path = \"E:\\\\Nick\\\\Cole Trapnell's Lab Dropbox\\\\Nick Lammers\\\\Nick\\\\slides\\\\killifish\\\\20240430\\\\\"\n",
    "\n",
    "model_name = \"LCP-Multiset-v1\"\n",
    "mask_path = os.path.join(root, \"built_data\", \"stitched_labels\", model_name, project_name + \"_labels_stitched.zarr\")\n",
    "mask_zarr = zarr.open(mask_path, mode=\"r\")"
   ]
  },
  {
   "cell_type": "markdown",
   "metadata": {},
   "source": [
    "## Load tracks and image data"
   ]
  },
  {
   "cell_type": "code",
   "execution_count": null,
   "metadata": {
    "is_executing": true
   },
   "outputs": [],
   "source": [
    "cfg = load_config(os.path.join(root, \"metadata\", project_name, config_name))\n",
    "tracks_df, graph = to_tracks_layer(cfg)"
   ]
  },
  {
   "cell_type": "code",
   "execution_count": null,
   "metadata": {
    "is_executing": true
   },
   "outputs": [],
   "source": [
    "data_tzyx = zarr.open(image_zarr, mode='r')"
   ]
  },
  {
   "cell_type": "code",
   "execution_count": null,
   "metadata": {
    "is_executing": true
   },
   "outputs": [],
   "source": [
    "from scipy.interpolate import interp1d\n",
    "\n",
    "# make array to specify wound location\n",
    "wound_center_array = np.asarray([[315, 457, 424], [315, 427, 424], [315, 405, 410], [315, 372, 434]])\n",
    "center_frames = np.asarray([0, 59, 84, 118])\n",
    "frame_vec_full = np.arange(data_tzyx.shape[0])\n",
    "interpf = interp1d(center_frames, wound_center_array, axis=0)\n",
    "wound_center_interp = interpf(frame_vec_full)"
   ]
  },
  {
   "cell_type": "markdown",
   "metadata": {},
   "source": [
    "## Fit sphere for distance estimations"
   ]
  },
  {
   "cell_type": "code",
   "execution_count": null,
   "metadata": {
    "is_executing": true
   },
   "outputs": [],
   "source": [
    "# from src.utilities.functions import sphereFit, cart_to_sphere\n",
    "# import pandas as pd\n",
    "# model_name = \"LCP-Multiset-v1\"\n",
    "# mask_path = os.path.join(root, \"built_data\", \"stitched_labels\", model_name, project_name + \"_labels_stitched.zarr\")\n",
    "# mask_zarr = zarr.open(mask_path, mode=\"r\")\n",
    "\n",
    "# n_points_fit = 10000\n",
    "# ref_frame = 59\n",
    "\n",
    "# mask_array = mask_zarr[0]\n",
    "# z_ref, y_ref, x_ref = np.meshgrid(range(mask_array.shape[0]),\n",
    "#                                               range(mask_array.shape[1]),\n",
    "#                                               range(mask_array.shape[2]),\n",
    "#                                               indexing=\"ij\")\n",
    "\n",
    "# # get location of masked pixels\n",
    "# nc_z = z_ref[mask_array > 0]\n",
    "# nc_y = y_ref[mask_array > 0]\n",
    "# nc_x = x_ref[mask_array > 0]\n",
    "\n",
    "# np.random.seed(364)\n",
    "# sphere_df_list = []\n",
    "# for frame in tqdm(frame_vec_full, \"Fitting spheres to lightsheet data...\"):\n",
    "#     # get points\n",
    "#     mask_array = mask_zarr[frame]\n",
    "#     # get location of masked pixels\n",
    "#     nc_z = z_ref[mask_array > 0]\n",
    "#     nc_y = y_ref[mask_array > 0]\n",
    "#     nc_x = x_ref[mask_array > 0]\n",
    "#     # choose indices to fit\n",
    "#     fit_indices = np.random.choice(range(len(nc_z)), np.min([n_points_fit, len(nc_z)]), replace=False)\n",
    "#     # fit to sphere\n",
    "#     center_point = np.empty((3, ))\n",
    "#     radius, center_point[2], center_point[1], center_point[0] = sphereFit(nc_x[fit_indices], nc_y[fit_indices], nc_z[fit_indices])\n",
    "#     # store data\n",
    "#     sphere_df = pd.DataFrame(center_point[np.newaxis, :], columns=[\"Z\", \"Y\", \"X\"])\n",
    "#     sphere_df[\"r\"] = radius\n",
    "#     sphere_df[\"t\"] = frame\n",
    "#     sphere_df[\"project\"] = project_name\n",
    "#     sphere_df_list.append(sphere_df)\n",
    "\n"
   ]
  },
  {
   "cell_type": "code",
   "execution_count": null,
   "metadata": {
    "is_executing": true
   },
   "outputs": [],
   "source": [
    "# sphere_df_list[8] = sphere_df_list[7]\n",
    "# sphere_df_master = pd.concat(sphere_df_list, axis=0, ignore_index=True)\n",
    "# sphere_df_master.loc[8, \"t\"] = 8\n",
    "# sphere_df_master = sphere_df_master.drop_duplicates(subset=[\"t\", \"project\"]).loc[:, [\"t\", \"r\", \"Z\", \"Y\", \"X\"]]\n",
    "# sphere_df_master_sm = sphere_df_master.copy()\n",
    "# sphere_df_master_sm.loc[:, [\"Z\", \"Y\", \"X\"]] = sphere_df_master_sm.loc[:, [\"Z\", \"Y\", \"X\"]].rolling(10, center=True, min_periods=1).mean()\n",
    "\n",
    "\n",
    "sphere_df_master_sm = pd.read_csv(os.path.join(root, \"metadata\", project_name, \"sphere_df.csv\"))\n",
    "sphere_df_master_sm.head()"
   ]
  },
  {
   "cell_type": "markdown",
   "metadata": {},
   "source": [
    "## Calculate net velocities as a function of time and distance from the stab wound"
   ]
  },
  {
   "cell_type": "code",
   "execution_count": null,
   "metadata": {
    "is_executing": true
   },
   "outputs": [],
   "source": [
    "def find_surface_point(raw_point, center_point, radius):\n",
    "    # find closest point that is on the sphere\n",
    "    c_vec = raw_point - center_point\n",
    "    c_vec = c_vec / np.sqrt(np.sum(c_vec**2))\n",
    "    r_vec = c_vec * radius\n",
    "    surf_point = center_point + r_vec\n",
    "\n",
    "    return surf_point"
   ]
  },
  {
   "cell_type": "code",
   "execution_count": null,
   "metadata": {
    "is_executing": true
   },
   "outputs": [],
   "source": [
    "from tqdm import tqdm \n",
    "from astropy.coordinates import cartesian_to_spherical, spherical_to_cartesian\n",
    "\n",
    "# set meanungful units\n",
    "tres = 60\n",
    "scale_vec = np.asarray([1.5, 1.5, 1.5])\n",
    "\n",
    "time_window = 10 # all calculations will be based on N-frame track fragments \n",
    "\n",
    "# loop through time points and get list of distances and signed velocities\n",
    "master_vel_vec = []\n",
    "\n",
    "for f in tqdm(frame_vec_full):\n",
    "    center_point = sphere_df_master_sm.loc[f, [\"Z\", \"Y\", \"X\"]]\n",
    "    radius = sphere_df_master_sm.loc[f, \"r\"]\n",
    "    \n",
    "    # get wound location\n",
    "    wound_center_raw = wound_center_interp[f]\n",
    "    # find closest point that is on the sphere\n",
    "    wound_center = find_surface_point(wound_center_raw, center_point, radius)\n",
    "\n",
    "    # add wound center info \n",
    "    wc = wound_center - center_point\n",
    "    w_sph = cartesian_to_spherical(wc[2], wc[1], wc[0])\n",
    "    w_sph = np.asarray([c.value for c in w_sph])\n",
    "    sphere_df_master_sm.loc[f, [\"wound_z\", \"wound_y\", \"wound_x\"]] = wound_center[:]\n",
    "    sphere_df_master_sm.loc[f, [\"wound_r\", \"wound_phi\", \"wound_theta\"]] = w_sph[:]\n",
    "    \n",
    "    # find extant tracks\n",
    "    f_start = f\n",
    "    f_stop = f + time_window-1\n",
    "    tracks_filtered = tracks_df.loc[(tracks_df[\"t\"]==f_start) | (tracks_df[\"t\"]==f_stop), :].reset_index(drop=True)\n",
    "    \n",
    "    # find tracks that are present for entire window\n",
    "    tracks_u, tracks_c = np.unique(tracks_filtered[\"track_id\"], return_counts=True)\n",
    "\n",
    "    tracks_to_use = tracks_u[tracks_c==2]\n",
    "\n",
    "    vel_vec_temp = []\n",
    "    for i, id in enumerate(tracks_to_use):\n",
    "        # get start and end locations\n",
    "        tracks_temp = tracks_filtered.loc[tracks_filtered[\"track_id\"]==id, :].reset_index(drop=True)\n",
    "        zyx0_raw = tracks_temp.loc[0, [\"z\", \"y\", \"x\"]].to_numpy()\n",
    "        zyx1_raw = tracks_temp.loc[1, [\"z\", \"y\", \"x\"]].to_numpy()\n",
    "        \n",
    "        # get closest points on sphere surface\n",
    "        zyx0 = find_surface_point(zyx0_raw, center_point, radius)\n",
    "        zyx1 = find_surface_point(zyx1_raw, center_point, radius)\n",
    "        d_cart = zyx1-zyx0\n",
    "        \n",
    "        # calculate distance to wound site\n",
    "        d0 = np.sqrt(np.sum((wound_center-zyx0)**2))#2*radius*np.arcsin(np.sqrt(np.sum((wound_center-zyx0)**2))/(2*radius))\n",
    "        d1 = np.sqrt(np.sum((wound_center-zyx1)**2))#2*radius*np.arcsin(np.sqrt(np.sum((wound_center-zyx1)**2))/(2*radius))\n",
    "\n",
    "        # get spherical coordinates\n",
    "        zyx0_c = zyx0 - center_point\n",
    "        zyx1_c = zyx1 - center_point\n",
    "        \n",
    "        sph0 = cartesian_to_spherical(zyx0_c[2], zyx0_c[1], zyx0_c[0])\n",
    "        sph0 = np.asarray([c.value for c in sph0])\n",
    "        sph1 = cartesian_to_spherical(zyx1_c[2], zyx1_c[1], zyx1_c[0])\n",
    "        sph1 = np.asarray([c.value for c in sph1])\n",
    "        sph_d = sph1 - sph0\n",
    "        master_vel_vec.append([id, f_start, d0, (d1-d0), sph0[0], sph0[1], sph0[2], sph_d[0], sph_d[1], sph_d[2],\n",
    "                              zyx0[0], zyx0[1], zyx0[2], d_cart[0], d_cart[1], d_cart[2]])\n",
    "\n",
    "\n",
    "    # master_vel_vec.append(vel_vec_temp)\n",
    "    "
   ]
  },
  {
   "cell_type": "code",
   "execution_count": null,
   "metadata": {},
   "outputs": [],
   "source": [
    "tracks_df.reset_index(drop=True, inplace=True)\n",
    "\n",
    "for f in tqdm(frame_vec_full):\n",
    "    center_point = sphere_df_master_sm.loc[f, [\"Z\", \"Y\", \"X\"]]\n",
    "    radius = sphere_df_master_sm.loc[f, \"r\"]\n",
    "    \n",
    "    # get wound location\n",
    "    wound_center_raw = wound_center_interp[f]\n",
    "    # find closest point that is on the sphere\n",
    "    wound_center = find_surface_point(wound_center_raw, center_point, radius)\n",
    "\n",
    "    # add wound center info \n",
    "    wc = wound_center - center_point\n",
    "    w_sph = cartesian_to_spherical(wc[2], wc[1], wc[0])\n",
    "    w_sph = np.asarray([c.value for c in w_sph])\n",
    "    # sphere_df_master_sm.loc[f, [\"wound_z\", \"wound_y\", \"wound_x\"]] = wound_center[:]\n",
    "    # sphere_df_master_sm.loc[f, [\"wound_r\", \"wound_phi\", \"wound_theta\"]] = w_sph[:]\n",
    "    \n",
    "    # find extant tracks\n",
    "    f_start = f\n",
    "    f_stop = f + time_window-1\n",
    "    # tracks_filtered = tracks_df.loc[(tracks_df[\"t\"]==f_start), :].reset_index(drop=True)\n",
    "    f_indices = np.where(tracks_df[\"t\"]==f_start)[0]\n",
    "    # find tracks that are present for entire window\n",
    "    # tracks_u, tracks_c = np.unique(tracks_filtered[\"track_id\"], return_counts=True)\n",
    "\n",
    "    # tracks_to_use = tracks_u#[tracks_c==2]\n",
    "\n",
    "    # vel_vec_temp = []\n",
    "    for index in f_indices:\n",
    "        # get start and end locations\n",
    "        # tracks_temp = tracks_filtered.loc[tracks_filtered[\"track_id\"]==id, :].reset_index(drop=True)\n",
    "        zyx0_raw = tracks_df.loc[index, [\"z\", \"y\", \"x\"]].to_numpy()\n",
    "        # zyx1_raw = tracks_temp.loc[1, [\"z\", \"y\", \"x\"]].to_numpy()\n",
    "        \n",
    "        # get closest points on sphere surface\n",
    "        zyx0 = find_surface_point(zyx0_raw, center_point, radius)\n",
    "        # zyx1 = find_surface_point(zyx1_raw, center_point, radius)\n",
    "        # d_cart = zyx1-zyx0\n",
    "        \n",
    "        # calculate distance to wound site\n",
    "        d0 = np.sqrt(np.sum((wound_center-zyx0)**2))#2*radius*np.arcsin(np.sqrt(np.sum((wound_center-zyx0)**2))/(2*radius))\n",
    "        tracks_df.loc[index, \"distance\"] = d0 / 1.5"
   ]
  },
  {
   "cell_type": "code",
   "execution_count": null,
   "metadata": {},
   "outputs": [],
   "source": [
    "tracks_df.to_csv(os.path.join(root, \"metadata\", project_name, \"tracks_df_dist.csv\"), index=False)"
   ]
  },
  {
   "cell_type": "code",
   "execution_count": null,
   "metadata": {},
   "outputs": [],
   "source": [
    "tracks_df.head()"
   ]
  },
  {
   "cell_type": "code",
   "execution_count": null,
   "metadata": {
    "is_executing": true
   },
   "outputs": [],
   "source": [
    "vel_df = pd.DataFrame(master_vel_vec, columns=[\"track_id\", \"frame\", \"d0\", \"net_distance\", \"r0\", \"phi0\", \"theta0\", \"r_d\", \"phi_d\", \"theta_d\",\n",
    "                                              \"z0\", \"y0\", \"x0\", \"dz\", \"dy\", \"dx\"])\n",
    "vel_df.tail(5)"
   ]
  },
  {
   "cell_type": "code",
   "execution_count": null,
   "metadata": {
    "is_executing": true
   },
   "outputs": [],
   "source": [
    "# import plotly.figure_factory as ff\n",
    "# import plotly.express as px\n",
    "# import plotly.graph_objects as go\n",
    "\n",
    "# frames=np.asarray([10, 20, 30, 40, 50])\n",
    "# ft = np.isin(vel_df[\"frame\"],frames)\n",
    "# fig = ff.create_quiver(x=vel_df.loc[ft, \"x0\"], y=vel_df.loc[ft, \"y0\"], u=vel_df.loc[ft, \"dx\"], v=vel_df.loc[ft, \"dy\"],\n",
    "#                       marker_size=12, scale=1)\n",
    "\n",
    "# fig.add_trace(go.Scatter(x=[wound_center_interp[frame, 2]], \n",
    "#                          y=[wound_center_interp[frame, 1]], mode=\"markers\", marker=dict(size=10)))\n",
    "\n",
    "# fig.update_layout(\n",
    "#     autosize=False,\n",
    "#     width=500,\n",
    "#     height=500)\n",
    "\n",
    "# fig.show()"
   ]
  },
  {
   "cell_type": "markdown",
   "metadata": {},
   "source": [
    "## Do the great circle distances make sense?"
   ]
  },
  {
   "cell_type": "code",
   "execution_count": null,
   "metadata": {
    "is_executing": true
   },
   "outputs": [],
   "source": [
    "for f in frame_vec_full:\n",
    "    vel_df.loc[vel_df[\"frame\"]==f,[\"wound_z\", \"wound_y\", \"wound_x\"]] = np.tile(wound_center_interp[f, :], (np.sum(vel_df[\"frame\"].to_numpy()==f), 1))\n",
    "\n",
    "vel_df[\"x_rel\"] = vel_df[\"x0\"] - vel_df[\"wound_x\"]\n",
    "vel_df[\"y_rel\"] = vel_df[\"y0\"] - vel_df[\"wound_y\"]\n",
    "vel_df[\"t_polar\"] = np.arctan2(vel_df[\"y_rel\"], vel_df[\"x_rel\"])\n",
    "vel_df[\"x_polar\"] = np.multiply(vel_df[\"d0\"], np.cos(vel_df[\"t_polar\"]))\n",
    "vel_df[\"y_polar\"] = np.multiply(vel_df[\"d0\"], np.sin(vel_df[\"t_polar\"]))\n",
    "vel_df[\"u_polar\"] = np.divide(np.multiply(vel_df[\"net_distance\"], vel_df[\"x_polar\"]), vel_df[\"d0\"])\n",
    "vel_df[\"v_polar\"] = np.divide(np.multiply(vel_df[\"net_distance\"], vel_df[\"y_polar\"]), vel_df[\"d0\"])\n",
    "\n",
    "vel_df[\"frame_cat\"] = vel_df[\"frame\"].astype(str)\n",
    "vel_df[\"net_vel\"] = -vel_df[\"net_distance\"] * 1.5 / time_window\n",
    "\n",
    "vel_df.to_csv(os.path.join(root, \"metadata\", project_name, \"velocity_df.csv\"), index=False)"
   ]
  },
  {
   "cell_type": "code",
   "execution_count": null,
   "metadata": {
    "is_executing": true
   },
   "outputs": [],
   "source": [
    "# import matplotlib.pyplot as plt\n",
    "# import matplotlib.cm as cm\n",
    "# from matplotlib.colors import Normalize\n",
    "\n",
    "# frames=np.arange(20, 50) #np.asarray([90, 95])\n",
    "\n",
    "# ft = np.isin(vel_df[\"frame\"],frames)\n",
    "\n",
    "# vel_df[\"net_dist_norm\"] = np.divide(vel_df[\"net_distance\"], np.sqrt(vel_df[\"dx\"]**2+vel_df[\"dy\"]**2+vel_df[\"dz\"]**2))\n",
    "\n",
    "# x=vel_df.loc[ft, \"x_polar\"]\n",
    "# y=vel_df.loc[ft, \"y_polar\"] \n",
    "# u=vel_df.loc[ft, \"u_polar\"]\n",
    "# v=vel_df.loc[ft, \"v_polar\"]\n",
    "\n",
    "\n",
    "# colors = vel_df.loc[ft, \"net_dist_norm\"].to_numpy()\n",
    "# colors[np.isnan(colors)] = 0\n",
    "# colors = np.clip(colors,-clip_val, clip_val)\n",
    "# # ft = colors < 0\n",
    "# colors = colors - np.min(colors)\n",
    "# colors = colors / np.max(colors)\n",
    "\n",
    "# colormap = cm.RdYlBu\n",
    "\n",
    "\n",
    "# # pick your colormap here, refer to \n",
    "# # http://matplotlib.org/examples/color/colormaps_reference.html\n",
    "# # and\n",
    "# # http://matplotlib.org/users/colormaps.html\n",
    "# # for details\n",
    "# plt.figure(figsize=(6, 6))\n",
    "# # plt.xlim(-2, 2)\n",
    "# # plt.ylim(-2, 2)\n",
    "# plt.quiver(x, y, u, v, color=colormap(colors), scale=0.75, angles='xy',scale_units='xy')\n",
    "#            #scale_units='xy', scale=1, pivot='mid')\n",
    "\n",
    "# plt.show()"
   ]
  },
  {
   "cell_type": "code",
   "execution_count": null,
   "metadata": {
    "is_executing": true
   },
   "outputs": [],
   "source": [
    "import matplotlib.pyplot as plt\n",
    "import matplotlib.cm as cm\n",
    "from matplotlib.colors import Normalize\n",
    "\n",
    "frames=np.arange(50, 62, 2) # np.asarray([20, 30,  40, 50, 60, 70])\n",
    "vel_df[\"net_vel\"] = -vel_df[\"net_distance\"] * 1.5 / time_window\n",
    "ft = np.isin(vel_df[\"frame\"],frames)\n",
    "\n",
    "fig = px.scatter(vel_df.loc[ft], x=\"d0\", y=\"net_vel\", facet_col=\"frame\",  trendline=\"lowess\", opacity=0.1, \n",
    "                labels={\"frame\":\"minutes\", \"net_vel\": \"net velocity (um/s)\", \"d0\":\"wound dist (um)\"})\n",
    "fig.update_yaxes(range=[-5, 5])               \n",
    "# fig.update_layout(xaxis_title=\"distance from wound (um)\", yaxis_title=\"net velocity toward wound (um/minute)\")\n",
    "fig.show()\n"
   ]
  },
  {
   "cell_type": "code",
   "execution_count": null,
   "metadata": {
    "is_executing": true
   },
   "outputs": [],
   "source": [
    "def get_n_colors_from_colormap(colorscale_name, n_colors):\n",
    "    # Get a Plotly colorscale by name\n",
    "    colorscale = px.colors.get_colorscale(colorscale_name)\n",
    "\n",
    "    sample_points = np.linspace(0,1,n_colors)\n",
    "    # Sample n_colors from the colorscale\n",
    "    sampled_colors = px.colors.sample_colorscale(colorscale, samplepoints=list(sample_points))\n",
    "    \n",
    "    return sampled_colors\n",
    "\n",
    "# Example usage\n",
    "colors = get_n_colors_from_colormap('Viridis', 15)\n",
    "print(colors)"
   ]
  },
  {
   "cell_type": "code",
   "execution_count": null,
   "metadata": {
    "is_executing": true
   },
   "outputs": [],
   "source": [
    "import matplotlib.cm as cm\n",
    "from matplotlib.colors import Normalize\n",
    "\n",
    "cmap = \"PiYG\"\n",
    "frames=np.arange(30, 90, 10)\n",
    "\n",
    "c_list = get_n_colors_from_colormap(cmap, len(frames))\n",
    "\n",
    "ft = np.isin(vel_df[\"frame\"],frames)\n",
    "\n",
    "fig = px.scatter(vel_df.loc[ft], x=\"d0\", y=\"net_vel\", color=\"frame_cat\",  trendline=\"lowess\", opacity=0, color_discrete_sequence=c_list, \n",
    "                labels={\"frame\":\"minutes\", \"frame_cat\": \"minutes\", \"net_vel\": \"net velocity (um/s)\", \"d0\":\"wound dist (um)\"})\n",
    "fig.update_yaxes(range=[-3, 3])  \n",
    "fig.update_xaxes(range=[50, 500])  \n",
    "\n",
    "iter = 0\n",
    "for i in range(1,2*len(frames),2):\n",
    "    fig.data[i].update(line_color=c_list[iter], line_width=5)\n",
    "    iter+=1\n",
    "\n",
    "fig.update_layout(\n",
    "    autosize=False,\n",
    "    width=500,\n",
    "    height=500)\n",
    "\n",
    "fig.write_image(figure_path + \"net_vel_trends.png\", scale=4)\n",
    "fig.show()"
   ]
  },
  {
   "cell_type": "code",
   "execution_count": null,
   "metadata": {
    "is_executing": true
   },
   "outputs": [],
   "source": [
    "a = list(range(1,2*len(frames),2))\n",
    "a"
   ]
  },
  {
   "cell_type": "code",
   "execution_count": null,
   "metadata": {
    "is_executing": true
   },
   "outputs": [],
   "source": [
    "vel_df[\"net_vel_total\"] = np.sqrt(vel_df[\"dx\"]**2+vel_df[\"dy\"]**2+vel_df[\"dz\"]**2)* 1.5 / time_window\n",
    "\n",
    "frames=np.asarray([10, 20, 30,  40, 50, 60, 70])\n",
    "ft = np.isin(vel_df[\"frame\"],frames)\n",
    "\n",
    "fig = px.scatter(vel_df.loc[ft], x=\"d0\", y=\"net_vel_total\", facet_col=\"frame\",  trendline=\"lowess\", opacity=0.1, \n",
    "                labels={\"frame\":\"minutes\", \"net_vel_total\": \"net velocity (um/s)\", \"d0\":\"wound dist (um)\"})\n",
    "fig.update_yaxes(range=[0, 10])               \n",
    "# fig.update_layout(xaxis_title=\"distance from wound (um)\", yaxis_title=\"net velocity toward wound (um/minute)\")\n",
    "fig.show()"
   ]
  },
  {
   "cell_type": "code",
   "execution_count": null,
   "metadata": {
    "is_executing": true
   },
   "outputs": [],
   "source": [
    "fig = px.scatter_3d(tracks_df, x=\"x\", y=\"y\", z=\"z\", color=\"track_id\", opacity=0.1)\n",
    "fig.add_trace(go.Scatter3d(x=wound_center_interp[:, 2], y=wound_center_interp[:, 1], z=wound_center_interp[:, 0], mode=\"markers\"))\n",
    "fig.show()"
   ]
  },
  {
   "cell_type": "code",
   "execution_count": null,
   "metadata": {
    "is_executing": true
   },
   "outputs": [],
   "source": [
    "\n",
    "vel_array = np.asarray(master_vel_vec)\n",
    "plot_filter = (vel_array[:, 0] >= 10) & (vel_array[:, 0] <= 30)\n",
    "\n",
    "plt.scatter(x=vel_array[plot_filter, 1], y=vel_array[plot_filter, 2])\n",
    "plt.show()"
   ]
  },
  {
   "cell_type": "code",
   "execution_count": null,
   "metadata": {
    "is_executing": true
   },
   "outputs": [],
   "source": []
  }
 ],
 "metadata": {
  "kernelspec": {
   "display_name": "Python 3 (ipykernel)",
   "language": "python",
   "name": "python3"
  },
  "language_info": {
   "codemirror_mode": {
    "name": "ipython",
    "version": 3
   },
   "file_extension": ".py",
   "mimetype": "text/x-python",
   "name": "python",
   "nbconvert_exporter": "python",
   "pygments_lexer": "ipython3",
   "version": "3.10.14"
  }
 },
 "nbformat": 4,
 "nbformat_minor": 4
}
