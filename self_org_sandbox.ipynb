{
 "cells": [
  {
   "cell_type": "code",
   "execution_count": null,
   "id": "0",
   "metadata": {},
   "outputs": [],
   "source": [
    "import jax\n",
    "import jax.numpy as jnp\n",
    "import numpy as np\n",
    "import matplotlib.pyplot as plt\n",
    "from symmetry_breaking_JAX.models.JAX_NL_1D import run_1d, Params1D, BlipSet1D"
   ]
  },
  {
   "cell_type": "code",
   "execution_count": null,
   "id": "1",
   "metadata": {},
   "outputs": [],
   "source": [
    "# --------------------------------------------------\n",
    "# Experiment config\n",
    "# --------------------------------------------------\n",
    "Lx = 1500.0   # µm\n",
    "dx = 10.0\n",
    "nx = int(Lx / dx) + 1\n",
    "x = jnp.linspace(0.0, Lx, nx)\n",
    "\n",
    "T = 30 * 3600  # 6 hours\n",
    "n_save = 121\n",
    "save_ts = jnp.linspace(0.0, T, n_save)\n",
    "\n",
    "# Parameters (pick one set you want to test)\n",
    "params = Params1D(\n",
    "    D_N=1.85,\n",
    "    D_L=1.85*10,\n",
    "    sigma_N=1,\n",
    "    sigma_L=1*5,\n",
    "    mu_N=1e-4,\n",
    "    mu_L=1e-4,\n",
    "    n=2,\n",
    "    p=2,\n",
    "    alpha=1.0,\n",
    "    K_A=667.0,\n",
    "    K_NL=667*5,\n",
    "    K_I=1.0,\n",
    "    bc=\"periodic\",\n",
    "    sigma_t_direct=60.0\n",
    ")\n",
    "\n",
    "# --------------------------------------------------\n",
    "# Choose seeding strategy\n",
    "# --------------------------------------------------\n",
    "mode = \"manual\"   # \"init\" or \"induce\"\n",
    "n_spots = 100\n"
   ]
  },
  {
   "cell_type": "code",
   "execution_count": null,
   "id": "2",
   "metadata": {},
   "outputs": [],
   "source": [
    "print(np.sqrt(18.5/1e-4))\n",
    "print(np.sqrt(1.85/1e-4))"
   ]
  },
  {
   "cell_type": "code",
   "execution_count": null,
   "id": "3",
   "metadata": {},
   "outputs": [],
   "source": [
    "if mode == \"init\":\n",
    "    # Initial Gaussians\n",
    "    rng = np.random.default_rng()  # uses OS entropy\n",
    "    centers    = rng.uniform(0.0, Lx, size=n_spots)   \n",
    "    sigmas = 25.0 * jnp.ones_like(centers)\n",
    "    amps = 50 * jnp.ones_like(centers)\n",
    "\n",
    "    N0 = sum(amp * jnp.exp(-0.5 * ((x - c)/s)**2) for amp, c, s in zip(amps, centers, sigmas))\n",
    "    L0 = jnp.zeros_like(x)\n",
    "    rho0 = jnp.ones_like(x) * 0.1\n",
    "    F_N0 = jnp.zeros_like(x)\n",
    "    F_L0 = jnp.zeros_like(x)\n",
    "    y0 = jnp.concatenate([N0, L0, rho0, F_N0, F_L0])\n",
    "\n",
    "    blips = BlipSet1D.empty()\n",
    "\n",
    "elif mode == \"induce\":\n",
    "    # No initial spots, but add timed blips\n",
    "    blips = BlipSet1D.empty()\n",
    "    # rng = jax.random.PRNGKey(1)\n",
    "    # rng_t, rng_x = jax.random.split(rng) \n",
    "    # times = jax.random.uniform(rng_t, (n_spots,), minval=1, maxval=T)\n",
    "    # xs = jax.random.uniform(rng, (n_spots,), minval=0.0, maxval=Lx)\n",
    "    rng = np.random.default_rng()  # uses OS entropy\n",
    "    times = rng.uniform(0.0, T, size=n_spots)\n",
    "    xs    = rng.uniform(0.0, Lx, size=n_spots)\n",
    "\n",
    "    amps = 200.0 * jnp.ones_like(xs)\n",
    "    sigx = 25.0 * jnp.ones_like(xs)\n",
    "\n",
    "    blips = BlipSet1D(\n",
    "        N_dir_times=times, N_dir_x=xs, N_dir_amp=amps, N_dir_sigx=sigx,\n",
    "        N_imp_times=jnp.array([]), N_imp_x=jnp.array([]), N_imp_amp=jnp.array([]), N_imp_sigx=jnp.array([]),\n",
    "        L_dir_times=jnp.array([]), L_dir_x=jnp.array([]), L_dir_amp=jnp.array([]), L_dir_sigx=jnp.array([]),\n",
    "        L_imp_times=jnp.array([]), L_imp_x=jnp.array([]), L_imp_amp=jnp.array([]), L_imp_sigx=jnp.array([]),\n",
    "    )\n",
    "    y0 = None  # use default initializer inside run_1d\n",
    "    \n",
    "elif mode == \"manual\":\n",
    "    # No initial spots, but add timed blips\n",
    "    blips = BlipSet1D.empty()\n",
    "\n",
    "    times = np.array([0.0, 0.0])\n",
    "    xs    = np.array([375.0, 1000.0])\n",
    "\n",
    "    amps = 666667.0 * jnp.ones_like(xs)\n",
    "    sigx = 25.0 * jnp.ones_like(xs)\n",
    "\n",
    "    blips = BlipSet1D(\n",
    "        N_dir_times=times, N_dir_x=xs, N_dir_amp=amps, N_dir_sigx=sigx,\n",
    "        N_imp_times=jnp.array([]), N_imp_x=jnp.array([]), N_imp_amp=jnp.array([]), N_imp_sigx=jnp.array([]),\n",
    "        L_dir_times=jnp.array([]), L_dir_x=jnp.array([]), L_dir_amp=jnp.array([]), L_dir_sigx=jnp.array([]),\n",
    "        L_imp_times=jnp.array([]), L_imp_x=jnp.array([]), L_imp_amp=jnp.array([]), L_imp_sigx=jnp.array([]),\n",
    "    )\n",
    "    y0 = None  # use default initializer inside run_1d"
   ]
  },
  {
   "cell_type": "code",
   "execution_count": null,
   "id": "4",
   "metadata": {},
   "outputs": [],
   "source": [
    "# --------------------------------------------------\n",
    "# Run simulation\n",
    "# --------------------------------------------------\n",
    "x, ts, ys = run_1d(params, blips, T, nx, save_ts, y0_override=y0)\n",
    "\n",
    "N_traj = ys[:, 0:nx]\n",
    "L_traj = ys[:, nx:2*nx]\n",
    "\n",
    "# --------------------------------------------------\n",
    "# Quick visualization\n",
    "# --------------------------------------------------\n",
    "plt.figure(figsize=(8, 5))\n",
    "for i in range(0, len(ts), max(1, len(ts)//10)):\n",
    "    plt.plot(x, N_traj[i] / 667, label=f\"t={ts[i]/3600:.1f} h\")\n",
    "plt.xlabel(\"x (µm)\")\n",
    "plt.ylabel(\"Nodal concentration\")\n",
    "plt.title(\"Spot test trajectories\")\n",
    "plt.legend()\n",
    "plt.show()"
   ]
  },
  {
   "cell_type": "code",
   "execution_count": null,
   "id": "5",
   "metadata": {},
   "outputs": [],
   "source": [
    "import numpy as np\n",
    "from scipy.optimize import curve_fit\n",
    "from tqdm import tqdm\n",
    "\n",
    "def gauss(x, A, mu, sigma):\n",
    "    return A * np.exp(-(x-mu)**2/(2*sigma**2))\n",
    "\n",
    "A = np.array(N_traj[-1])\n",
    "x_mu = np.sum(np.multiply(A, x)) / np.sum(A)\n",
    "A_var = np.sum(np.multiply((x-x_mu)**2, A)) / np.sum(A)\n",
    "print(np.sqrt(A_var))\n",
    "print(x_mu)"
   ]
  },
  {
   "cell_type": "code",
   "execution_count": null,
   "id": "6",
   "metadata": {},
   "outputs": [],
   "source": [
    "gauss(400, 0, 300)"
   ]
  },
  {
   "cell_type": "code",
   "execution_count": null,
   "id": "7",
   "metadata": {},
   "outputs": [],
   "source": [
    "import plotly.express as px\n",
    "\n",
    "fig = px.imshow(np.log(1+N_traj[0:25, :]))\n",
    "fig.show()"
   ]
  },
  {
   "cell_type": "code",
   "execution_count": null,
   "id": "8",
   "metadata": {},
   "outputs": [],
   "source": [
    "fig = px.scatter(x=xs, y=times)\n",
    "fig.show()"
   ]
  },
  {
   "cell_type": "code",
   "execution_count": null,
   "id": "9",
   "metadata": {},
   "outputs": [],
   "source": []
  }
 ],
 "metadata": {
  "kernelspec": {
   "display_name": "Python (symmetry-env)",
   "language": "python",
   "name": "symmetry-env"
  },
  "language_info": {
   "codemirror_mode": {
    "name": "ipython",
    "version": 3
   },
   "file_extension": ".py",
   "mimetype": "text/x-python",
   "name": "python",
   "nbconvert_exporter": "python",
   "pygments_lexer": "ipython3",
   "version": "3.10.18"
  }
 },
 "nbformat": 4,
 "nbformat_minor": 5
}
