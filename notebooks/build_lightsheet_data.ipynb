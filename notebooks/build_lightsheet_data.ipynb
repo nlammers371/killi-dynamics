{
 "cells": [
  {
   "cell_type": "markdown",
   "metadata": {
    "collapsed": false,
    "jupyter": {
     "outputs_hidden": false
    }
   },
   "source": [
    "# This notebook contains code to register, fuse, segment, and track lightsheet data."
   ]
  },
  {
   "cell_type": "markdown",
   "metadata": {
    "collapsed": false,
    "jupyter": {
     "outputs_hidden": false
    }
   },
   "source": [
    "## Step 1: Export to Zarr format"
   ]
  },
  {
   "cell_type": "code",
   "execution_count": 1,
   "metadata": {
    "ExecuteTime": {
     "end_time": "2025-08-05T16:55:59.753212Z",
     "start_time": "2025-08-05T16:55:58.631281Z"
    },
    "collapsed": false,
    "is_executing": true,
    "jupyter": {
     "outputs_hidden": false
    }
   },
   "outputs": [
    {
     "name": "stderr",
     "output_type": "stream",
     "text": [
      "c:\\Users\\Sebastian\\anaconda3\\envs\\killi-tracker-new\\Lib\\site-packages\\tqdm\\auto.py:21: TqdmWarning: IProgress not found. Please update jupyter and ipywidgets. See https://ipywidgets.readthedocs.io/en/stable/user_install.html\n",
      "  from .autonotebook import tqdm as notebook_tqdm\n"
     ]
    }
   ],
   "source": [
    "# Fix for \"No module named src\" import error\n",
    "import sys\n",
    "import os\n",
    "sys.path.append(os.path.abspath(\"..\"))\n",
    "\n",
    "from src.nucleus_dynamics.export_to_zarr.export_czi_to_zarr import export_czi_to_zarr, get_prefix_list\n",
    "from src.build_killi.run00_get_frame_shifts import get_timeseries_shifts\n",
    "from src.build_killi.run02_segment_nuclei import estimate_li_thresh, segment_nuclei, calculate_li_trend, calculate_li_thresh, do_hierarchical_watershed\n",
    "import numpy as np\n",
    "import matplotlib.pyplot as plt\n",
    "import pandas as pd\n",
    "from multiprocessing import freeze_support\n",
    "import zarr\n",
    "import napari\n",
    "\n",
    "# Potentially temporary imports for segmentation threshold testing\n",
    "import time\n",
    "from skimage.filters import threshold_isodata, threshold_triangle, threshold_otsu, threshold_yen"
   ]
  },
  {
   "cell_type": "markdown",
   "metadata": {
    "collapsed": false,
    "jupyter": {
     "outputs_hidden": false
    }
   },
   "source": [
    "Provide path and metadata info needed for export"
   ]
  },
  {
   "cell_type": "code",
   "execution_count": 2,
   "metadata": {
    "collapsed": false,
    "is_executing": true,
    "jupyter": {
     "outputs_hidden": false
    }
   },
   "outputs": [],
   "source": [
    "resampling_scale = np.asarray([3, 0.85, 0.85]) # Resampling scale (um) for the data, in the order of (z, y, x)\n",
    "tres = 101.11  # Time resolution (seconds). Pull this from the zarr metadata (info tab in zen)\n",
    "overwrite = False  # If True, will overwrite existing zarr files. If False, will skip files that already exist.\n",
    "par_flag = True  # If True, will use multiprocessing to speed up the export. If False, will run sequentially.\n",
    "\n",
    "# set path to folder containing the raw czi files.\n",
    "# E.g. for Syd's March movie this is \"D:/Syd/250311_NLSxLCP1_26h_to_96h_R2/\"\n",
    "raw_data_root = \"C:/Users/Sebastian/Documents/Research/killi_dynamics/raw_image_data/BC1/\"  # Path to the folder containing the raw czi files. Make sure this is correct.\n",
    "\n",
    "# Channel names for the data, in the order of the channels in the file. This is what we use to identify the channels in the zarr file.\n",
    "channel_names = [\"BC1\", \"nls\"]\n",
    "\n",
    "# Specify the path to the output zarr file\n",
    "save_root = \"C:/Users/Sebastian/Documents/Research/killi_dynamics/\" # Output directory. Make sure there is sufficient space on the drive.\n",
    "\n",
    "# Specify the project names for each side of the acquisition. These will be used for everything moving forward, so pick something interpretable.\n",
    "# Date and protein-fluor at minimum\n",
    "out_name_vec = [\"BC1_NLS_test0\"]"
   ]
  },
  {
   "cell_type": "markdown",
   "metadata": {
    "collapsed": false,
    "jupyter": {
     "outputs_hidden": false
    }
   },
   "source": [
    "Get list of file name prefixes for each side of the acquisition. Confirm that these are correct."
   ]
  },
  {
   "cell_type": "code",
   "execution_count": 3,
   "metadata": {
    "ExecuteTime": {
     "end_time": "2025-04-29T03:43:53.767365100Z",
     "start_time": "2025-04-29T03:43:53.721285Z"
    },
    "collapsed": false,
    "jupyter": {
     "outputs_hidden": false
    }
   },
   "outputs": [
    {
     "name": "stdout",
     "output_type": "stream",
     "text": [
      "['e1_2025_04_19__07_23_46_911_G1']\n"
     ]
    }
   ],
   "source": [
    "# Give string patterns to use to pick out frames from each side of the acquisition.\n",
    "prefix_list = get_prefix_list(raw_data_root=raw_data_root)\n",
    "prefix_list = [p for p in prefix_list if \".czi\" not in p]\n",
    "print(prefix_list)"
   ]
  },
  {
   "cell_type": "markdown",
   "metadata": {
    "collapsed": false,
    "jupyter": {
     "outputs_hidden": false
    }
   },
   "source": [
    "Now call the export function to export the data to zarr format."
   ]
  },
  {
   "cell_type": "code",
   "execution_count": null,
   "metadata": {
    "collapsed": false,
    "jupyter": {
     "outputs_hidden": false
    }
   },
   "outputs": [],
   "source": [
    "resampling_scale = np.asarray([3, 0.85, 0.85])\n",
    "for p, project_name in enumerate(out_name_vec):\n",
    "    file_prefix = prefix_list[p]\n",
    "    export_czi_to_zarr(raw_data_root, file_prefix, project_name, save_root, tres, par_flag=False,\n",
    "                       resampling_scale=resampling_scale, channel_names=channel_names, overwrite_flag=False)"
   ]
  },
  {
   "cell_type": "markdown",
   "metadata": {},
   "source": [
    "## Step 2: Registration"
   ]
  },
  {
   "cell_type": "code",
   "execution_count": null,
   "metadata": {},
   "outputs": [
    {
     "name": "stderr",
     "output_type": "stream",
     "text": [
      "100%|██████████| 4/4 [41:04<00:00, 616.24s/it]\n"
     ]
    }
   ],
   "source": [
    "get_timeseries_shifts(save_root, out_name_vec[0])"
   ]
  },
  {
   "cell_type": "markdown",
   "metadata": {},
   "source": [
    "Visualize what shifts will be applied to the image so that the embryo will be centered in all frames."
   ]
  },
  {
   "cell_type": "code",
   "execution_count": 10,
   "metadata": {},
   "outputs": [
    {
     "data": {
      "image/png": "[encoded data removed]",
      "text/plain": [
       "<Figure size 640x480 with 1 Axes>"
      ]
     },
     "metadata": {},
     "output_type": "display_data"
    }
   ],
   "source": [
    "# Currently this will only plot for one half of the image if it is composed of two sides - out_name_vec[0] is the first half\n",
    "\n",
    "csv_path = f\"{save_root}metadata/{out_name_vec[0]}/frame_shift_df.csv\"\n",
    "frame_shifts = pd.read_csv(csv_path)\n",
    "\n",
    "frames = frame_shifts[\"frame\"].values\n",
    "xs = frame_shifts[\"xs\"].values\n",
    "ys = frame_shifts[\"ys\"].values\n",
    "zs = frame_shifts[\"zs\"].values\n",
    "\n",
    "plt.plot(frames, zs, label=\"Z shift\")\n",
    "plt.plot(frames, ys, label=\"Y shift\")\n",
    "plt.plot(frames, xs, label=\"X shift\")\n",
    "plt.xlabel(\"Frame\")\n",
    "plt.ylabel(\"Shift (px)\")\n",
    "plt.legend()\n",
    "plt.show()"
   ]
  },
  {
   "cell_type": "code",
   "execution_count": null,
   "metadata": {},
   "outputs": [],
   "source": [
    "# Apply shifts"
   ]
  },
  {
   "cell_type": "markdown",
   "metadata": {},
   "source": [
    "## Step 3: Segmentation"
   ]
  },
  {
   "cell_type": "markdown",
   "metadata": {},
   "source": [
    "Calculate thresholds and apply masks"
   ]
  },
  {
   "cell_type": "code",
   "execution_count": 10,
   "metadata": {},
   "outputs": [
    {
     "name": "stdout",
     "output_type": "stream",
     "text": [
      "(5, 2, 215, 1383, 1365)\n"
     ]
    },
    {
     "ename": "KeyboardInterrupt",
     "evalue": "",
     "output_type": "error",
     "traceback": [
      "\u001B[31m---------------------------------------------------------------------------\u001B[39m",
      "\u001B[31mKeyboardInterrupt\u001B[39m                         Traceback (most recent call last)",
      "\u001B[36mCell\u001B[39m\u001B[36m \u001B[39m\u001B[32mIn[10]\u001B[39m\u001B[32m, line 10\u001B[39m\n\u001B[32m      7\u001B[39m n_thresh = \u001B[32m5\u001B[39m\n\u001B[32m      9\u001B[39m t1_li = time.time()\n\u001B[32m---> \u001B[39m\u001B[32m10\u001B[39m data_log_i, li_thresh = \u001B[43mcalculate_li_thresh\u001B[49m\u001B[43m(\u001B[49m\u001B[43mim\u001B[49m\u001B[43m)\u001B[49m\n\u001B[32m     11\u001B[39m t2_li = time.time()\n\u001B[32m     12\u001B[39m li_thresh_range = np.linspace(li_thresh * \u001B[32m0.75\u001B[39m, li_thresh * \u001B[32m1.25\u001B[39m, n_thresh)\n",
      "\u001B[36mFile \u001B[39m\u001B[32mc:\\Users\\Sebastian\\Documents\\Research\\killi-tracker\\src\\build_killi\\run02_segment_nuclei.py:138\u001B[39m, in \u001B[36mcalculate_li_thresh\u001B[39m\u001B[34m(image, LoG_sigma, gauss_sigma, thresh_li)\u001B[39m\n\u001B[32m    135\u001B[39m     gauss_sigma = (\u001B[32m1.33\u001B[39m, \u001B[32m4\u001B[39m, \u001B[32m4\u001B[39m)\n\u001B[32m    137\u001B[39m \u001B[38;5;66;03m# denoised = ndi.median_filter(data_zyx, size=3)\u001B[39;00m\n\u001B[32m--> \u001B[39m\u001B[32m138\u001B[39m gaussian_background = \u001B[43mski\u001B[49m\u001B[43m.\u001B[49m\u001B[43mfilters\u001B[49m\u001B[43m.\u001B[49m\u001B[43mgaussian\u001B[49m\u001B[43m(\u001B[49m\u001B[43mimage\u001B[49m\u001B[43m,\u001B[49m\u001B[43m \u001B[49m\u001B[43msigma\u001B[49m\u001B[43m=\u001B[49m\u001B[43mgauss_sigma\u001B[49m\u001B[43m,\u001B[49m\u001B[43m \u001B[49m\u001B[43mpreserve_range\u001B[49m\u001B[43m=\u001B[49m\u001B[38;5;28;43;01mTrue\u001B[39;49;00m\u001B[43m)\u001B[49m\n\u001B[32m    139\u001B[39m data_bkg = image - gaussian_background\n\u001B[32m    141\u001B[39m data_log = sitk.GetArrayFromImage(sitk.LaplacianRecursiveGaussian(sitk.GetImageFromArray(data_bkg), sigma=LoG_sigma))\n",
      "\u001B[36mFile \u001B[39m\u001B[32mc:\\Users\\Sebastian\\anaconda3\\envs\\killi-tracker-new\\Lib\\site-packages\\skimage\\_shared\\filters.py:165\u001B[39m, in \u001B[36mgaussian\u001B[39m\u001B[34m(image, sigma, output, mode, cval, preserve_range, truncate, channel_axis)\u001B[39m\n\u001B[32m    163\u001B[39m \u001B[38;5;28;01mif\u001B[39;00m (output \u001B[38;5;129;01mis\u001B[39;00m \u001B[38;5;129;01mnot\u001B[39;00m \u001B[38;5;28;01mNone\u001B[39;00m) \u001B[38;5;129;01mand\u001B[39;00m (\u001B[38;5;129;01mnot\u001B[39;00m np.issubdtype(output.dtype, np.floating)):\n\u001B[32m    164\u001B[39m     \u001B[38;5;28;01mraise\u001B[39;00m \u001B[38;5;167;01mValueError\u001B[39;00m(\u001B[33m\"\u001B[39m\u001B[33mProvided output data type is not float\u001B[39m\u001B[33m\"\u001B[39m)\n\u001B[32m--> \u001B[39m\u001B[32m165\u001B[39m \u001B[38;5;28;01mreturn\u001B[39;00m \u001B[43mndi\u001B[49m\u001B[43m.\u001B[49m\u001B[43mgaussian_filter\u001B[49m\u001B[43m(\u001B[49m\u001B[43mimage\u001B[49m\u001B[43m,\u001B[49m\u001B[43m \u001B[49m\u001B[43msigma\u001B[49m\u001B[43m,\u001B[49m\u001B[43m \u001B[49m\u001B[43moutput\u001B[49m\u001B[43m=\u001B[49m\u001B[43moutput\u001B[49m\u001B[43m,\u001B[49m\n\u001B[32m    166\u001B[39m \u001B[43m                           \u001B[49m\u001B[43mmode\u001B[49m\u001B[43m=\u001B[49m\u001B[43mmode\u001B[49m\u001B[43m,\u001B[49m\u001B[43m \u001B[49m\u001B[43mcval\u001B[49m\u001B[43m=\u001B[49m\u001B[43mcval\u001B[49m\u001B[43m,\u001B[49m\u001B[43m \u001B[49m\u001B[43mtruncate\u001B[49m\u001B[43m=\u001B[49m\u001B[43mtruncate\u001B[49m\u001B[43m)\u001B[49m\n",
      "\u001B[36mFile \u001B[39m\u001B[32mc:\\Users\\Sebastian\\anaconda3\\envs\\killi-tracker-new\\Lib\\site-packages\\scipy\\ndimage\\_filters.py:855\u001B[39m, in \u001B[36mgaussian_filter\u001B[39m\u001B[34m(input, sigma, order, output, mode, cval, truncate, radius, axes)\u001B[39m\n\u001B[32m    853\u001B[39m \u001B[38;5;28;01mif\u001B[39;00m \u001B[38;5;28mlen\u001B[39m(axes) > \u001B[32m0\u001B[39m:\n\u001B[32m    854\u001B[39m     \u001B[38;5;28;01mfor\u001B[39;00m axis, sigma, order, mode, radius \u001B[38;5;129;01min\u001B[39;00m axes:\n\u001B[32m--> \u001B[39m\u001B[32m855\u001B[39m         \u001B[43mgaussian_filter1d\u001B[49m\u001B[43m(\u001B[49m\u001B[38;5;28;43minput\u001B[39;49m\u001B[43m,\u001B[49m\u001B[43m \u001B[49m\u001B[43msigma\u001B[49m\u001B[43m,\u001B[49m\u001B[43m \u001B[49m\u001B[43maxis\u001B[49m\u001B[43m,\u001B[49m\u001B[43m \u001B[49m\u001B[43morder\u001B[49m\u001B[43m,\u001B[49m\u001B[43m \u001B[49m\u001B[43moutput\u001B[49m\u001B[43m,\u001B[49m\n\u001B[32m    856\u001B[39m \u001B[43m                          \u001B[49m\u001B[43mmode\u001B[49m\u001B[43m,\u001B[49m\u001B[43m \u001B[49m\u001B[43mcval\u001B[49m\u001B[43m,\u001B[49m\u001B[43m \u001B[49m\u001B[43mtruncate\u001B[49m\u001B[43m,\u001B[49m\u001B[43m \u001B[49m\u001B[43mradius\u001B[49m\u001B[43m=\u001B[49m\u001B[43mradius\u001B[49m\u001B[43m)\u001B[49m\n\u001B[32m    857\u001B[39m         \u001B[38;5;28minput\u001B[39m = output\n\u001B[32m    858\u001B[39m \u001B[38;5;28;01melse\u001B[39;00m:\n",
      "\u001B[36mFile \u001B[39m\u001B[32mc:\\Users\\Sebastian\\anaconda3\\envs\\killi-tracker-new\\Lib\\site-packages\\scipy\\ndimage\\_filters.py:753\u001B[39m, in \u001B[36mgaussian_filter1d\u001B[39m\u001B[34m(input, sigma, axis, order, output, mode, cval, truncate, radius)\u001B[39m\n\u001B[32m    751\u001B[39m \u001B[38;5;66;03m# Since we are calling correlate, not convolve, revert the kernel\u001B[39;00m\n\u001B[32m    752\u001B[39m weights = _gaussian_kernel1d(sigma, order, lw)[::-\u001B[32m1\u001B[39m]\n\u001B[32m--> \u001B[39m\u001B[32m753\u001B[39m \u001B[38;5;28;01mreturn\u001B[39;00m \u001B[43mcorrelate1d\u001B[49m\u001B[43m(\u001B[49m\u001B[38;5;28;43minput\u001B[39;49m\u001B[43m,\u001B[49m\u001B[43m \u001B[49m\u001B[43mweights\u001B[49m\u001B[43m,\u001B[49m\u001B[43m \u001B[49m\u001B[43maxis\u001B[49m\u001B[43m,\u001B[49m\u001B[43m \u001B[49m\u001B[43moutput\u001B[49m\u001B[43m,\u001B[49m\u001B[43m \u001B[49m\u001B[43mmode\u001B[49m\u001B[43m,\u001B[49m\u001B[43m \u001B[49m\u001B[43mcval\u001B[49m\u001B[43m,\u001B[49m\u001B[43m \u001B[49m\u001B[32;43m0\u001B[39;49m\u001B[43m)\u001B[49m\n",
      "\u001B[36mFile \u001B[39m\u001B[32mc:\\Users\\Sebastian\\anaconda3\\envs\\killi-tracker-new\\Lib\\site-packages\\scipy\\ndimage\\_filters.py:610\u001B[39m, in \u001B[36mcorrelate1d\u001B[39m\u001B[34m(input, weights, axis, output, mode, cval, origin)\u001B[39m\n\u001B[32m    606\u001B[39m     \u001B[38;5;28;01mraise\u001B[39;00m \u001B[38;5;167;01mValueError\u001B[39;00m(\u001B[33m'\u001B[39m\u001B[33mInvalid origin; origin must satisfy \u001B[39m\u001B[33m'\u001B[39m\n\u001B[32m    607\u001B[39m                      \u001B[33m'\u001B[39m\u001B[33m-(len(weights) // 2) <= origin <= \u001B[39m\u001B[33m'\u001B[39m\n\u001B[32m    608\u001B[39m                      \u001B[33m'\u001B[39m\u001B[33m(len(weights)-1) // 2\u001B[39m\u001B[33m'\u001B[39m)\n\u001B[32m    609\u001B[39m mode = _ni_support._extend_mode_to_code(mode)\n\u001B[32m--> \u001B[39m\u001B[32m610\u001B[39m \u001B[43m_nd_image\u001B[49m\u001B[43m.\u001B[49m\u001B[43mcorrelate1d\u001B[49m\u001B[43m(\u001B[49m\u001B[38;5;28;43minput\u001B[39;49m\u001B[43m,\u001B[49m\u001B[43m \u001B[49m\u001B[43mweights\u001B[49m\u001B[43m,\u001B[49m\u001B[43m \u001B[49m\u001B[43maxis\u001B[49m\u001B[43m,\u001B[49m\u001B[43m \u001B[49m\u001B[43moutput\u001B[49m\u001B[43m,\u001B[49m\u001B[43m \u001B[49m\u001B[43mmode\u001B[49m\u001B[43m,\u001B[49m\u001B[43m \u001B[49m\u001B[43mcval\u001B[49m\u001B[43m,\u001B[49m\n\u001B[32m    611\u001B[39m \u001B[43m                      \u001B[49m\u001B[43morigin\u001B[49m\u001B[43m)\u001B[49m\n\u001B[32m    612\u001B[39m \u001B[38;5;28;01mreturn\u001B[39;00m output\n",
      "\u001B[31mKeyboardInterrupt\u001B[39m: "
     ]
    }
   ],
   "source": [
    "image_data = zarr.open(\"C:/Users/Sebastian/Documents/Research/killi_dynamics/built_data/zarr_image_files/BC1_NLS_test.zarr\", mode=\"r\")\n",
    "im = image_data[2, 1, :215, 0:800, 0:800]\n",
    "\n",
    "print(image_data.shape)\n",
    "\n",
    "# default value for n_thresh is 5\n",
    "n_thresh = 5\n",
    "\n",
    "t1_li = time.time()\n",
    "data_log_i, li_thresh = calculate_li_thresh(im)\n",
    "t2_li = time.time()\n",
    "li_thresh_range = np.linspace(li_thresh * 0.75, li_thresh * 1.25, n_thresh)\n",
    "li_segmented, _ = do_hierarchical_watershed(data_log_i, thresh_range=li_thresh_range)\n",
    "\n",
    "t1_tri = time.time()\n",
    "triangle_thresh = threshold_triangle(data_log_i)\n",
    "t2_tri = time.time()\n",
    "triangle_thresh_range = np.linspace(triangle_thresh * 0.75, triangle_thresh * 1.25, n_thresh)\n",
    "triangle_segmented, _ = do_hierarchical_watershed(data_log_i, thresh_range=triangle_thresh_range)\n",
    "\n",
    "t1_yen = time.time()\n",
    "yen_thresh = threshold_yen(data_log_i)\n",
    "t2_yen = time.time()\n",
    "yen_thresh_range = np.linspace(yen_thresh * 0.75, yen_thresh * 1.25, n_thresh)\n",
    "yen_segmented, _ = do_hierarchical_watershed(data_log_i, thresh_range=yen_thresh_range)\n",
    "\n",
    "t1_iso = time.time()\n",
    "isodata_thresh = threshold_isodata(data_log_i)\n",
    "t2_iso = time.time()\n",
    "isodata_thresh_range = np.linspace(isodata_thresh * 0.75, isodata_thresh * 1.25, n_thresh)\n",
    "isodata_segmented, _ = do_hierarchical_watershed(data_log_i, thresh_range=isodata_thresh_range)\n",
    "\n",
    "t1_otsu = time.time()\n",
    "otsu_thresh = threshold_otsu(data_log_i)\n",
    "t2_otsu = time.time()\n",
    "otsu_thresh_range = np.linspace(otsu_thresh * 0.75, otsu_thresh * 1.25, n_thresh)\n",
    "otsu_segmented, _ = do_hierarchical_watershed(data_log_i, thresh_range=otsu_thresh_range)\n",
    "\n",
    "print(f\"Li threshold: {li_thresh}\")\n",
    "print(f\"Triangle threshold: {triangle_thresh}\")\n",
    "print(f\"Yen threshold: {yen_thresh}\")\n",
    "print(f\"Isodata threshold: {isodata_thresh}\")\n",
    "print(f\"Otsu threshold: {otsu_thresh}\")\n",
    "\n",
    "im_max = np.max(im, axis=0)\n",
    "mask_max = np.max(im, axis=0)\n",
    "\n",
    "plt.figure(figsize=(8,8))\n",
    "plt.imshow(im_max)\n",
    "segmented_max_li = np.max(li_segmented, axis=0)\n",
    "plt.imshow(segmented_max_li, cmap='jet', alpha=0.5)\n",
    "plt.axis('off')\n",
    "plt.title(f\"Li - took {np.round(t2_li-t1_li, 3)} seconds\")\n",
    "plt.show()\n",
    "\n",
    "plt.figure(figsize=(8,8))\n",
    "plt.imshow(im_max)\n",
    "segmented_max_triangle = np.max(triangle_segmented, axis=0)\n",
    "plt.imshow(segmented_max_triangle, cmap='jet', alpha=0.5)\n",
    "plt.axis('off')\n",
    "plt.title(f\"Triangle - took {np.round(t2_tri-t1_tri, 3)} seconds\")\n",
    "plt.show()\n",
    "\n",
    "plt.figure(figsize=(8,8))\n",
    "plt.imshow(im_max)\n",
    "segmented_max_yen = np.max(yen_segmented, axis=0)\n",
    "plt.imshow(segmented_max_yen, cmap='jet', alpha=0.5)\n",
    "plt.axis('off')\n",
    "plt.title(f\"Yen - took {np.round(t2_yen-t1_yen, 3)} seconds\")\n",
    "plt.show()\n",
    "\n",
    "plt.figure(figsize=(8,8))\n",
    "plt.imshow(im_max)\n",
    "segmented_max_isodata = np.max(isodata_segmented, axis=0)\n",
    "plt.imshow(segmented_max_isodata, cmap='jet', alpha=0.5)\n",
    "plt.axis('off')\n",
    "plt.title(f\"Isodata - took {np.round(t2_iso-t1_iso, 3)} seconds\")\n",
    "plt.show()\n",
    "\n",
    "plt.figure(figsize=(8,8))\n",
    "plt.imshow(im_max)\n",
    "segmented_max_otsu = np.max(otsu_segmented, axis=0)\n",
    "plt.imshow(segmented_max_otsu, cmap='jet', alpha=0.5)\n",
    "plt.axis('off')\n",
    "plt.title(f\"Otsu - took {np.round(t2_otsu-t1_otsu, 3)} seconds\")\n",
    "plt.show()\n",
    "\n",
    "plt.figure(figsize=(8,8))\n",
    "plt.imshow(im_max)\n",
    "plt.title(\"Original - 33x200x200\")\n",
    "plt.axis('off')\n",
    "plt.show()\n"
   ]
  },
  {
   "cell_type": "markdown",
   "metadata": {},
   "source": [
    "## Visualize with napari\n",
    "This can be run after the raw CZI files are exported to Zarr format"
   ]
  },
  {
   "cell_type": "code",
   "execution_count": 4,
   "metadata": {},
   "outputs": [],
   "source": [
    "zarr_path = os.path.join(save_root, \"built_data\", \"zarr_image_files\", out_name_vec[0] + \".zarr\")\n",
    "image_data = zarr.open(zarr_path, mode=\"r\")\n",
    "scale_vec = tuple([image_data.attrs['PhysicalSizeZ'],\n",
    "         image_data.attrs['PhysicalSizeY'],\n",
    "         image_data.attrs['PhysicalSizeX']])\n",
    "\n",
    "viewer = napari.Viewer(ndisplay=3)\n",
    "viewer.add_image(np.squeeze(image_data[:]), channel_axis=1, scale=scale_vec)\n",
    "napari.run()"
   ]
  }
 ],
 "metadata": {
  "kernelspec": {
   "display_name": "killi-tracker-new",
   "language": "python",
   "name": "python3"
  },
  "language_info": {
   "codemirror_mode": {
    "name": "ipython",
    "version": 3
   },
   "file_extension": ".py",
   "mimetype": "text/x-python",
   "name": "python",
   "nbconvert_exporter": "python",
   "pygments_lexer": "ipython3",
   "version": "3.11.13"
  }
 },
 "nbformat": 4,
 "nbformat_minor": 4
}
