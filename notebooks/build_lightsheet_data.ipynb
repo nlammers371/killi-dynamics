{
 "cells": [
  {
   "cell_type": "markdown",
   "metadata": {
    "jupyter": {
     "outputs_hidden": false
    }
   },
   "source": [
    "# This notebook contains code to register, fuse, segment, and track lightsheet data."
   ]
  },
  {
   "cell_type": "markdown",
   "metadata": {
    "jupyter": {
     "outputs_hidden": false
    }
   },
   "source": [
    "## Step 1: Export to Zarr format"
   ]
  },
  {
   "cell_type": "code",
   "execution_count": null,
   "metadata": {
    "is_executing": true,
    "jupyter": {
     "outputs_hidden": false
    }
   },
   "outputs": [],
   "source": [
    "# Fix for \"No module named src\" import error\n",
    "import sys\n",
    "import os\n",
    "sys.path.append(os.path.abspath(\"..\"))\n",
    "\n",
    "from src.nucleus_dynamics.export_to_zarr.export_czi_to_zarr import export_czi_to_zarr, get_prefix_list\n",
    "from src.build_killi.run00_get_frame_shifts import get_timeseries_shifts\n",
    "from src.build_killi.run02_segment_nuclei import estimate_li_thresh, segment_nuclei, calculate_li_trend, calculate_li_thresh, do_hierarchical_watershed\n",
    "import numpy as np\n",
    "import matplotlib.pyplot as plt\n",
    "import pandas as pd\n",
    "from multiprocessing import freeze_support\n",
    "import zarr\n",
    "import napari\n",
    "\n",
    "# Potentially temporary imports for segmentation threshold testing\n",
    "import time\n",
    "from skimage.filters import threshold_isodata, threshold_triangle, threshold_otsu, threshold_yen"
   ]
  },
  {
   "cell_type": "markdown",
   "metadata": {
    "jupyter": {
     "outputs_hidden": false
    }
   },
   "source": [
    "Provide path and metadata info needed for export"
   ]
  },
  {
   "cell_type": "code",
   "execution_count": null,
   "metadata": {
    "is_executing": true,
    "jupyter": {
     "outputs_hidden": false
    }
   },
   "outputs": [],
   "source": [
    "resampling_scale = np.asarray([3, 0.85, 0.85]) # Resampling scale (um) for the data, in the order of (z, y, x)\n",
    "tres = 101.11  # Time resolution (seconds). Pull this from the zarr metadata (info tab in zen)\n",
    "overwrite = False  # If True, will overwrite existing zarr files. If False, will skip files that already exist.\n",
    "par_flag = True  # If True, will use multiprocessing to speed up the export. If False, will run sequentially.\n",
    "\n",
    "# set path to folder containing the raw czi files.\n",
    "# E.g. for Syd's March movie this is \"D:/Syd/250311_NLSxLCP1_26h_to_96h_R2/\"\n",
    "raw_data_root = \"C:/Users/Sebastian/Documents/Research/killi_dynamics/raw_image_data/BC1/\"  # Path to the folder containing the raw czi files. Make sure this is correct.\n",
    "\n",
    "# Channel names for the data, in the order of the channels in the file. This is what we use to identify the channels in the zarr file.\n",
    "channel_names = [\"BC1\", \"nls\"]\n",
    "\n",
    "# Specify the path to the output zarr file\n",
    "save_root = \"C:/Users/Sebastian/Documents/Research/killi_dynamics/\" # Output directory. Make sure there is sufficient space on the drive.\n",
    "\n",
    "# Specify the project names for each side of the acquisition. These will be used for everything moving forward, so pick something interpretable.\n",
    "# Date and protein-fluor at minimum\n",
    "out_name_vec = [\"BC1_NLS_test0\"]"
   ]
  },
  {
   "cell_type": "markdown",
   "metadata": {
    "jupyter": {
     "outputs_hidden": false
    }
   },
   "source": [
    "Get list of file name prefixes for each side of the acquisition. Confirm that these are correct."
   ]
  },
  {
   "cell_type": "code",
   "execution_count": null,
   "metadata": {
    "jupyter": {
     "outputs_hidden": false
    }
   },
   "outputs": [],
   "source": [
    "# Give string patterns to use to pick out frames from each side of the acquisition.\n",
    "prefix_list = get_prefix_list(raw_data_root=raw_data_root)\n",
    "prefix_list = [p for p in prefix_list if \".czi\" not in p]\n",
    "print(prefix_list)"
   ]
  },
  {
   "cell_type": "markdown",
   "metadata": {
    "jupyter": {
     "outputs_hidden": false
    }
   },
   "source": [
    "Now call the export function to export the data to zarr format."
   ]
  },
  {
   "cell_type": "code",
   "execution_count": null,
   "metadata": {
    "jupyter": {
     "outputs_hidden": false
    }
   },
   "outputs": [],
   "source": [
    "resampling_scale = np.asarray([3, 0.85, 0.85])\n",
    "for p, project_name in enumerate(out_name_vec):\n",
    "    file_prefix = prefix_list[p]\n",
    "    export_czi_to_zarr(raw_data_root, file_prefix, project_name, save_root, tres, par_flag=False,\n",
    "                       resampling_scale=resampling_scale, channel_names=channel_names, overwrite_flag=False)"
   ]
  },
  {
   "cell_type": "markdown",
   "metadata": {},
   "source": [
    "## Step 2: Registration"
   ]
  },
  {
   "cell_type": "code",
   "execution_count": null,
   "metadata": {},
   "outputs": [],
   "source": [
    "get_timeseries_shifts(save_root, out_name_vec[0])"
   ]
  },
  {
   "cell_type": "markdown",
   "metadata": {},
   "source": [
    "Visualize what shifts will be applied to the image so that the embryo will be centered in all frames."
   ]
  },
  {
   "cell_type": "code",
   "execution_count": null,
   "metadata": {},
   "outputs": [],
   "source": [
    "# Currently this will only plot for one half of the image if it is composed of two sides - out_name_vec[0] is the first half\n",
    "\n",
    "csv_path = f\"{save_root}metadata/{out_name_vec[0]}/frame_shift_df.csv\"\n",
    "frame_shifts = pd.read_csv(csv_path)\n",
    "\n",
    "frames = frame_shifts[\"frame\"].values\n",
    "xs = frame_shifts[\"xs\"].values\n",
    "ys = frame_shifts[\"ys\"].values\n",
    "zs = frame_shifts[\"zs\"].values\n",
    "\n",
    "plt.plot(frames, zs, label=\"Z shift\")\n",
    "plt.plot(frames, ys, label=\"Y shift\")\n",
    "plt.plot(frames, xs, label=\"X shift\")\n",
    "plt.xlabel(\"Frame\")\n",
    "plt.ylabel(\"Shift (px)\")\n",
    "plt.legend()\n",
    "plt.show()"
   ]
  },
  {
   "cell_type": "code",
   "execution_count": null,
   "metadata": {},
   "outputs": [],
   "source": [
    "# Apply shifts"
   ]
  },
  {
   "cell_type": "markdown",
   "metadata": {},
   "source": [
    "## Step 3: Segmentation"
   ]
  },
  {
   "cell_type": "markdown",
   "metadata": {},
   "source": [
    "Calculate thresholds and apply masks"
   ]
  },
  {
   "cell_type": "code",
   "execution_count": null,
   "metadata": {},
   "outputs": [],
   "source": [
    "image_data = zarr.open(\"C:/Users/Sebastian/Documents/Research/killi_dynamics/built_data/zarr_image_files/BC1_NLS_test.zarr\", mode=\"r\")\n",
    "im = image_data[2, 1, :215, 0:800, 0:800]\n",
    "\n",
    "print(image_data.shape)\n",
    "\n",
    "# default value for n_thresh is 5\n",
    "n_thresh = 5\n",
    "\n",
    "t1_li = time.time()\n",
    "data_log_i, li_thresh = calculate_li_thresh(im)\n",
    "t2_li = time.time()\n",
    "li_thresh_range = np.linspace(li_thresh * 0.75, li_thresh * 1.25, n_thresh)\n",
    "li_segmented, _ = do_hierarchical_watershed(data_log_i, thresh_range=li_thresh_range)\n",
    "\n",
    "t1_tri = time.time()\n",
    "triangle_thresh = threshold_triangle(data_log_i)\n",
    "t2_tri = time.time()\n",
    "triangle_thresh_range = np.linspace(triangle_thresh * 0.75, triangle_thresh * 1.25, n_thresh)\n",
    "triangle_segmented, _ = do_hierarchical_watershed(data_log_i, thresh_range=triangle_thresh_range)\n",
    "\n",
    "t1_yen = time.time()\n",
    "yen_thresh = threshold_yen(data_log_i)\n",
    "t2_yen = time.time()\n",
    "yen_thresh_range = np.linspace(yen_thresh * 0.75, yen_thresh * 1.25, n_thresh)\n",
    "yen_segmented, _ = do_hierarchical_watershed(data_log_i, thresh_range=yen_thresh_range)\n",
    "\n",
    "t1_iso = time.time()\n",
    "isodata_thresh = threshold_isodata(data_log_i)\n",
    "t2_iso = time.time()\n",
    "isodata_thresh_range = np.linspace(isodata_thresh * 0.75, isodata_thresh * 1.25, n_thresh)\n",
    "isodata_segmented, _ = do_hierarchical_watershed(data_log_i, thresh_range=isodata_thresh_range)\n",
    "\n",
    "t1_otsu = time.time()\n",
    "otsu_thresh = threshold_otsu(data_log_i)\n",
    "t2_otsu = time.time()\n",
    "otsu_thresh_range = np.linspace(otsu_thresh * 0.75, otsu_thresh * 1.25, n_thresh)\n",
    "otsu_segmented, _ = do_hierarchical_watershed(data_log_i, thresh_range=otsu_thresh_range)\n",
    "\n",
    "print(f\"Li threshold: {li_thresh}\")\n",
    "print(f\"Triangle threshold: {triangle_thresh}\")\n",
    "print(f\"Yen threshold: {yen_thresh}\")\n",
    "print(f\"Isodata threshold: {isodata_thresh}\")\n",
    "print(f\"Otsu threshold: {otsu_thresh}\")\n",
    "\n",
    "im_max = np.max(im, axis=0)\n",
    "mask_max = np.max(im, axis=0)\n",
    "\n",
    "plt.figure(figsize=(8,8))\n",
    "plt.imshow(im_max)\n",
    "segmented_max_li = np.max(li_segmented, axis=0)\n",
    "plt.imshow(segmented_max_li, cmap='jet', alpha=0.5)\n",
    "plt.axis('off')\n",
    "plt.title(f\"Li - took {np.round(t2_li-t1_li, 3)} seconds\")\n",
    "plt.show()\n",
    "\n",
    "plt.figure(figsize=(8,8))\n",
    "plt.imshow(im_max)\n",
    "segmented_max_triangle = np.max(triangle_segmented, axis=0)\n",
    "plt.imshow(segmented_max_triangle, cmap='jet', alpha=0.5)\n",
    "plt.axis('off')\n",
    "plt.title(f\"Triangle - took {np.round(t2_tri-t1_tri, 3)} seconds\")\n",
    "plt.show()\n",
    "\n",
    "plt.figure(figsize=(8,8))\n",
    "plt.imshow(im_max)\n",
    "segmented_max_yen = np.max(yen_segmented, axis=0)\n",
    "plt.imshow(segmented_max_yen, cmap='jet', alpha=0.5)\n",
    "plt.axis('off')\n",
    "plt.title(f\"Yen - took {np.round(t2_yen-t1_yen, 3)} seconds\")\n",
    "plt.show()\n",
    "\n",
    "plt.figure(figsize=(8,8))\n",
    "plt.imshow(im_max)\n",
    "segmented_max_isodata = np.max(isodata_segmented, axis=0)\n",
    "plt.imshow(segmented_max_isodata, cmap='jet', alpha=0.5)\n",
    "plt.axis('off')\n",
    "plt.title(f\"Isodata - took {np.round(t2_iso-t1_iso, 3)} seconds\")\n",
    "plt.show()\n",
    "\n",
    "plt.figure(figsize=(8,8))\n",
    "plt.imshow(im_max)\n",
    "segmented_max_otsu = np.max(otsu_segmented, axis=0)\n",
    "plt.imshow(segmented_max_otsu, cmap='jet', alpha=0.5)\n",
    "plt.axis('off')\n",
    "plt.title(f\"Otsu - took {np.round(t2_otsu-t1_otsu, 3)} seconds\")\n",
    "plt.show()\n",
    "\n",
    "plt.figure(figsize=(8,8))\n",
    "plt.imshow(im_max)\n",
    "plt.title(\"Original - 33x200x200\")\n",
    "plt.axis('off')\n",
    "plt.show()\n"
   ]
  },
  {
   "cell_type": "markdown",
   "metadata": {},
   "source": [
    "## Visualize with napari\n",
    "This can be run after the raw CZI files are exported to Zarr format"
   ]
  },
  {
   "cell_type": "code",
   "execution_count": null,
   "metadata": {},
   "outputs": [],
   "source": [
    "zarr_path = os.path.join(save_root, \"built_data\", \"zarr_image_files\", out_name_vec[0] + \".zarr\")\n",
    "image_data = zarr.open(zarr_path, mode=\"r\")\n",
    "scale_vec = tuple([image_data.attrs['PhysicalSizeZ'],\n",
    "         image_data.attrs['PhysicalSizeY'],\n",
    "         image_data.attrs['PhysicalSizeX']])\n",
    "\n",
    "viewer = napari.Viewer(ndisplay=3)\n",
    "viewer.add_image(np.squeeze(image_data[:]), channel_axis=1, scale=scale_vec)\n",
    "napari.run()"
   ]
  }
 ],
 "metadata": {
  "kernelspec": {
   "display_name": "killi-tracker-new",
   "language": "python",
   "name": "python3"
  },
  "language_info": {
   "codemirror_mode": {
    "name": "ipython",
    "version": 3
   },
   "file_extension": ".py",
   "mimetype": "text/x-python",
   "name": "python",
   "nbconvert_exporter": "python",
   "pygments_lexer": "ipython3",
   "version": "3.11.13"
  }
 },
 "nbformat": 4,
 "nbformat_minor": 4
}
