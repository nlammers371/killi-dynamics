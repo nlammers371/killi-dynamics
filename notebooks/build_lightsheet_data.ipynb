{
 "cells": [
  {
   "cell_type": "markdown",
   "metadata": {
    "collapsed": false,
    "jupyter": {
     "outputs_hidden": false
    }
   },
   "source": [
    "# This notebook contains code to register, fuse, segment, and track lightsheet data."
   ]
  },
  {
   "cell_type": "markdown",
   "metadata": {
    "collapsed": false,
    "jupyter": {
     "outputs_hidden": false
    }
   },
   "source": [
    "## Step 1: Export to Zarr format"
   ]
  },
  {
   "cell_type": "code",
   "execution_count": 1,
   "metadata": {
    "collapsed": false,
    "is_executing": true,
    "jupyter": {
     "outputs_hidden": false
    }
   },
   "outputs": [],
   "source": [
    "from src.nucleus_dynamics.export_to_zarr.export_czi_to_zarr import export_czi_to_zarr, get_prefix_list\n",
    "import numpy as np\n",
    "from multiprocessing import freeze_support"
   ]
  },
  {
   "cell_type": "markdown",
   "metadata": {
    "collapsed": false,
    "jupyter": {
     "outputs_hidden": false
    }
   },
   "source": [
    "Provide path and metadata info needed for export"
   ]
  },
  {
   "cell_type": "code",
   "execution_count": 8,
   "metadata": {
    "ExecuteTime": {
     "end_time": "2025-04-29T03:43:53.719280400Z",
     "start_time": "2025-04-29T03:43:53.705237200Z"
    },
    "collapsed": false,
    "jupyter": {
     "outputs_hidden": false
    }
   },
   "outputs": [],
   "source": [
    "resampling_scale = np.asarray([3, 1, 1]) # Resampling scale (um) for the data, in the order of (z, y, x)\n",
    "tres = 101.11  # Time resolution (seconds). Pull this from the zarr metadata (info tab in zen)\n",
    "overwrite = False  # If True, will overwrite existing zarr files. If False, will skip files that already exist.\n",
    "par_flag = True  # If True, will use multiprocessing to speed up the export. If False, will run sequentially.\n",
    "\n",
    "# set path to folder containing the raw czi files.\n",
    "# E.g. for Syd's March movie this is \"D:/Syd/250311_NLSxLCP1_26h_to_96h_R2/\"\n",
    "raw_data_root = \"D:/Bria/20250419_BC1_NLS-mScar_56-76_TWIN/\"\n",
    "\n",
    "# Channel names for the data, in the order of the channels in the file. This is what we use to identify the channels in the zarr file.\n",
    "channel_names = [\"BC1\", \"nls\"]\n",
    "\n",
    "# Specify the path to the output zarr file\n",
    "save_root = \"E:/Nick/Cole Trapnell's Lab Dropbox/Nick Lammers/Nick/killi_tracker/\" # Output directory. Make sure there is sufficient space on the drive.\n",
    "\n",
    "# Specify the project names for each side of the acquisition. These will be used for everything moving forward, so pick something interpretable.\n",
    "# Date and protein-fluor at minimum\n",
    "out_name_vec = [\"20250419_BC1-NLSMSC_side1\", \"20250419_BC1-NLSMSC_side2\"]"
   ]
  },
  {
   "cell_type": "markdown",
   "metadata": {
    "collapsed": false,
    "jupyter": {
     "outputs_hidden": false
    }
   },
   "source": [
    "Get list of file name prefixes for each side of the acquisition. Confirm that these are correct."
   ]
  },
  {
   "cell_type": "code",
   "execution_count": 9,
   "metadata": {
    "ExecuteTime": {
     "end_time": "2025-04-29T03:43:53.767365100Z",
     "start_time": "2025-04-29T03:43:53.721285Z"
    },
    "collapsed": false,
    "jupyter": {
     "outputs_hidden": false
    }
   },
   "outputs": [
    {
     "name": "stdout",
     "output_type": "stream",
     "text": [
      "['e1_2025_04_19__07_23_46_911_G1', 'e1_2025_04_19__07_23_46_911_G2']\n"
     ]
    }
   ],
   "source": [
    "# Give string patterns to use to pick out frames from each side of the acquisition.\n",
    "prefix_list = get_prefix_list(raw_data_root=raw_data_root)\n",
    "prefix_list = [p for p in prefix_list if \".czi\" not in p]\n",
    "print(prefix_list)"
   ]
  },
  {
   "cell_type": "markdown",
   "metadata": {
    "collapsed": false,
    "jupyter": {
     "outputs_hidden": false
    }
   },
   "source": [
    "Now call the export function to export the data to zarr format."
   ]
  },
  {
   "cell_type": "code",
   "execution_count": 13,
   "metadata": {
    "collapsed": false,
    "jupyter": {
     "outputs_hidden": false
    }
   },
   "outputs": [
    {
     "name": "stderr",
     "output_type": "stream",
     "text": [
      "Exporting raw images to zarr...: 100%|██████████| 614/614 [8:01:48<00:00, 47.08s/it]  \n"
     ]
    },
    {
     "name": "stdout",
     "output_type": "stream",
     "text": [
      "Done.\n"
     ]
    },
    {
     "name": "stderr",
     "output_type": "stream",
     "text": [
      "Exporting raw images to zarr...: 100%|██████████| 614/614 [13:17:31<00:00, 77.93s/it]  "
     ]
    },
    {
     "name": "stdout",
     "output_type": "stream",
     "text": [
      "Done.\n"
     ]
    },
    {
     "name": "stderr",
     "output_type": "stream",
     "text": [
      "\n"
     ]
    }
   ],
   "source": [
    "resampling_scale = np.asarray([3, 0.85, 0.85])\n",
    "for p, project_name in enumerate(out_name_vec):\n",
    "    file_prefix = prefix_list[p]\n",
    "    export_czi_to_zarr(raw_data_root, file_prefix, project_name, save_root, tres, par_flag=False,\n",
    "                       resampling_scale=resampling_scale, channel_names=channel_names, overwrite_flag=False)"
   ]
  },
  {
   "cell_type": "code",
   "execution_count": null,
   "metadata": {},
   "outputs": [],
   "source": []
  }
 ],
 "metadata": {
  "kernelspec": {
   "display_name": "Python 3 (ipykernel)",
   "language": "python",
   "name": "python3"
  },
  "language_info": {
   "codemirror_mode": {
    "name": "ipython",
    "version": 3
   },
   "file_extension": ".py",
   "mimetype": "text/x-python",
   "name": "python",
   "nbconvert_exporter": "python",
   "pygments_lexer": "ipython3",
   "version": "3.10.14"
  }
 },
 "nbformat": 4,
 "nbformat_minor": 4
}
