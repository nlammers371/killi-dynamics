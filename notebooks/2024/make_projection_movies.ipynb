{
 "cells": [
  {
   "cell_type": "code",
   "execution_count": null,
   "metadata": {
    "is_executing": true,
    "pycharm": {
     "is_executing": true
    }
   },
   "outputs": [],
   "source": [
    "import napari\n",
    "import os\n",
    "from tqdm import tqdm\n",
    "import numpy as np\n",
    "import glob2 as glob\n",
    "import zarr\n",
    "import json\n",
    "import skimage.io as io\n",
    "import pandas as pd\n",
    "import umap.umap_ as umap\n",
    "from sklearn.preprocessing import StandardScaler\n",
    "\n",
    "# # set parameters\n",
    "root = \"/Users/nick/Cole Trapnell's Lab Dropbox/Nick Lammers/Nick/killi_tracker/\" #\"E:\\\\Nick\\\\Cole Trapnell's Lab Dropbox\\\\Nick Lammers\\\\Nick\\\\killi_tracker\\\\\"\n",
    "project_name = \"240219_LCP1_93hpf_to_127hpf\"\n",
    "image_dir = os.path.join(root, \"built_data\", project_name, \"\")\n",
    "config_name = \"tracking_cell.txt\"# \n",
    "tracking_folder = config_name.replace(\".txt\", \"\")\n",
    "tracking_folder = tracking_folder.replace(\".toml\", \"\")\n",
    "\n",
    "tracking_directory = os.path.join(root, \"built_data\", \"tracking\", project_name, tracking_folder)\n",
    "snip_directory = os.path.join(root, \"built_data\", \"shape_snips\", project_name, tracking_folder, \"class0\")\n",
    "\n",
    "# load metadata\n",
    "metadata_file_path = os.path.join(root, \"metadata\", project_name, \"metadata.json\")\n",
    "f = open(metadata_file_path)\n",
    "metadata = json.load(f)\n",
    "scale_vec = np.asarray([metadata[\"ProbPhysicalSizeZ\"], metadata[\"ProbPhysicalSizeY\"], metadata[\"ProbPhysicalSizeX\"]])"
   ]
  },
  {
   "cell_type": "markdown",
   "metadata": {},
   "source": [
    "## Load tracking DF"
   ]
  },
  {
   "cell_type": "code",
   "execution_count": null,
   "metadata": {
    "pycharm": {
     "is_executing": true
    }
   },
   "outputs": [],
   "source": [
    "# load tracking data\n",
    "tracks_df = pd.read_csv(os.path.join(tracking_directory, \"tracks_cleaned.csv\"))\n",
    "tracks_df.head()\n",
    "tracks_df_clean = tracks_df.loc[(~tracks_df[\"fragment_flag\"]) & (tracks_df[\"avg_disp_um\"] > 2.2), :]"
   ]
  },
  {
   "cell_type": "markdown",
   "metadata": {},
   "source": [
    "## Load sphere coordinate DF"
   ]
  },
  {
   "cell_type": "code",
   "execution_count": null,
   "metadata": {
    "pycharm": {
     "is_executing": true
    }
   },
   "outputs": [],
   "source": [
    "# load tracking data\n",
    "sphere_df = pd.read_csv(os.path.join(tracking_directory, \"sphere_df_smoothed.csv\"))\n",
    "sphere_df.tail()\n",
    "si = np.argsort(sphere_df[\"t\"])\n",
    "sphere_df = sphere_df.loc[si, :]\n",
    "sphere_df.reset_index(inplace=True)\n",
    "sphere_df.head()"
   ]
  },
  {
   "cell_type": "code",
   "execution_count": null,
   "metadata": {},
   "outputs": [],
   "source": [
    "np.min(sphere_df[\"rm\"])"
   ]
  },
  {
   "cell_type": "markdown",
   "metadata": {},
   "source": [
    "## 3D visuals"
   ]
  },
  {
   "cell_type": "code",
   "execution_count": null,
   "metadata": {
    "pycharm": {
     "is_executing": true
    }
   },
   "outputs": [],
   "source": [
    "import pandas as pd\n",
    "import plotly.express as px\n",
    "import plotly.graph_objects as go\n",
    "\n",
    "def ms(x, y, z, radius, resolution=20):\n",
    "    \"\"\"Return the coordinates for plotting a sphere centered at (x,y,z)\"\"\"\n",
    "    u, v = np.mgrid[0:2*np.pi:resolution*2j, 0:np.pi:resolution*1j]\n",
    "    X = radius * np.cos(u)*np.sin(v) + x\n",
    "    Y = radius * np.sin(u)*np.sin(v) + y\n",
    "    Z = radius * np.cos(v) + z\n",
    "    return (X, Y, Z)\n",
    "\n",
    "def ms_T(x, y, z, radius, resolution=20):\n",
    "    \"\"\"Return the coordinates for plotting a sphere centered at (x,y,z)\"\"\"\n",
    "    v, u = np.mgrid[0:np.pi:resolution*1j, 0:2*np.pi:resolution*2j]\n",
    "    X = radius * np.cos(u)*np.sin(v) + x\n",
    "    Y = radius * np.sin(u)*np.sin(v) + y\n",
    "    Z = radius * np.cos(v) + z\n",
    "    return (X, Y, Z)"
   ]
  },
  {
   "cell_type": "code",
   "execution_count": null,
   "metadata": {},
   "outputs": [],
   "source": [
    "from alphashape import alphashape\n",
    "\n",
    "def generate_sphere_mesh(X, Y, Z):\n",
    "    \n",
    "    xyz = np.concatenate((X[:, np.newaxis], Y[:, np.newaxis], Z[:, np.newaxis]), axis=1)\n",
    "    xyz_min = np.min(xyz, axis=0)\n",
    "    xyz_norm = xyz - xyz_min\n",
    "    xyz_max = np.max(xyz_norm, axis=0) \n",
    "    xyz_norm = xyz_norm / xyz_max\n",
    "    sphere_hull = alphashape(xyz_norm, alpha)\n",
    "    \n",
    "    tri_points = sphere_hull.vertices[sphere_hull.faces]\n",
    "    tri_points = np.multiply(tri_points, xyz_max)\n",
    "    tri_points = tri_points + xyz_min\n",
    "    #extract the lists of x, y, z coordinates of the triangle vertices and connect them by a line\n",
    "    Xe = []\n",
    "    Ye = []\n",
    "    Ze = []\n",
    "    for T in tri_points:\n",
    "        Xe.extend([T[k%3][0] for k in range(4)]+[ None])\n",
    "        Ye.extend([T[k%3][1] for k in range(4)]+[ None])\n",
    "        Ze.extend([T[k%3][2] for k in range(4)]+[ None])\n",
    "        \n",
    "    return Ze, Ye, Xe\n",
    "    \n",
    "       \n",
    "#define the trace for triangle sides\n",
    "# fig = go.Figure()\n",
    "# lines = go.Scatter3d(\n",
    "#                    x=Xe,\n",
    "#                    y=Ye,\n",
    "#                    z=Ze,\n",
    "#                    mode='lines',\n",
    "#                    name='',\n",
    "#                    line=dict(color= 'rgb(70,70,70)', width=1)) \n",
    "\n",
    "# fig.add_trace(go.Mesh3d(x=plot_hull.vertices[:, 0], y=plot_hull.vertices[:, 1],z=plot_hull.vertices[:, 2], \n",
    "#                         opacity=1,\n",
    "#                                i=plot_hull.faces[:, 0], j=plot_hull.faces[:, 1], k=plot_hull.faces[:, 2]))\n"
   ]
  },
  {
   "cell_type": "code",
   "execution_count": null,
   "metadata": {
    "pycharm": {
     "is_executing": true
    }
   },
   "outputs": [],
   "source": [
    "from tqdm import tqdm\n",
    "import math \n",
    "\n",
    "plotly_repmap = np.asarray(px.colors.qualitative.Plotly*100)\n",
    "tracks_df_clean[\"plot_color\"] = plotly_repmap[tracks_df_clean[\"track_id\"]]\n",
    "\n",
    "mem = 25\n",
    "max_time = sphere_df.shape[0]# np.max(tracks_df[\"t\"])\n",
    "figure_root = os.path.join(root, \"figures\", project_name, tracking_folder)\n",
    "if not os.path.isdir(figure_root):\n",
    "    os.makedirs(figure_root)\n",
    "    \n",
    "rotate_plot = True\n",
    "rot_period = 100\n",
    "angle_vec = np.linspace(0, 2*np.pi, rot_period)\n",
    "    \n",
    "track_path_3d = os.path.join(figure_root, \"track_plots_3d\")\n",
    "if not os.path.isdir(track_path_3d):\n",
    "    os.makedirs(track_path_3d)\n",
    "\n",
    "radius_static = 540\n",
    "\n",
    "for time_id in tqdm(range(max_time)): #range(max_time)):\n",
    "    tracks_df_ft = tracks_df_clean.loc[tracks_df_clean[\"t\"]==time_id]\n",
    "    tracks_df_ft_mem = tracks_df_clean.loc[(tracks_df_clean[\"t\"]<=time_id) & (tracks_df[\"t\"]>time_id-mem) ]\n",
    "    x_pns_surface, y_pns_surface, z_pns_surface = ms(sphere_df.loc[time_id, \"XM\"], \n",
    "                                                      sphere_df.loc[time_id, \"YM\"], \n",
    "                                                      sphere_df.loc[time_id, \"ZM\"],radius_static)\n",
    "\n",
    "    x_alt, y_alt, z_alt = ms_T(sphere_df.loc[time_id, \"XM\"], \n",
    "                                                      sphere_df.loc[time_id, \"YM\"], \n",
    "                                                      sphere_df.loc[time_id, \"ZM\"],radius_static)\n",
    "\n",
    "    \n",
    "    point_array = tracks_df_ft.loc[:, [\"xum\", \"yum\", \"zum\"]].to_numpy()\n",
    "    point_ids = tracks_df_ft.loc[:, [\"track_id\"]].to_numpy().flatten()\n",
    "    point_colors = tracks_df_ft.loc[:, [\"plot_color\"]].to_numpy().flatten()\n",
    "    track_array = tracks_df_ft_mem.loc[:, [\"xum\", \"yum\", \"zum\"]].to_numpy()\n",
    "    track_ids = tracks_df_ft_mem.loc[:, [\"track_id\"]].to_numpy().flatten()\n",
    "    track_colors = tracks_df_ft_mem.loc[:, [\"plot_color\"]].to_numpy().flatten()\n",
    "    \n",
    "    X = x_pns_surface.flatten()\n",
    "    Y = y_pns_surface.flatten()\n",
    "    Z = z_pns_surface.flatten()\n",
    "    \n",
    "    Xa = x_alt.flatten()\n",
    "    Ya = y_alt.flatten()\n",
    "    Za = z_alt.flatten()\n",
    "    \n",
    "#     Ze, Ye, Xe = generate_sphere_mesh(X, Y, Z)\n",
    "\n",
    "    extant_ids = np.unique(track_ids)\n",
    "\n",
    "    fig = go.Figure()\n",
    "    fig.add_trace(go.Surface(x=x_pns_surface, y=y_pns_surface, z=z_pns_surface, opacity=0.7, \n",
    "                             colorscale=\"Blues\"))#, lighting=dict(ambient=0.5)))\n",
    "    \n",
    "    fig.update_traces(showscale=False)\n",
    "\n",
    "    lines = fig.add_trace(go.Scatter3d(\n",
    "                   x=X,\n",
    "                   y=Y,\n",
    "                   z=Z,\n",
    "                   mode='lines',\n",
    "                   name='',\n",
    "                   line=dict(color= 'rgba(70,70,70,1)', width=.5)))\n",
    "    \n",
    "\n",
    "    lines2 = fig.add_trace(go.Scatter3d(\n",
    "                   x=Xa,\n",
    "                   y=Ya,\n",
    "                   z=Za,\n",
    "                   mode='lines',\n",
    "                   name='',\n",
    "                   line=dict(color= 'rgba(70,70,70,1)', width=.5)))\n",
    "\n",
    "    for t in range(len(extant_ids)-1):\n",
    "        tid = extant_ids[t]\n",
    "        point_ft = point_ids==tid\n",
    "        track_ft = track_ids==tid\n",
    "\n",
    "        if np.sum(point_ft) > 0:\n",
    "            fig.add_trace(go.Scatter3d(x=point_array[point_ft, 0], y=point_array[point_ft, 1], z=point_array[point_ft, 2], \n",
    "                                       mode=\"markers\", showlegend=False, marker=dict(color=point_colors[point_ft], size=6)))\n",
    "\n",
    "        fig.add_trace(go.Scatter3d(x=track_array[track_ft, 0], y=track_array[track_ft, 1], z=track_array[track_ft, 2], \n",
    "                                   mode=\"lines\", showlegend=False, line=dict(color=track_colors[track_ft])))\n",
    "\n",
    "    fig.update_layout(scene = dict(\n",
    "                        xaxis_title='x (um)',\n",
    "                        yaxis_title='y (um)',\n",
    "                        zaxis_title='z (um)', \n",
    "                     xaxis = dict(range=[0,1300],),\n",
    "                     yaxis = dict(range=[0,1300],),\n",
    "                     zaxis = dict(range=[-800,500],),))\n",
    "    \n",
    "    eye_vec = np.asarray([1, 1, 2])*0.85\n",
    "    \n",
    "    if rotate_plot:\n",
    "        ind = time_id % len(angle_vec)\n",
    "        angle = angle_vec[ind]\n",
    "        x = math.cos(angle)\n",
    "        y = math.sin(angle)\n",
    "        mag = np.sqrt(x**2 + y**2)\n",
    "        fac = 0.85 / mag\n",
    "        eye_vec = np.asarray([x*fac, y*fac, eye_vec[2]])\n",
    "\n",
    "    camera = dict(\n",
    "        up=dict(x=0, y=0, z=1),\n",
    "        center=dict(x=0, y=0, z=0),\n",
    "        eye=dict(x=eye_vec[0], y=eye_vec[1], z=eye_vec[2])\n",
    "    )\n",
    "\n",
    "    fig.update_layout(scene_camera=camera,\n",
    "                      template=\"plotly_dark\")\n",
    "    \n",
    "    fig.write_image(os.path.join(track_path_3d, f'frame3d_t{time_id:04}.png'), scale=2)\n",
    "\n",
    "fig.show()"
   ]
  },
  {
   "cell_type": "code",
   "execution_count": null,
   "metadata": {},
   "outputs": [],
   "source": [
    "np.max(np.abs(np.diff(Xa)))"
   ]
  },
  {
   "cell_type": "markdown",
   "metadata": {},
   "source": [
    "## 2D visuals"
   ]
  },
  {
   "cell_type": "code",
   "execution_count": null,
   "metadata": {
    "pycharm": {
     "is_executing": true
    }
   },
   "outputs": [],
   "source": [
    "from astropy.coordinates import cartesian_to_spherical\n",
    "\n",
    "time_id = 700\n",
    "\n",
    "tracks_df_ft = tracks_df.loc[tracks_df[\"t\"]==time_id]\n",
    "\n",
    "\n",
    "fig = px.scatter(tracks_df_ft, x=\"theta\", y=\"phi\")\n",
    "fig.show()"
   ]
  },
  {
   "cell_type": "code",
   "execution_count": null,
   "metadata": {
    "pycharm": {
     "is_executing": true
    }
   },
   "outputs": [],
   "source": [
    "mem = 25\n",
    "max_time = sphere_df.shape[0]# np.max(tracks_df[\"t\"])\n",
    "    \n",
    " \n",
    "plotly_repmap = np.asarray(px.colors.qualitative.Plotly*100)\n",
    "tracks_df_clean[\"plot_color\"] = plotly_repmap[tracks_df_clean[\"track_id\"]]\n",
    "\n",
    "big_jump_thresh = 50\n",
    "\n",
    "track_path_2d = os.path.join(figure_root, \"track_plots_2d\")\n",
    "if not os.path.isdir(track_path_2d):\n",
    "    os.makedirs(track_path_2d)\n",
    "\n",
    "\n",
    "for time_id in tqdm(range(max_time)): #range(max_time)):\n",
    "    tracks_df_ft = tracks_df_clean.loc[tracks_df_clean[\"t\"]==time_id]\n",
    "    tracks_df_ft_mem = tracks_df_clean.loc[(tracks_df_clean[\"t\"]<=time_id) & (tracks_df[\"t\"]>time_id-mem) ]\n",
    "\n",
    "    \n",
    "    point_array = tracks_df_ft.loc[:, [\"theta\", \"phi\"]].to_numpy() / np.pi * 180\n",
    "    point_ids = tracks_df_ft.loc[:, [\"track_id\"]].to_numpy().flatten()\n",
    "    point_colors = tracks_df_ft.loc[:, [\"plot_color\"]].to_numpy().flatten()\n",
    "    track_array = tracks_df_ft_mem.loc[:, [\"theta\", \"phi\"]].to_numpy() / np.pi * 180\n",
    "    track_ids = tracks_df_ft_mem.loc[:, [\"track_id\"]].to_numpy().flatten()\n",
    "    track_colors = tracks_df_ft_mem.loc[:, [\"plot_color\"]].to_numpy().flatten()\n",
    "    \n",
    "    extant_ids = np.unique(track_ids)\n",
    "\n",
    "    fig = go.Figure()\n",
    "#     fig.add_trace(go.Surface(x=x_pns_surface, y=y_pns_surface, z=z_pns_surface, opacity=0.7, \n",
    "#                              colorscale=\"Blues\"))#, lighting=dict(ambient=0.5)))\n",
    "    \n",
    "    fig.update_traces(showscale=False)\n",
    "\n",
    "    for t in range(len(extant_ids)-1):\n",
    "        tid = extant_ids[t]\n",
    "        point_ft = point_ids==tid\n",
    "        track_ft = track_ids==tid\n",
    "\n",
    "        x_vec = track_array[track_ft, 0]\n",
    "        y_vec = track_array[track_ft, 1]\n",
    "        if len(x_vec) > 1:\n",
    "            xj_ind_vec = (np.where(np.abs(np.diff(x_vec)) > big_jump_thresh)[0] + 1).tolist()\n",
    "            yj_ind_vec = (np.where(np.abs(np.diff(y_vec)) > big_jump_thresh)[0] + 1).tolist()\n",
    "        else:\n",
    "            xj_ind_vec = []\n",
    "            yj_ind_vec = []\n",
    "            \n",
    "        jump_indices = np.unique([0] + xj_ind_vec + yj_ind_vec + [len(x_vec)])\n",
    "        \n",
    "        \n",
    "        for j in range(len(jump_indices)-2, len(jump_indices)-1):\n",
    "            start_i = jump_indices[j]\n",
    "            stop_i = jump_indices[j+1]\n",
    "            fig.add_trace(go.Scatter(x=x_vec[start_i:stop_i], y=y_vec[start_i:stop_i], \n",
    "                                       mode=\"lines\", showlegend=False, line=dict(color=track_colors[track_ft][0])))\n",
    "        \n",
    "        if np.sum(point_ft) > 0:\n",
    "            fig.add_trace(go.Scatter(x=point_array[point_ft, 0], y=point_array[point_ft, 1],\n",
    "                                       mode=\"markers\", showlegend=False, marker=dict(color=point_colors[point_ft], \n",
    "                                                                    size=8, line=dict(color=\"SlateGray\", width=1))))\n",
    "\n",
    "        \n",
    "\n",
    "    fig.update_layout(\n",
    "                        xaxis_title='longitude (degrees)',\n",
    "                        yaxis_title='latitude (degrees)', \n",
    "                        yaxis_range=[0, 90],\n",
    "                        xaxis_range=[0, 360])\n",
    "    \n",
    "    \n",
    "    fig.write_image(os.path.join(track_path_2d, f'frame3d_t{time_id:04}.png'), scale=2)\n",
    "\n",
    "fig.show()"
   ]
  },
  {
   "cell_type": "code",
   "execution_count": null,
   "metadata": {},
   "outputs": [],
   "source": [
    "tid = extant_ids[13]\n",
    "point_ft = point_ids==tid\n",
    "track_ft = track_ids==tid\n",
    "\n",
    "x_vec = track_array[track_ft, 0]\n",
    "y_vec = track_array[track_ft, 1]\n",
    "if len(x_vec) > 1:\n",
    "    xj_ind_vec = np.where(np.abs(np.diff(x_vec)) > big_jump_thresh)[0].tolist()\n",
    "    yj_ind_vec = np.where(np.abs(np.diff(y_vec)) > big_jump_thresh)[0].tolist()\n",
    "else:\n",
    "    xj_ind_vec = []\n",
    "    yj_ind_vec = []\n",
    "    \n",
    "print(x_vec)"
   ]
  },
  {
   "cell_type": "code",
   "execution_count": null,
   "metadata": {},
   "outputs": [],
   "source": [
    "jump_indices = np.unique([0] + xj_ind_vec + yj_ind_vec + [len(x_vec)])\n",
    "jump_indices"
   ]
  },
  {
   "cell_type": "code",
   "execution_count": null,
   "metadata": {
    "pycharm": {
     "is_executing": true
    }
   },
   "outputs": [],
   "source": [
    "from tqdm import tqdm\n",
    "dt = 90\n",
    "\n",
    "window_size_vec = [5, 25]\n",
    "\n",
    "for window_size in window_size_vec:\n",
    "    w_str = str(window_size)\n",
    "    c_time = dt*(window_size-1)\n",
    "    buffer_size = window_size // 2\n",
    "    track_index = np.unique(tracks_df[\"track_id\"])\n",
    "\n",
    "    for t, track_id in enumerate(tqdm(track_index)):\n",
    "        track_bool = tracks_df[\"track_id\"] == track_id\n",
    "\n",
    "        if np.sum(track_bool) >= window_size:\n",
    "            xyz = tracks_df.loc[track_bool, [\"x\", \"y\", \"z\"]].to_numpy()\n",
    "\n",
    "            # get contour length\n",
    "            d1 = np.sqrt(np.sum(np.diff(xyz, 1, axis=0)**2, axis=1))\n",
    "            d1_cs = np.cumsum(d1)\n",
    "            cs1 = d1_cs[window_size-2:]\n",
    "            cs2 = np.concatenate(([0], d1_cs[:-window_size+1]))\n",
    "            contour_r = cs1 - cs2\n",
    "\n",
    "            # get net displacement\n",
    "            net_r = np.sqrt(np.sum((xyz[window_size-1:, :] - xyz[:-window_size+1, :])**2, axis=1))\n",
    "\n",
    "            # assign to tracks df\n",
    "            to_indices = np.where(track_bool)[0]\n",
    "            to_indices = to_indices[buffer_size:-buffer_size]\n",
    "            tracks_df.loc[to_indices, \"speed_\" + w_str] = contour_r / c_time\n",
    "            tracks_df.loc[to_indices, \"speed_net_\" + w_str] = net_r / c_time\n",
    "            tracks_df.loc[to_indices, \"coherence_\" + w_str] = net_r / contour_r\n",
    "\n",
    "\n",
    "        "
   ]
  },
  {
   "cell_type": "code",
   "execution_count": null,
   "metadata": {
    "pycharm": {
     "is_executing": true
    }
   },
   "outputs": [],
   "source": [
    "import plotly.express as px\n",
    "\n",
    "track_id = 101\n",
    "fig = px.scatter(tracks_df.loc[tracks_df[\"track_id\"]==track_id], x=\"t\", y=\"speed_5\", color=\"t\", template=\"plotly\")\n",
    "fig.show()"
   ]
  },
  {
   "cell_type": "code",
   "execution_count": null,
   "metadata": {
    "pycharm": {
     "is_executing": true
    }
   },
   "outputs": [],
   "source": [
    "fig = px.density_contour(tracks_df, x=\"speed_25\", y=\"speed_net_25\")\n",
    "fig.update_traces(contours_coloring=\"fill\", contours_showlabels = True, colorscale=\"Blues\")\n",
    "fig.show()"
   ]
  },
  {
   "cell_type": "code",
   "execution_count": null,
   "metadata": {
    "pycharm": {
     "is_executing": true
    }
   },
   "outputs": [],
   "source": [
    "fig = px.density_contour(tracks_df, x=\"t\", y=\"coherence_25\")\n",
    "fig.update_traces(contours_coloring=\"fill\", contours_showlabels = True, colorscale=\"Blues\")\n",
    "fig.show()"
   ]
  },
  {
   "cell_type": "code",
   "execution_count": null,
   "metadata": {
    "pycharm": {
     "is_executing": true
    }
   },
   "outputs": [],
   "source": [
    "shape_df = pd.read_csv(os.path.join(tracking_directory, \"cell_shape_df.csv\"))\n",
    "shape_df.head()"
   ]
  },
  {
   "cell_type": "code",
   "execution_count": null,
   "metadata": {
    "pycharm": {
     "is_executing": true
    }
   },
   "outputs": [],
   "source": [
    "fig = px.density_contour(shape_df, x=\"t\", y=\"circularity\")\n",
    "fig.update_traces(contours_coloring=\"fill\", contours_showlabels = True, colorscale=\"Blues\")\n",
    "fig.show()"
   ]
  },
  {
   "cell_type": "code",
   "execution_count": null,
   "metadata": {
    "pycharm": {
     "is_executing": true
    }
   },
   "outputs": [],
   "source": [
    "master_df = tracks_df.merge(shape_df, on=[\"track_id\", \"t\"], how=\"left\")"
   ]
  },
  {
   "cell_type": "code",
   "execution_count": null,
   "metadata": {
    "pycharm": {
     "is_executing": true
    }
   },
   "outputs": [],
   "source": [
    "master_df[\"time_id\"] = np.floor(master_df[\"t\"].to_numpy()/350).astype(int)\n",
    "\n",
    "fig = px.density_contour(master_df, x=\"complexity\", y=\"speed_25\", color=\"time_id\", template=\"plotly\")\n",
    "# fig.update_traces(contours_coloring=\"fill\", contours_showlabels = True, colorscale=\"Blues\")\n",
    "fig.show()"
   ]
  },
  {
   "cell_type": "code",
   "execution_count": null,
   "metadata": {
    "pycharm": {
     "is_executing": true
    }
   },
   "outputs": [],
   "source": [
    "fig = px.density_contour(master_df, x=\"circularity\", y=\"speed_25\")\n",
    "fig.update_traces(contours_coloring=\"fill\", contours_showlabels = True, colorscale=\"Blues\")\n",
    "fig.show()"
   ]
  },
  {
   "cell_type": "code",
   "execution_count": null,
   "metadata": {
    "pycharm": {
     "is_executing": true
    }
   },
   "outputs": [],
   "source": []
  }
 ],
 "metadata": {
  "kernelspec": {
   "display_name": "Python 3 (ipykernel)",
   "language": "python",
   "name": "python3"
  },
  "language_info": {
   "codemirror_mode": {
    "name": "ipython",
    "version": 3
   },
   "file_extension": ".py",
   "mimetype": "text/x-python",
   "name": "python",
   "nbconvert_exporter": "python",
   "pygments_lexer": "ipython3",
   "version": "3.10.18"
  }
 },
 "nbformat": 4,
 "nbformat_minor": 4
}
