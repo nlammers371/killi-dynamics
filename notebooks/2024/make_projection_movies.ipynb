{
 "cells": [
  {
   "cell_type": "code",
   "execution_count": 1,
   "metadata": {
    "is_executing": true,
    "pycharm": {
     "is_executing": true
    }
   },
   "outputs": [],
   "source": [
    "import napari\n",
    "import os\n",
    "from tqdm import tqdm\n",
    "import numpy as np\n",
    "import glob2 as glob\n",
    "import zarr\n",
    "import json\n",
    "import skimage.io as io\n",
    "import pandas as pd\n",
    "import umap.umap_ as umap\n",
    "from sklearn.preprocessing import StandardScaler\n",
    "\n",
    "# # set parameters\n",
    "root = \"/Users/nick/Cole Trapnell's Lab Dropbox/Nick Lammers/Nick/killi_tracker/\" #\"E:\\\\Nick\\\\Cole Trapnell's Lab Dropbox\\\\Nick Lammers\\\\Nick\\\\killi_tracker\\\\\"\n",
    "project_name = \"240219_LCP1_93hpf_to_127hpf\"\n",
    "image_dir = os.path.join(root, \"built_data\", project_name, \"\")\n",
    "config_name = \"tracking_cell.txt\"# \n",
    "tracking_folder = config_name.replace(\".txt\", \"\")\n",
    "tracking_folder = tracking_folder.replace(\".toml\", \"\")\n",
    "\n",
    "tracking_directory = os.path.join(root, \"built_data\", \"tracking\", project_name, tracking_folder)\n",
    "snip_directory = os.path.join(root, \"built_data\", \"shape_snips\", project_name, tracking_folder, \"class0\")\n",
    "\n",
    "# load metadata\n",
    "metadata_file_path = os.path.join(root, \"metadata\", project_name, \"metadata.json\")\n",
    "f = open(metadata_file_path)\n",
    "metadata = json.load(f)\n",
    "scale_vec = np.asarray([metadata[\"ProbPhysicalSizeZ\"], metadata[\"ProbPhysicalSizeY\"], metadata[\"ProbPhysicalSizeX\"]])"
   ]
  },
  {
   "cell_type": "markdown",
   "metadata": {},
   "source": [
    "## Load tracking DF"
   ]
  },
  {
   "cell_type": "code",
   "execution_count": 43,
   "metadata": {
    "ExecuteTime": {
     "end_time": "2024-02-28T04:14:13.779411600Z",
     "start_time": "2024-02-28T04:14:13.709412300Z"
    },
    "pycharm": {
     "is_executing": true
    }
   },
   "outputs": [],
   "source": [
    "# load tracking data\n",
    "tracks_df = pd.read_csv(os.path.join(tracking_directory, \"tracks_cleaned.csv\"))\n",
    "tracks_df.head()\n",
    "tracks_df_clean = tracks_df.loc[(~tracks_df[\"fragment_flag\"]) & (tracks_df[\"avg_disp_um\"] > 2.2), :]"
   ]
  },
  {
   "cell_type": "markdown",
   "metadata": {},
   "source": [
    "## Load sphere coordinate DF"
   ]
  },
  {
   "cell_type": "code",
   "execution_count": 4,
   "metadata": {
    "ExecuteTime": {
     "end_time": "2024-02-28T04:14:13.780411500Z",
     "start_time": "2024-02-28T04:14:13.741412300Z"
    },
    "pycharm": {
     "is_executing": true
    }
   },
   "outputs": [
    {
     "data": {
      "text/html": [
       "<div>\n",
       "<style scoped>\n",
       "    .dataframe tbody tr th:only-of-type {\n",
       "        vertical-align: middle;\n",
       "    }\n",
       "\n",
       "    .dataframe tbody tr th {\n",
       "        vertical-align: top;\n",
       "    }\n",
       "\n",
       "    .dataframe thead th {\n",
       "        text-align: right;\n",
       "    }\n",
       "</style>\n",
       "<table border=\"1\" class=\"dataframe\">\n",
       "  <thead>\n",
       "    <tr style=\"text-align: right;\">\n",
       "      <th></th>\n",
       "      <th>index</th>\n",
       "      <th>Z</th>\n",
       "      <th>Y</th>\n",
       "      <th>X</th>\n",
       "      <th>r</th>\n",
       "      <th>t</th>\n",
       "      <th>project</th>\n",
       "      <th>ZM</th>\n",
       "      <th>YM</th>\n",
       "      <th>XM</th>\n",
       "      <th>rm</th>\n",
       "    </tr>\n",
       "  </thead>\n",
       "  <tbody>\n",
       "    <tr>\n",
       "      <th>0</th>\n",
       "      <td>322</td>\n",
       "      <td>-130.922350</td>\n",
       "      <td>612.522760</td>\n",
       "      <td>638.747552</td>\n",
       "      <td>585.680548</td>\n",
       "      <td>0</td>\n",
       "      <td>240219_LCP1_93hpf_to_127hpf</td>\n",
       "      <td>-114.287805</td>\n",
       "      <td>624.219160</td>\n",
       "      <td>624.722646</td>\n",
       "      <td>569.995015</td>\n",
       "    </tr>\n",
       "    <tr>\n",
       "      <th>1</th>\n",
       "      <td>323</td>\n",
       "      <td>-123.378080</td>\n",
       "      <td>605.774383</td>\n",
       "      <td>642.860044</td>\n",
       "      <td>582.202359</td>\n",
       "      <td>1</td>\n",
       "      <td>240219_LCP1_93hpf_to_127hpf</td>\n",
       "      <td>-124.893238</td>\n",
       "      <td>620.703550</td>\n",
       "      <td>632.874655</td>\n",
       "      <td>578.948673</td>\n",
       "    </tr>\n",
       "    <tr>\n",
       "      <th>2</th>\n",
       "      <td>324</td>\n",
       "      <td>-141.222175</td>\n",
       "      <td>617.822052</td>\n",
       "      <td>640.930389</td>\n",
       "      <td>590.617249</td>\n",
       "      <td>2</td>\n",
       "      <td>240219_LCP1_93hpf_to_127hpf</td>\n",
       "      <td>-136.435576</td>\n",
       "      <td>617.009057</td>\n",
       "      <td>641.109812</td>\n",
       "      <td>588.214346</td>\n",
       "    </tr>\n",
       "    <tr>\n",
       "      <th>3</th>\n",
       "      <td>325</td>\n",
       "      <td>-144.150005</td>\n",
       "      <td>623.900840</td>\n",
       "      <td>641.322136</td>\n",
       "      <td>592.381337</td>\n",
       "      <td>3</td>\n",
       "      <td>240219_LCP1_93hpf_to_127hpf</td>\n",
       "      <td>-139.141170</td>\n",
       "      <td>620.080003</td>\n",
       "      <td>641.838164</td>\n",
       "      <td>589.142819</td>\n",
       "    </tr>\n",
       "    <tr>\n",
       "      <th>4</th>\n",
       "      <td>326</td>\n",
       "      <td>-142.505268</td>\n",
       "      <td>625.025248</td>\n",
       "      <td>641.688937</td>\n",
       "      <td>590.190236</td>\n",
       "      <td>4</td>\n",
       "      <td>240219_LCP1_93hpf_to_127hpf</td>\n",
       "      <td>-144.301180</td>\n",
       "      <td>624.557621</td>\n",
       "      <td>641.668935</td>\n",
       "      <td>591.334294</td>\n",
       "    </tr>\n",
       "  </tbody>\n",
       "</table>\n",
       "</div>"
      ],
      "text/plain": [
       "   index           Z           Y           X           r  t  \\\n",
       "0    322 -130.922350  612.522760  638.747552  585.680548  0   \n",
       "1    323 -123.378080  605.774383  642.860044  582.202359  1   \n",
       "2    324 -141.222175  617.822052  640.930389  590.617249  2   \n",
       "3    325 -144.150005  623.900840  641.322136  592.381337  3   \n",
       "4    326 -142.505268  625.025248  641.688937  590.190236  4   \n",
       "\n",
       "                       project          ZM          YM          XM          rm  \n",
       "0  240219_LCP1_93hpf_to_127hpf -114.287805  624.219160  624.722646  569.995015  \n",
       "1  240219_LCP1_93hpf_to_127hpf -124.893238  620.703550  632.874655  578.948673  \n",
       "2  240219_LCP1_93hpf_to_127hpf -136.435576  617.009057  641.109812  588.214346  \n",
       "3  240219_LCP1_93hpf_to_127hpf -139.141170  620.080003  641.838164  589.142819  \n",
       "4  240219_LCP1_93hpf_to_127hpf -144.301180  624.557621  641.668935  591.334294  "
      ]
     },
     "execution_count": 4,
     "metadata": {},
     "output_type": "execute_result"
    }
   ],
   "source": [
    "# load tracking data\n",
    "sphere_df = pd.read_csv(os.path.join(tracking_directory, \"sphere_df_smoothed.csv\"))\n",
    "sphere_df.tail()\n",
    "si = np.argsort(sphere_df[\"t\"])\n",
    "sphere_df = sphere_df.loc[si, :]\n",
    "sphere_df.reset_index(inplace=True)\n",
    "sphere_df.head()"
   ]
  },
  {
   "cell_type": "code",
   "execution_count": 35,
   "metadata": {},
   "outputs": [
    {
     "data": {
      "text/plain": [
       "509.2725755377313"
      ]
     },
     "execution_count": 35,
     "metadata": {},
     "output_type": "execute_result"
    }
   ],
   "source": [
    "np.min(sphere_df[\"rm\"])"
   ]
  },
  {
   "cell_type": "markdown",
   "metadata": {},
   "source": [
    "## 3D visuals"
   ]
  },
  {
   "cell_type": "code",
   "execution_count": 22,
   "metadata": {
    "ExecuteTime": {
     "end_time": "2024-02-28T04:14:13.818412200Z",
     "start_time": "2024-02-28T04:14:13.791413100Z"
    },
    "pycharm": {
     "is_executing": true
    }
   },
   "outputs": [],
   "source": [
    "import pandas as pd\n",
    "import plotly.express as px\n",
    "import plotly.graph_objects as go\n",
    "\n",
    "def ms(x, y, z, radius, resolution=20):\n",
    "    \"\"\"Return the coordinates for plotting a sphere centered at (x,y,z)\"\"\"\n",
    "    u, v = np.mgrid[0:2*np.pi:resolution*2j, 0:np.pi:resolution*1j]\n",
    "    X = radius * np.cos(u)*np.sin(v) + x\n",
    "    Y = radius * np.sin(u)*np.sin(v) + y\n",
    "    Z = radius * np.cos(v) + z\n",
    "    return (X, Y, Z)\n",
    "\n",
    "def ms_T(x, y, z, radius, resolution=20):\n",
    "    \"\"\"Return the coordinates for plotting a sphere centered at (x,y,z)\"\"\"\n",
    "    v, u = np.mgrid[0:np.pi:resolution*1j, 0:2*np.pi:resolution*2j]\n",
    "    X = radius * np.cos(u)*np.sin(v) + x\n",
    "    Y = radius * np.sin(u)*np.sin(v) + y\n",
    "    Z = radius * np.cos(v) + z\n",
    "    return (X, Y, Z)"
   ]
  },
  {
   "cell_type": "code",
   "execution_count": 16,
   "metadata": {},
   "outputs": [],
   "source": [
    "from alphashape import alphashape\n",
    "\n",
    "def generate_sphere_mesh(X, Y, Z):\n",
    "    \n",
    "    xyz = np.concatenate((X[:, np.newaxis], Y[:, np.newaxis], Z[:, np.newaxis]), axis=1)\n",
    "    xyz_min = np.min(xyz, axis=0)\n",
    "    xyz_norm = xyz - xyz_min\n",
    "    xyz_max = np.max(xyz_norm, axis=0) \n",
    "    xyz_norm = xyz_norm / xyz_max\n",
    "    sphere_hull = alphashape(xyz_norm, alpha)\n",
    "    \n",
    "    tri_points = sphere_hull.vertices[sphere_hull.faces]\n",
    "    tri_points = np.multiply(tri_points, xyz_max)\n",
    "    tri_points = tri_points + xyz_min\n",
    "    #extract the lists of x, y, z coordinates of the triangle vertices and connect them by a line\n",
    "    Xe = []\n",
    "    Ye = []\n",
    "    Ze = []\n",
    "    for T in tri_points:\n",
    "        Xe.extend([T[k%3][0] for k in range(4)]+[ None])\n",
    "        Ye.extend([T[k%3][1] for k in range(4)]+[ None])\n",
    "        Ze.extend([T[k%3][2] for k in range(4)]+[ None])\n",
    "        \n",
    "    return Ze, Ye, Xe\n",
    "    \n",
    "       \n",
    "#define the trace for triangle sides\n",
    "# fig = go.Figure()\n",
    "# lines = go.Scatter3d(\n",
    "#                    x=Xe,\n",
    "#                    y=Ye,\n",
    "#                    z=Ze,\n",
    "#                    mode='lines',\n",
    "#                    name='',\n",
    "#                    line=dict(color= 'rgb(70,70,70)', width=1)) \n",
    "\n",
    "# fig.add_trace(go.Mesh3d(x=plot_hull.vertices[:, 0], y=plot_hull.vertices[:, 1],z=plot_hull.vertices[:, 2], \n",
    "#                         opacity=1,\n",
    "#                                i=plot_hull.faces[:, 0], j=plot_hull.faces[:, 1], k=plot_hull.faces[:, 2]))\n"
   ]
  },
  {
   "cell_type": "code",
   "execution_count": 91,
   "metadata": {
    "ExecuteTime": {
     "end_time": "2024-02-28T04:14:14.010772900Z",
     "start_time": "2024-02-28T04:14:13.826772700Z"
    },
    "pycharm": {
     "is_executing": true
    }
   },
   "outputs": [
    {
     "name": "stderr",
     "output_type": "stream",
     "text": [
      "/var/folders/m7/tpjttxb92tl8b4c9svgvgby00000gn/T/ipykernel_44460/3815224788.py:5: SettingWithCopyWarning:\n",
      "\n",
      "\n",
      "A value is trying to be set on a copy of a slice from a DataFrame.\n",
      "Try using .loc[row_indexer,col_indexer] = value instead\n",
      "\n",
      "See the caveats in the documentation: https://pandas.pydata.org/pandas-docs/stable/user_guide/indexing.html#returning-a-view-versus-a-copy\n",
      "\n",
      "  1%|          | 11/1350 [00:25<50:55,  2.28s/it] \n"
     ]
    },
    {
     "ename": "KeyboardInterrupt",
     "evalue": "",
     "output_type": "error",
     "traceback": [
      "\u001b[0;31m---------------------------------------------------------------------------\u001b[0m",
      "\u001b[0;31mKeyboardInterrupt\u001b[0m                         Traceback (most recent call last)",
      "Cell \u001b[0;32mIn[91], line 117\u001b[0m\n\u001b[1;32m    108\u001b[0m     camera \u001b[38;5;241m=\u001b[39m \u001b[38;5;28mdict\u001b[39m(\n\u001b[1;32m    109\u001b[0m         up\u001b[38;5;241m=\u001b[39m\u001b[38;5;28mdict\u001b[39m(x\u001b[38;5;241m=\u001b[39m\u001b[38;5;241m0\u001b[39m, y\u001b[38;5;241m=\u001b[39m\u001b[38;5;241m0\u001b[39m, z\u001b[38;5;241m=\u001b[39m\u001b[38;5;241m1\u001b[39m),\n\u001b[1;32m    110\u001b[0m         center\u001b[38;5;241m=\u001b[39m\u001b[38;5;28mdict\u001b[39m(x\u001b[38;5;241m=\u001b[39m\u001b[38;5;241m0\u001b[39m, y\u001b[38;5;241m=\u001b[39m\u001b[38;5;241m0\u001b[39m, z\u001b[38;5;241m=\u001b[39m\u001b[38;5;241m0\u001b[39m),\n\u001b[1;32m    111\u001b[0m         eye\u001b[38;5;241m=\u001b[39m\u001b[38;5;28mdict\u001b[39m(x\u001b[38;5;241m=\u001b[39meye_vec[\u001b[38;5;241m0\u001b[39m], y\u001b[38;5;241m=\u001b[39meye_vec[\u001b[38;5;241m1\u001b[39m], z\u001b[38;5;241m=\u001b[39meye_vec[\u001b[38;5;241m2\u001b[39m])\n\u001b[1;32m    112\u001b[0m     )\n\u001b[1;32m    114\u001b[0m     fig\u001b[38;5;241m.\u001b[39mupdate_layout(scene_camera\u001b[38;5;241m=\u001b[39mcamera,\n\u001b[1;32m    115\u001b[0m                       template\u001b[38;5;241m=\u001b[39m\u001b[38;5;124m\"\u001b[39m\u001b[38;5;124mplotly_dark\u001b[39m\u001b[38;5;124m\"\u001b[39m)\n\u001b[0;32m--> 117\u001b[0m     \u001b[43mfig\u001b[49m\u001b[38;5;241;43m.\u001b[39;49m\u001b[43mwrite_image\u001b[49m\u001b[43m(\u001b[49m\u001b[43mos\u001b[49m\u001b[38;5;241;43m.\u001b[39;49m\u001b[43mpath\u001b[49m\u001b[38;5;241;43m.\u001b[39;49m\u001b[43mjoin\u001b[49m\u001b[43m(\u001b[49m\u001b[43mtrack_path_3d\u001b[49m\u001b[43m,\u001b[49m\u001b[43m \u001b[49m\u001b[38;5;124;43mf\u001b[39;49m\u001b[38;5;124;43m'\u001b[39;49m\u001b[38;5;124;43mframe3d_t\u001b[39;49m\u001b[38;5;132;43;01m{\u001b[39;49;00m\u001b[43mtime_id\u001b[49m\u001b[38;5;132;43;01m:\u001b[39;49;00m\u001b[38;5;124;43m04\u001b[39;49m\u001b[38;5;132;43;01m}\u001b[39;49;00m\u001b[38;5;124;43m.png\u001b[39;49m\u001b[38;5;124;43m'\u001b[39;49m\u001b[43m)\u001b[49m\u001b[43m,\u001b[49m\u001b[43m \u001b[49m\u001b[43mscale\u001b[49m\u001b[38;5;241;43m=\u001b[39;49m\u001b[38;5;241;43m2\u001b[39;49m\u001b[43m)\u001b[49m\n\u001b[1;32m    119\u001b[0m fig\u001b[38;5;241m.\u001b[39mshow()\n",
      "File \u001b[0;32m~/miniforge3/envs/pecfin-morph-env/lib/python3.10/site-packages/plotly/basedatatypes.py:3821\u001b[0m, in \u001b[0;36mBaseFigure.write_image\u001b[0;34m(self, *args, **kwargs)\u001b[0m\n\u001b[1;32m   3761\u001b[0m \u001b[38;5;124;03m\"\"\"\u001b[39;00m\n\u001b[1;32m   3762\u001b[0m \u001b[38;5;124;03mConvert a figure to a static image and write it to a file or writeable\u001b[39;00m\n\u001b[1;32m   3763\u001b[0m \u001b[38;5;124;03mobject\u001b[39;00m\n\u001b[0;32m   (...)\u001b[0m\n\u001b[1;32m   3817\u001b[0m \u001b[38;5;124;03mNone\u001b[39;00m\n\u001b[1;32m   3818\u001b[0m \u001b[38;5;124;03m\"\"\"\u001b[39;00m\n\u001b[1;32m   3819\u001b[0m \u001b[38;5;28;01mimport\u001b[39;00m \u001b[38;5;21;01mplotly\u001b[39;00m\u001b[38;5;21;01m.\u001b[39;00m\u001b[38;5;21;01mio\u001b[39;00m \u001b[38;5;28;01mas\u001b[39;00m \u001b[38;5;21;01mpio\u001b[39;00m\n\u001b[0;32m-> 3821\u001b[0m \u001b[38;5;28;01mreturn\u001b[39;00m \u001b[43mpio\u001b[49m\u001b[38;5;241;43m.\u001b[39;49m\u001b[43mwrite_image\u001b[49m\u001b[43m(\u001b[49m\u001b[38;5;28;43mself\u001b[39;49m\u001b[43m,\u001b[49m\u001b[43m \u001b[49m\u001b[38;5;241;43m*\u001b[39;49m\u001b[43margs\u001b[49m\u001b[43m,\u001b[49m\u001b[43m \u001b[49m\u001b[38;5;241;43m*\u001b[39;49m\u001b[38;5;241;43m*\u001b[39;49m\u001b[43mkwargs\u001b[49m\u001b[43m)\u001b[49m\n",
      "File \u001b[0;32m~/miniforge3/envs/pecfin-morph-env/lib/python3.10/site-packages/plotly/io/_kaleido.py:267\u001b[0m, in \u001b[0;36mwrite_image\u001b[0;34m(fig, file, format, scale, width, height, validate, engine)\u001b[0m\n\u001b[1;32m    251\u001b[0m             \u001b[38;5;28;01mraise\u001b[39;00m \u001b[38;5;167;01mValueError\u001b[39;00m(\n\u001b[1;32m    252\u001b[0m                 \u001b[38;5;124;03m\"\"\"\u001b[39;00m\n\u001b[1;32m    253\u001b[0m \u001b[38;5;124;03mCannot infer image type from output path '{file}'.\u001b[39;00m\n\u001b[0;32m   (...)\u001b[0m\n\u001b[1;32m    261\u001b[0m                 )\n\u001b[1;32m    262\u001b[0m             )\n\u001b[1;32m    264\u001b[0m     \u001b[38;5;66;03m# Request image\u001b[39;00m\n\u001b[1;32m    265\u001b[0m     \u001b[38;5;66;03m# -------------\u001b[39;00m\n\u001b[1;32m    266\u001b[0m     \u001b[38;5;66;03m# Do this first so we don't create a file if image conversion fails\u001b[39;00m\n\u001b[0;32m--> 267\u001b[0m     img_data \u001b[38;5;241m=\u001b[39m \u001b[43mto_image\u001b[49m\u001b[43m(\u001b[49m\n\u001b[1;32m    268\u001b[0m \u001b[43m        \u001b[49m\u001b[43mfig\u001b[49m\u001b[43m,\u001b[49m\n\u001b[1;32m    269\u001b[0m \u001b[43m        \u001b[49m\u001b[38;5;28;43mformat\u001b[39;49m\u001b[38;5;241;43m=\u001b[39;49m\u001b[38;5;28;43mformat\u001b[39;49m\u001b[43m,\u001b[49m\n\u001b[1;32m    270\u001b[0m \u001b[43m        \u001b[49m\u001b[43mscale\u001b[49m\u001b[38;5;241;43m=\u001b[39;49m\u001b[43mscale\u001b[49m\u001b[43m,\u001b[49m\n\u001b[1;32m    271\u001b[0m \u001b[43m        \u001b[49m\u001b[43mwidth\u001b[49m\u001b[38;5;241;43m=\u001b[39;49m\u001b[43mwidth\u001b[49m\u001b[43m,\u001b[49m\n\u001b[1;32m    272\u001b[0m \u001b[43m        \u001b[49m\u001b[43mheight\u001b[49m\u001b[38;5;241;43m=\u001b[39;49m\u001b[43mheight\u001b[49m\u001b[43m,\u001b[49m\n\u001b[1;32m    273\u001b[0m \u001b[43m        \u001b[49m\u001b[43mvalidate\u001b[49m\u001b[38;5;241;43m=\u001b[39;49m\u001b[43mvalidate\u001b[49m\u001b[43m,\u001b[49m\n\u001b[1;32m    274\u001b[0m \u001b[43m        \u001b[49m\u001b[43mengine\u001b[49m\u001b[38;5;241;43m=\u001b[39;49m\u001b[43mengine\u001b[49m\u001b[43m,\u001b[49m\n\u001b[1;32m    275\u001b[0m \u001b[43m    \u001b[49m\u001b[43m)\u001b[49m\n\u001b[1;32m    277\u001b[0m     \u001b[38;5;66;03m# Open file\u001b[39;00m\n\u001b[1;32m    278\u001b[0m     \u001b[38;5;66;03m# ---------\u001b[39;00m\n\u001b[1;32m    279\u001b[0m     \u001b[38;5;28;01mif\u001b[39;00m path \u001b[38;5;129;01mis\u001b[39;00m \u001b[38;5;28;01mNone\u001b[39;00m:\n\u001b[1;32m    280\u001b[0m         \u001b[38;5;66;03m# We previously failed to make sense of `file` as a pathlib object.\u001b[39;00m\n\u001b[1;32m    281\u001b[0m         \u001b[38;5;66;03m# Attempt to write to `file` as an open file descriptor.\u001b[39;00m\n",
      "File \u001b[0;32m~/miniforge3/envs/pecfin-morph-env/lib/python3.10/site-packages/plotly/io/_kaleido.py:144\u001b[0m, in \u001b[0;36mto_image\u001b[0;34m(fig, format, width, height, scale, validate, engine)\u001b[0m\n\u001b[1;32m    141\u001b[0m \u001b[38;5;66;03m# Validate figure\u001b[39;00m\n\u001b[1;32m    142\u001b[0m \u001b[38;5;66;03m# ---------------\u001b[39;00m\n\u001b[1;32m    143\u001b[0m fig_dict \u001b[38;5;241m=\u001b[39m validate_coerce_fig_to_dict(fig, validate)\n\u001b[0;32m--> 144\u001b[0m img_bytes \u001b[38;5;241m=\u001b[39m \u001b[43mscope\u001b[49m\u001b[38;5;241;43m.\u001b[39;49m\u001b[43mtransform\u001b[49m\u001b[43m(\u001b[49m\n\u001b[1;32m    145\u001b[0m \u001b[43m    \u001b[49m\u001b[43mfig_dict\u001b[49m\u001b[43m,\u001b[49m\u001b[43m \u001b[49m\u001b[38;5;28;43mformat\u001b[39;49m\u001b[38;5;241;43m=\u001b[39;49m\u001b[38;5;28;43mformat\u001b[39;49m\u001b[43m,\u001b[49m\u001b[43m \u001b[49m\u001b[43mwidth\u001b[49m\u001b[38;5;241;43m=\u001b[39;49m\u001b[43mwidth\u001b[49m\u001b[43m,\u001b[49m\u001b[43m \u001b[49m\u001b[43mheight\u001b[49m\u001b[38;5;241;43m=\u001b[39;49m\u001b[43mheight\u001b[49m\u001b[43m,\u001b[49m\u001b[43m \u001b[49m\u001b[43mscale\u001b[49m\u001b[38;5;241;43m=\u001b[39;49m\u001b[43mscale\u001b[49m\n\u001b[1;32m    146\u001b[0m \u001b[43m\u001b[49m\u001b[43m)\u001b[49m\n\u001b[1;32m    148\u001b[0m \u001b[38;5;28;01mreturn\u001b[39;00m img_bytes\n",
      "File \u001b[0;32m~/miniforge3/envs/pecfin-morph-env/lib/python3.10/site-packages/kaleido/scopes/plotly.py:153\u001b[0m, in \u001b[0;36mPlotlyScope.transform\u001b[0;34m(self, figure, format, width, height, scale)\u001b[0m\n\u001b[1;32m    142\u001b[0m     \u001b[38;5;28;01mraise\u001b[39;00m \u001b[38;5;167;01mValueError\u001b[39;00m(\n\u001b[1;32m    143\u001b[0m         \u001b[38;5;124m\"\u001b[39m\u001b[38;5;124mInvalid format \u001b[39m\u001b[38;5;124m'\u001b[39m\u001b[38;5;132;01m{original_format}\u001b[39;00m\u001b[38;5;124m'\u001b[39m\u001b[38;5;124m.\u001b[39m\u001b[38;5;130;01m\\n\u001b[39;00m\u001b[38;5;124m\"\u001b[39m\n\u001b[1;32m    144\u001b[0m         \u001b[38;5;124m\"\u001b[39m\u001b[38;5;124m    Supported formats: \u001b[39m\u001b[38;5;132;01m{supported_formats_str}\u001b[39;00m\u001b[38;5;124m\"\u001b[39m\n\u001b[0;32m   (...)\u001b[0m\n\u001b[1;32m    148\u001b[0m         )\n\u001b[1;32m    149\u001b[0m     )\n\u001b[1;32m    151\u001b[0m \u001b[38;5;66;03m# Transform in using _perform_transform rather than superclass so we can access the full\u001b[39;00m\n\u001b[1;32m    152\u001b[0m \u001b[38;5;66;03m# response dict, including error codes.\u001b[39;00m\n\u001b[0;32m--> 153\u001b[0m response \u001b[38;5;241m=\u001b[39m \u001b[38;5;28;43mself\u001b[39;49m\u001b[38;5;241;43m.\u001b[39;49m\u001b[43m_perform_transform\u001b[49m\u001b[43m(\u001b[49m\n\u001b[1;32m    154\u001b[0m \u001b[43m    \u001b[49m\u001b[43mfigure\u001b[49m\u001b[43m,\u001b[49m\u001b[43m \u001b[49m\u001b[38;5;28;43mformat\u001b[39;49m\u001b[38;5;241;43m=\u001b[39;49m\u001b[38;5;28;43mformat\u001b[39;49m\u001b[43m,\u001b[49m\u001b[43m \u001b[49m\u001b[43mwidth\u001b[49m\u001b[38;5;241;43m=\u001b[39;49m\u001b[43mwidth\u001b[49m\u001b[43m,\u001b[49m\u001b[43m \u001b[49m\u001b[43mheight\u001b[49m\u001b[38;5;241;43m=\u001b[39;49m\u001b[43mheight\u001b[49m\u001b[43m,\u001b[49m\u001b[43m \u001b[49m\u001b[43mscale\u001b[49m\u001b[38;5;241;43m=\u001b[39;49m\u001b[43mscale\u001b[49m\n\u001b[1;32m    155\u001b[0m \u001b[43m\u001b[49m\u001b[43m)\u001b[49m\n\u001b[1;32m    157\u001b[0m \u001b[38;5;66;03m# Check for export error, later can customize error messages for plotly Python users\u001b[39;00m\n\u001b[1;32m    158\u001b[0m code \u001b[38;5;241m=\u001b[39m response\u001b[38;5;241m.\u001b[39mget(\u001b[38;5;124m\"\u001b[39m\u001b[38;5;124mcode\u001b[39m\u001b[38;5;124m\"\u001b[39m, \u001b[38;5;241m0\u001b[39m)\n",
      "File \u001b[0;32m~/miniforge3/envs/pecfin-morph-env/lib/python3.10/site-packages/kaleido/scopes/base.py:308\u001b[0m, in \u001b[0;36mBaseScope._perform_transform\u001b[0;34m(self, data, **kwargs)\u001b[0m\n\u001b[1;32m    306\u001b[0m     \u001b[38;5;28mself\u001b[39m\u001b[38;5;241m.\u001b[39m_proc\u001b[38;5;241m.\u001b[39mstdin\u001b[38;5;241m.\u001b[39mwrite(\u001b[38;5;124m\"\u001b[39m\u001b[38;5;130;01m\\n\u001b[39;00m\u001b[38;5;124m\"\u001b[39m\u001b[38;5;241m.\u001b[39mencode(\u001b[38;5;124m'\u001b[39m\u001b[38;5;124mutf-8\u001b[39m\u001b[38;5;124m'\u001b[39m))\n\u001b[1;32m    307\u001b[0m     \u001b[38;5;28mself\u001b[39m\u001b[38;5;241m.\u001b[39m_proc\u001b[38;5;241m.\u001b[39mstdin\u001b[38;5;241m.\u001b[39mflush()\n\u001b[0;32m--> 308\u001b[0m     response \u001b[38;5;241m=\u001b[39m \u001b[38;5;28;43mself\u001b[39;49m\u001b[38;5;241;43m.\u001b[39;49m\u001b[43m_proc\u001b[49m\u001b[38;5;241;43m.\u001b[39;49m\u001b[43mstdout\u001b[49m\u001b[38;5;241;43m.\u001b[39;49m\u001b[43mreadline\u001b[49m\u001b[43m(\u001b[49m\u001b[43m)\u001b[49m\n\u001b[1;32m    310\u001b[0m response_string \u001b[38;5;241m=\u001b[39m response\u001b[38;5;241m.\u001b[39mdecode(\u001b[38;5;124m'\u001b[39m\u001b[38;5;124mutf-8\u001b[39m\u001b[38;5;124m'\u001b[39m)\n\u001b[1;32m    311\u001b[0m \u001b[38;5;28;01mif\u001b[39;00m \u001b[38;5;129;01mnot\u001b[39;00m response_string:\n",
      "\u001b[0;31mKeyboardInterrupt\u001b[0m: "
     ]
    }
   ],
   "source": [
    "from tqdm import tqdm\n",
    "import math \n",
    "\n",
    "plotly_repmap = np.asarray(px.colors.qualitative.Plotly*100)\n",
    "tracks_df_clean[\"plot_color\"] = plotly_repmap[tracks_df_clean[\"track_id\"]]\n",
    "\n",
    "mem = 25\n",
    "max_time = sphere_df.shape[0]# np.max(tracks_df[\"t\"])\n",
    "figure_root = os.path.join(root, \"figures\", project_name, tracking_folder)\n",
    "if not os.path.isdir(figure_root):\n",
    "    os.makedirs(figure_root)\n",
    "    \n",
    "rotate_plot = True\n",
    "rot_period = 100\n",
    "angle_vec = np.linspace(0, 2*np.pi, rot_period)\n",
    "    \n",
    "track_path_3d = os.path.join(figure_root, \"track_plots_3d\")\n",
    "if not os.path.isdir(track_path_3d):\n",
    "    os.makedirs(track_path_3d)\n",
    "\n",
    "radius_static = 540\n",
    "\n",
    "for time_id in tqdm(range(max_time)): #range(max_time)):\n",
    "    tracks_df_ft = tracks_df_clean.loc[tracks_df_clean[\"t\"]==time_id]\n",
    "    tracks_df_ft_mem = tracks_df_clean.loc[(tracks_df_clean[\"t\"]<=time_id) & (tracks_df[\"t\"]>time_id-mem) ]\n",
    "    x_pns_surface, y_pns_surface, z_pns_surface = ms(sphere_df.loc[time_id, \"XM\"], \n",
    "                                                      sphere_df.loc[time_id, \"YM\"], \n",
    "                                                      sphere_df.loc[time_id, \"ZM\"],radius_static)\n",
    "\n",
    "    x_alt, y_alt, z_alt = ms_T(sphere_df.loc[time_id, \"XM\"], \n",
    "                                                      sphere_df.loc[time_id, \"YM\"], \n",
    "                                                      sphere_df.loc[time_id, \"ZM\"],radius_static)\n",
    "\n",
    "    \n",
    "    point_array = tracks_df_ft.loc[:, [\"xum\", \"yum\", \"zum\"]].to_numpy()\n",
    "    point_ids = tracks_df_ft.loc[:, [\"track_id\"]].to_numpy().flatten()\n",
    "    point_colors = tracks_df_ft.loc[:, [\"plot_color\"]].to_numpy().flatten()\n",
    "    track_array = tracks_df_ft_mem.loc[:, [\"xum\", \"yum\", \"zum\"]].to_numpy()\n",
    "    track_ids = tracks_df_ft_mem.loc[:, [\"track_id\"]].to_numpy().flatten()\n",
    "    track_colors = tracks_df_ft_mem.loc[:, [\"plot_color\"]].to_numpy().flatten()\n",
    "    \n",
    "    X = x_pns_surface.flatten()\n",
    "    Y = y_pns_surface.flatten()\n",
    "    Z = z_pns_surface.flatten()\n",
    "    \n",
    "    Xa = x_alt.flatten()\n",
    "    Ya = y_alt.flatten()\n",
    "    Za = z_alt.flatten()\n",
    "    \n",
    "#     Ze, Ye, Xe = generate_sphere_mesh(X, Y, Z)\n",
    "\n",
    "    extant_ids = np.unique(track_ids)\n",
    "\n",
    "    fig = go.Figure()\n",
    "    fig.add_trace(go.Surface(x=x_pns_surface, y=y_pns_surface, z=z_pns_surface, opacity=0.7, \n",
    "                             colorscale=\"Blues\"))#, lighting=dict(ambient=0.5)))\n",
    "    \n",
    "    fig.update_traces(showscale=False)\n",
    "\n",
    "    lines = fig.add_trace(go.Scatter3d(\n",
    "                   x=X,\n",
    "                   y=Y,\n",
    "                   z=Z,\n",
    "                   mode='lines',\n",
    "                   name='',\n",
    "                   line=dict(color= 'rgba(70,70,70,1)', width=.5)))\n",
    "    \n",
    "\n",
    "    lines2 = fig.add_trace(go.Scatter3d(\n",
    "                   x=Xa,\n",
    "                   y=Ya,\n",
    "                   z=Za,\n",
    "                   mode='lines',\n",
    "                   name='',\n",
    "                   line=dict(color= 'rgba(70,70,70,1)', width=.5)))\n",
    "\n",
    "    for t in range(len(extant_ids)-1):\n",
    "        tid = extant_ids[t]\n",
    "        point_ft = point_ids==tid\n",
    "        track_ft = track_ids==tid\n",
    "\n",
    "        if np.sum(point_ft) > 0:\n",
    "            fig.add_trace(go.Scatter3d(x=point_array[point_ft, 0], y=point_array[point_ft, 1], z=point_array[point_ft, 2], \n",
    "                                       mode=\"markers\", showlegend=False, marker=dict(color=point_colors[point_ft], size=6)))\n",
    "\n",
    "        fig.add_trace(go.Scatter3d(x=track_array[track_ft, 0], y=track_array[track_ft, 1], z=track_array[track_ft, 2], \n",
    "                                   mode=\"lines\", showlegend=False, line=dict(color=track_colors[track_ft])))\n",
    "\n",
    "    fig.update_layout(scene = dict(\n",
    "                        xaxis_title='x (um)',\n",
    "                        yaxis_title='y (um)',\n",
    "                        zaxis_title='z (um)', \n",
    "                     xaxis = dict(range=[0,1300],),\n",
    "                     yaxis = dict(range=[0,1300],),\n",
    "                     zaxis = dict(range=[-800,500],),))\n",
    "    \n",
    "    eye_vec = np.asarray([1, 1, 2])*0.85\n",
    "    \n",
    "    if rotate_plot:\n",
    "        ind = time_id % len(angle_vec)\n",
    "        angle = angle_vec[ind]\n",
    "        x = math.cos(angle)\n",
    "        y = math.sin(angle)\n",
    "        mag = np.sqrt(x**2 + y**2)\n",
    "        fac = 0.85 / mag\n",
    "        eye_vec = np.asarray([x*fac, y*fac, eye_vec[2]])\n",
    "\n",
    "    camera = dict(\n",
    "        up=dict(x=0, y=0, z=1),\n",
    "        center=dict(x=0, y=0, z=0),\n",
    "        eye=dict(x=eye_vec[0], y=eye_vec[1], z=eye_vec[2])\n",
    "    )\n",
    "\n",
    "    fig.update_layout(scene_camera=camera,\n",
    "                      template=\"plotly_dark\")\n",
    "    \n",
    "    fig.write_image(os.path.join(track_path_3d, f'frame3d_t{time_id:04}.png'), scale=2)\n",
    "\n",
    "fig.show()"
   ]
  },
  {
   "cell_type": "code",
   "execution_count": 12,
   "metadata": {},
   "outputs": [
    {
     "data": {
      "text/plain": [
       "1124.06951882528"
      ]
     },
     "execution_count": 12,
     "metadata": {},
     "output_type": "execute_result"
    }
   ],
   "source": [
    "np.max(np.abs(np.diff(Xa)))"
   ]
  },
  {
   "cell_type": "markdown",
   "metadata": {},
   "source": [
    "## 2D visuals"
   ]
  },
  {
   "cell_type": "code",
   "execution_count": 45,
   "metadata": {
    "ExecuteTime": {
     "start_time": "2024-02-28T04:14:13.949772400Z"
    },
    "pycharm": {
     "is_executing": true
    }
   },
   "outputs": [
    {
     "data": {
      "application/vnd.plotly.v1+json": {
       "config": {
        "plotlyServerURL": "https://plot.ly"
       },
       "data": [
        {
         "hovertemplate": "theta=%{x}<br>phi=%{y}<extra></extra>",
         "legendgroup": "",
         "marker": {
          "color": "#636efa",
          "symbol": "circle"
         },
         "mode": "markers",
         "name": "",
         "orientation": "v",
         "showlegend": false,
         "type": "scatter",
         "x": [
          4.442913612495542,
          4.8712285116049685,
          0.871879417303017,
          0.7516341072750072,
          2.7251206093912907,
          2.461657116126602,
          2.1209699362966012,
          5.83028869443708,
          2.0796418625409148,
          2.487945439834501,
          4.631002835276188,
          0.1855214448712277,
          1.2470067186426537,
          5.503568501355258,
          1.4200839772649367,
          2.5525381686744444,
          0.8656692728266765
         ],
         "xaxis": "x",
         "y": [
          0.6869486625103709,
          0.9513898410307948,
          1.0699589479294045,
          1.0884387305386134,
          0.2485424043611616,
          0.5295242633444174,
          0.4953144734129461,
          0.28726465234647,
          0.2216780264173806,
          0.7228085537439788,
          0.9167515177883052,
          0.9821114487275396,
          0.5234947778032366,
          0.4177210928996152,
          0.8419580938936054,
          0.9127435902420764,
          0.1591183678174139
         ],
         "yaxis": "y"
        }
       ],
       "layout": {
        "legend": {
         "tracegroupgap": 0
        },
        "margin": {
         "t": 60
        },
        "template": {
         "data": {
          "bar": [
           {
            "error_x": {
             "color": "#2a3f5f"
            },
            "error_y": {
             "color": "#2a3f5f"
            },
            "marker": {
             "line": {
              "color": "#E5ECF6",
              "width": 0.5
             },
             "pattern": {
              "fillmode": "overlay",
              "size": 10,
              "solidity": 0.2
             }
            },
            "type": "bar"
           }
          ],
          "barpolar": [
           {
            "marker": {
             "line": {
              "color": "#E5ECF6",
              "width": 0.5
             },
             "pattern": {
              "fillmode": "overlay",
              "size": 10,
              "solidity": 0.2
             }
            },
            "type": "barpolar"
           }
          ],
          "carpet": [
           {
            "aaxis": {
             "endlinecolor": "#2a3f5f",
             "gridcolor": "white",
             "linecolor": "white",
             "minorgridcolor": "white",
             "startlinecolor": "#2a3f5f"
            },
            "baxis": {
             "endlinecolor": "#2a3f5f",
             "gridcolor": "white",
             "linecolor": "white",
             "minorgridcolor": "white",
             "startlinecolor": "#2a3f5f"
            },
            "type": "carpet"
           }
          ],
          "choropleth": [
           {
            "colorbar": {
             "outlinewidth": 0,
             "ticks": ""
            },
            "type": "choropleth"
           }
          ],
          "contour": [
           {
            "colorbar": {
             "outlinewidth": 0,
             "ticks": ""
            },
            "colorscale": [
             [
              0,
              "#0d0887"
             ],
             [
              0.1111111111111111,
              "#46039f"
             ],
             [
              0.2222222222222222,
              "#7201a8"
             ],
             [
              0.3333333333333333,
              "#9c179e"
             ],
             [
              0.4444444444444444,
              "#bd3786"
             ],
             [
              0.5555555555555556,
              "#d8576b"
             ],
             [
              0.6666666666666666,
              "#ed7953"
             ],
             [
              0.7777777777777778,
              "#fb9f3a"
             ],
             [
              0.8888888888888888,
              "#fdca26"
             ],
             [
              1,
              "#f0f921"
             ]
            ],
            "type": "contour"
           }
          ],
          "contourcarpet": [
           {
            "colorbar": {
             "outlinewidth": 0,
             "ticks": ""
            },
            "type": "contourcarpet"
           }
          ],
          "heatmap": [
           {
            "colorbar": {
             "outlinewidth": 0,
             "ticks": ""
            },
            "colorscale": [
             [
              0,
              "#0d0887"
             ],
             [
              0.1111111111111111,
              "#46039f"
             ],
             [
              0.2222222222222222,
              "#7201a8"
             ],
             [
              0.3333333333333333,
              "#9c179e"
             ],
             [
              0.4444444444444444,
              "#bd3786"
             ],
             [
              0.5555555555555556,
              "#d8576b"
             ],
             [
              0.6666666666666666,
              "#ed7953"
             ],
             [
              0.7777777777777778,
              "#fb9f3a"
             ],
             [
              0.8888888888888888,
              "#fdca26"
             ],
             [
              1,
              "#f0f921"
             ]
            ],
            "type": "heatmap"
           }
          ],
          "heatmapgl": [
           {
            "colorbar": {
             "outlinewidth": 0,
             "ticks": ""
            },
            "colorscale": [
             [
              0,
              "#0d0887"
             ],
             [
              0.1111111111111111,
              "#46039f"
             ],
             [
              0.2222222222222222,
              "#7201a8"
             ],
             [
              0.3333333333333333,
              "#9c179e"
             ],
             [
              0.4444444444444444,
              "#bd3786"
             ],
             [
              0.5555555555555556,
              "#d8576b"
             ],
             [
              0.6666666666666666,
              "#ed7953"
             ],
             [
              0.7777777777777778,
              "#fb9f3a"
             ],
             [
              0.8888888888888888,
              "#fdca26"
             ],
             [
              1,
              "#f0f921"
             ]
            ],
            "type": "heatmapgl"
           }
          ],
          "histogram": [
           {
            "marker": {
             "pattern": {
              "fillmode": "overlay",
              "size": 10,
              "solidity": 0.2
             }
            },
            "type": "histogram"
           }
          ],
          "histogram2d": [
           {
            "colorbar": {
             "outlinewidth": 0,
             "ticks": ""
            },
            "colorscale": [
             [
              0,
              "#0d0887"
             ],
             [
              0.1111111111111111,
              "#46039f"
             ],
             [
              0.2222222222222222,
              "#7201a8"
             ],
             [
              0.3333333333333333,
              "#9c179e"
             ],
             [
              0.4444444444444444,
              "#bd3786"
             ],
             [
              0.5555555555555556,
              "#d8576b"
             ],
             [
              0.6666666666666666,
              "#ed7953"
             ],
             [
              0.7777777777777778,
              "#fb9f3a"
             ],
             [
              0.8888888888888888,
              "#fdca26"
             ],
             [
              1,
              "#f0f921"
             ]
            ],
            "type": "histogram2d"
           }
          ],
          "histogram2dcontour": [
           {
            "colorbar": {
             "outlinewidth": 0,
             "ticks": ""
            },
            "colorscale": [
             [
              0,
              "#0d0887"
             ],
             [
              0.1111111111111111,
              "#46039f"
             ],
             [
              0.2222222222222222,
              "#7201a8"
             ],
             [
              0.3333333333333333,
              "#9c179e"
             ],
             [
              0.4444444444444444,
              "#bd3786"
             ],
             [
              0.5555555555555556,
              "#d8576b"
             ],
             [
              0.6666666666666666,
              "#ed7953"
             ],
             [
              0.7777777777777778,
              "#fb9f3a"
             ],
             [
              0.8888888888888888,
              "#fdca26"
             ],
             [
              1,
              "#f0f921"
             ]
            ],
            "type": "histogram2dcontour"
           }
          ],
          "mesh3d": [
           {
            "colorbar": {
             "outlinewidth": 0,
             "ticks": ""
            },
            "type": "mesh3d"
           }
          ],
          "parcoords": [
           {
            "line": {
             "colorbar": {
              "outlinewidth": 0,
              "ticks": ""
             }
            },
            "type": "parcoords"
           }
          ],
          "pie": [
           {
            "automargin": true,
            "type": "pie"
           }
          ],
          "scatter": [
           {
            "fillpattern": {
             "fillmode": "overlay",
             "size": 10,
             "solidity": 0.2
            },
            "type": "scatter"
           }
          ],
          "scatter3d": [
           {
            "line": {
             "colorbar": {
              "outlinewidth": 0,
              "ticks": ""
             }
            },
            "marker": {
             "colorbar": {
              "outlinewidth": 0,
              "ticks": ""
             }
            },
            "type": "scatter3d"
           }
          ],
          "scattercarpet": [
           {
            "marker": {
             "colorbar": {
              "outlinewidth": 0,
              "ticks": ""
             }
            },
            "type": "scattercarpet"
           }
          ],
          "scattergeo": [
           {
            "marker": {
             "colorbar": {
              "outlinewidth": 0,
              "ticks": ""
             }
            },
            "type": "scattergeo"
           }
          ],
          "scattergl": [
           {
            "marker": {
             "colorbar": {
              "outlinewidth": 0,
              "ticks": ""
             }
            },
            "type": "scattergl"
           }
          ],
          "scattermapbox": [
           {
            "marker": {
             "colorbar": {
              "outlinewidth": 0,
              "ticks": ""
             }
            },
            "type": "scattermapbox"
           }
          ],
          "scatterpolar": [
           {
            "marker": {
             "colorbar": {
              "outlinewidth": 0,
              "ticks": ""
             }
            },
            "type": "scatterpolar"
           }
          ],
          "scatterpolargl": [
           {
            "marker": {
             "colorbar": {
              "outlinewidth": 0,
              "ticks": ""
             }
            },
            "type": "scatterpolargl"
           }
          ],
          "scatterternary": [
           {
            "marker": {
             "colorbar": {
              "outlinewidth": 0,
              "ticks": ""
             }
            },
            "type": "scatterternary"
           }
          ],
          "surface": [
           {
            "colorbar": {
             "outlinewidth": 0,
             "ticks": ""
            },
            "colorscale": [
             [
              0,
              "#0d0887"
             ],
             [
              0.1111111111111111,
              "#46039f"
             ],
             [
              0.2222222222222222,
              "#7201a8"
             ],
             [
              0.3333333333333333,
              "#9c179e"
             ],
             [
              0.4444444444444444,
              "#bd3786"
             ],
             [
              0.5555555555555556,
              "#d8576b"
             ],
             [
              0.6666666666666666,
              "#ed7953"
             ],
             [
              0.7777777777777778,
              "#fb9f3a"
             ],
             [
              0.8888888888888888,
              "#fdca26"
             ],
             [
              1,
              "#f0f921"
             ]
            ],
            "type": "surface"
           }
          ],
          "table": [
           {
            "cells": {
             "fill": {
              "color": "#EBF0F8"
             },
             "line": {
              "color": "white"
             }
            },
            "header": {
             "fill": {
              "color": "#C8D4E3"
             },
             "line": {
              "color": "white"
             }
            },
            "type": "table"
           }
          ]
         },
         "layout": {
          "annotationdefaults": {
           "arrowcolor": "#2a3f5f",
           "arrowhead": 0,
           "arrowwidth": 1
          },
          "autotypenumbers": "strict",
          "coloraxis": {
           "colorbar": {
            "outlinewidth": 0,
            "ticks": ""
           }
          },
          "colorscale": {
           "diverging": [
            [
             0,
             "#8e0152"
            ],
            [
             0.1,
             "#c51b7d"
            ],
            [
             0.2,
             "#de77ae"
            ],
            [
             0.3,
             "#f1b6da"
            ],
            [
             0.4,
             "#fde0ef"
            ],
            [
             0.5,
             "#f7f7f7"
            ],
            [
             0.6,
             "#e6f5d0"
            ],
            [
             0.7,
             "#b8e186"
            ],
            [
             0.8,
             "#7fbc41"
            ],
            [
             0.9,
             "#4d9221"
            ],
            [
             1,
             "#276419"
            ]
           ],
           "sequential": [
            [
             0,
             "#0d0887"
            ],
            [
             0.1111111111111111,
             "#46039f"
            ],
            [
             0.2222222222222222,
             "#7201a8"
            ],
            [
             0.3333333333333333,
             "#9c179e"
            ],
            [
             0.4444444444444444,
             "#bd3786"
            ],
            [
             0.5555555555555556,
             "#d8576b"
            ],
            [
             0.6666666666666666,
             "#ed7953"
            ],
            [
             0.7777777777777778,
             "#fb9f3a"
            ],
            [
             0.8888888888888888,
             "#fdca26"
            ],
            [
             1,
             "#f0f921"
            ]
           ],
           "sequentialminus": [
            [
             0,
             "#0d0887"
            ],
            [
             0.1111111111111111,
             "#46039f"
            ],
            [
             0.2222222222222222,
             "#7201a8"
            ],
            [
             0.3333333333333333,
             "#9c179e"
            ],
            [
             0.4444444444444444,
             "#bd3786"
            ],
            [
             0.5555555555555556,
             "#d8576b"
            ],
            [
             0.6666666666666666,
             "#ed7953"
            ],
            [
             0.7777777777777778,
             "#fb9f3a"
            ],
            [
             0.8888888888888888,
             "#fdca26"
            ],
            [
             1,
             "#f0f921"
            ]
           ]
          },
          "colorway": [
           "#636efa",
           "#EF553B",
           "#00cc96",
           "#ab63fa",
           "#FFA15A",
           "#19d3f3",
           "#FF6692",
           "#B6E880",
           "#FF97FF",
           "#FECB52"
          ],
          "font": {
           "color": "#2a3f5f"
          },
          "geo": {
           "bgcolor": "white",
           "lakecolor": "white",
           "landcolor": "#E5ECF6",
           "showlakes": true,
           "showland": true,
           "subunitcolor": "white"
          },
          "hoverlabel": {
           "align": "left"
          },
          "hovermode": "closest",
          "mapbox": {
           "style": "light"
          },
          "paper_bgcolor": "white",
          "plot_bgcolor": "#E5ECF6",
          "polar": {
           "angularaxis": {
            "gridcolor": "white",
            "linecolor": "white",
            "ticks": ""
           },
           "bgcolor": "#E5ECF6",
           "radialaxis": {
            "gridcolor": "white",
            "linecolor": "white",
            "ticks": ""
           }
          },
          "scene": {
           "xaxis": {
            "backgroundcolor": "#E5ECF6",
            "gridcolor": "white",
            "gridwidth": 2,
            "linecolor": "white",
            "showbackground": true,
            "ticks": "",
            "zerolinecolor": "white"
           },
           "yaxis": {
            "backgroundcolor": "#E5ECF6",
            "gridcolor": "white",
            "gridwidth": 2,
            "linecolor": "white",
            "showbackground": true,
            "ticks": "",
            "zerolinecolor": "white"
           },
           "zaxis": {
            "backgroundcolor": "#E5ECF6",
            "gridcolor": "white",
            "gridwidth": 2,
            "linecolor": "white",
            "showbackground": true,
            "ticks": "",
            "zerolinecolor": "white"
           }
          },
          "shapedefaults": {
           "line": {
            "color": "#2a3f5f"
           }
          },
          "ternary": {
           "aaxis": {
            "gridcolor": "white",
            "linecolor": "white",
            "ticks": ""
           },
           "baxis": {
            "gridcolor": "white",
            "linecolor": "white",
            "ticks": ""
           },
           "bgcolor": "#E5ECF6",
           "caxis": {
            "gridcolor": "white",
            "linecolor": "white",
            "ticks": ""
           }
          },
          "title": {
           "x": 0.05
          },
          "xaxis": {
           "automargin": true,
           "gridcolor": "white",
           "linecolor": "white",
           "ticks": "",
           "title": {
            "standoff": 15
           },
           "zerolinecolor": "white",
           "zerolinewidth": 2
          },
          "yaxis": {
           "automargin": true,
           "gridcolor": "white",
           "linecolor": "white",
           "ticks": "",
           "title": {
            "standoff": 15
           },
           "zerolinecolor": "white",
           "zerolinewidth": 2
          }
         }
        },
        "xaxis": {
         "anchor": "y",
         "domain": [
          0,
          1
         ],
         "title": {
          "text": "theta"
         }
        },
        "yaxis": {
         "anchor": "x",
         "domain": [
          0,
          1
         ],
         "title": {
          "text": "phi"
         }
        }
       }
      },
      "text/html": [
       "<div>                            <div id=\"a4f53ef0-1164-4c47-99eb-2d95a3bdc3e6\" class=\"plotly-graph-div\" style=\"height:525px; width:100%;\"></div>            <script type=\"text/javascript\">                require([\"plotly\"], function(Plotly) {                    window.PLOTLYENV=window.PLOTLYENV || {};                                    if (document.getElementById(\"a4f53ef0-1164-4c47-99eb-2d95a3bdc3e6\")) {                    Plotly.newPlot(                        \"a4f53ef0-1164-4c47-99eb-2d95a3bdc3e6\",                        [{\"hovertemplate\":\"theta=%{x}<br>phi=%{y}<extra></extra>\",\"legendgroup\":\"\",\"marker\":{\"color\":\"#636efa\",\"symbol\":\"circle\"},\"mode\":\"markers\",\"name\":\"\",\"orientation\":\"v\",\"showlegend\":false,\"x\":[4.442913612495542,4.8712285116049685,0.871879417303017,0.7516341072750072,2.7251206093912907,2.461657116126602,2.1209699362966012,5.83028869443708,2.0796418625409148,2.487945439834501,4.631002835276188,0.1855214448712277,1.2470067186426537,5.503568501355258,1.4200839772649367,2.5525381686744444,0.8656692728266765],\"xaxis\":\"x\",\"y\":[0.6869486625103709,0.9513898410307948,1.0699589479294045,1.0884387305386134,0.2485424043611616,0.5295242633444174,0.4953144734129461,0.28726465234647,0.2216780264173806,0.7228085537439788,0.9167515177883052,0.9821114487275396,0.5234947778032366,0.4177210928996152,0.8419580938936054,0.9127435902420764,0.1591183678174139],\"yaxis\":\"y\",\"type\":\"scatter\"}],                        {\"template\":{\"data\":{\"histogram2dcontour\":[{\"type\":\"histogram2dcontour\",\"colorbar\":{\"outlinewidth\":0,\"ticks\":\"\"},\"colorscale\":[[0.0,\"#0d0887\"],[0.1111111111111111,\"#46039f\"],[0.2222222222222222,\"#7201a8\"],[0.3333333333333333,\"#9c179e\"],[0.4444444444444444,\"#bd3786\"],[0.5555555555555556,\"#d8576b\"],[0.6666666666666666,\"#ed7953\"],[0.7777777777777778,\"#fb9f3a\"],[0.8888888888888888,\"#fdca26\"],[1.0,\"#f0f921\"]]}],\"choropleth\":[{\"type\":\"choropleth\",\"colorbar\":{\"outlinewidth\":0,\"ticks\":\"\"}}],\"histogram2d\":[{\"type\":\"histogram2d\",\"colorbar\":{\"outlinewidth\":0,\"ticks\":\"\"},\"colorscale\":[[0.0,\"#0d0887\"],[0.1111111111111111,\"#46039f\"],[0.2222222222222222,\"#7201a8\"],[0.3333333333333333,\"#9c179e\"],[0.4444444444444444,\"#bd3786\"],[0.5555555555555556,\"#d8576b\"],[0.6666666666666666,\"#ed7953\"],[0.7777777777777778,\"#fb9f3a\"],[0.8888888888888888,\"#fdca26\"],[1.0,\"#f0f921\"]]}],\"heatmap\":[{\"type\":\"heatmap\",\"colorbar\":{\"outlinewidth\":0,\"ticks\":\"\"},\"colorscale\":[[0.0,\"#0d0887\"],[0.1111111111111111,\"#46039f\"],[0.2222222222222222,\"#7201a8\"],[0.3333333333333333,\"#9c179e\"],[0.4444444444444444,\"#bd3786\"],[0.5555555555555556,\"#d8576b\"],[0.6666666666666666,\"#ed7953\"],[0.7777777777777778,\"#fb9f3a\"],[0.8888888888888888,\"#fdca26\"],[1.0,\"#f0f921\"]]}],\"heatmapgl\":[{\"type\":\"heatmapgl\",\"colorbar\":{\"outlinewidth\":0,\"ticks\":\"\"},\"colorscale\":[[0.0,\"#0d0887\"],[0.1111111111111111,\"#46039f\"],[0.2222222222222222,\"#7201a8\"],[0.3333333333333333,\"#9c179e\"],[0.4444444444444444,\"#bd3786\"],[0.5555555555555556,\"#d8576b\"],[0.6666666666666666,\"#ed7953\"],[0.7777777777777778,\"#fb9f3a\"],[0.8888888888888888,\"#fdca26\"],[1.0,\"#f0f921\"]]}],\"contourcarpet\":[{\"type\":\"contourcarpet\",\"colorbar\":{\"outlinewidth\":0,\"ticks\":\"\"}}],\"contour\":[{\"type\":\"contour\",\"colorbar\":{\"outlinewidth\":0,\"ticks\":\"\"},\"colorscale\":[[0.0,\"#0d0887\"],[0.1111111111111111,\"#46039f\"],[0.2222222222222222,\"#7201a8\"],[0.3333333333333333,\"#9c179e\"],[0.4444444444444444,\"#bd3786\"],[0.5555555555555556,\"#d8576b\"],[0.6666666666666666,\"#ed7953\"],[0.7777777777777778,\"#fb9f3a\"],[0.8888888888888888,\"#fdca26\"],[1.0,\"#f0f921\"]]}],\"surface\":[{\"type\":\"surface\",\"colorbar\":{\"outlinewidth\":0,\"ticks\":\"\"},\"colorscale\":[[0.0,\"#0d0887\"],[0.1111111111111111,\"#46039f\"],[0.2222222222222222,\"#7201a8\"],[0.3333333333333333,\"#9c179e\"],[0.4444444444444444,\"#bd3786\"],[0.5555555555555556,\"#d8576b\"],[0.6666666666666666,\"#ed7953\"],[0.7777777777777778,\"#fb9f3a\"],[0.8888888888888888,\"#fdca26\"],[1.0,\"#f0f921\"]]}],\"mesh3d\":[{\"type\":\"mesh3d\",\"colorbar\":{\"outlinewidth\":0,\"ticks\":\"\"}}],\"scatter\":[{\"fillpattern\":{\"fillmode\":\"overlay\",\"size\":10,\"solidity\":0.2},\"type\":\"scatter\"}],\"parcoords\":[{\"type\":\"parcoords\",\"line\":{\"colorbar\":{\"outlinewidth\":0,\"ticks\":\"\"}}}],\"scatterpolargl\":[{\"type\":\"scatterpolargl\",\"marker\":{\"colorbar\":{\"outlinewidth\":0,\"ticks\":\"\"}}}],\"bar\":[{\"error_x\":{\"color\":\"#2a3f5f\"},\"error_y\":{\"color\":\"#2a3f5f\"},\"marker\":{\"line\":{\"color\":\"#E5ECF6\",\"width\":0.5},\"pattern\":{\"fillmode\":\"overlay\",\"size\":10,\"solidity\":0.2}},\"type\":\"bar\"}],\"scattergeo\":[{\"type\":\"scattergeo\",\"marker\":{\"colorbar\":{\"outlinewidth\":0,\"ticks\":\"\"}}}],\"scatterpolar\":[{\"type\":\"scatterpolar\",\"marker\":{\"colorbar\":{\"outlinewidth\":0,\"ticks\":\"\"}}}],\"histogram\":[{\"marker\":{\"pattern\":{\"fillmode\":\"overlay\",\"size\":10,\"solidity\":0.2}},\"type\":\"histogram\"}],\"scattergl\":[{\"type\":\"scattergl\",\"marker\":{\"colorbar\":{\"outlinewidth\":0,\"ticks\":\"\"}}}],\"scatter3d\":[{\"type\":\"scatter3d\",\"line\":{\"colorbar\":{\"outlinewidth\":0,\"ticks\":\"\"}},\"marker\":{\"colorbar\":{\"outlinewidth\":0,\"ticks\":\"\"}}}],\"scattermapbox\":[{\"type\":\"scattermapbox\",\"marker\":{\"colorbar\":{\"outlinewidth\":0,\"ticks\":\"\"}}}],\"scatterternary\":[{\"type\":\"scatterternary\",\"marker\":{\"colorbar\":{\"outlinewidth\":0,\"ticks\":\"\"}}}],\"scattercarpet\":[{\"type\":\"scattercarpet\",\"marker\":{\"colorbar\":{\"outlinewidth\":0,\"ticks\":\"\"}}}],\"carpet\":[{\"aaxis\":{\"endlinecolor\":\"#2a3f5f\",\"gridcolor\":\"white\",\"linecolor\":\"white\",\"minorgridcolor\":\"white\",\"startlinecolor\":\"#2a3f5f\"},\"baxis\":{\"endlinecolor\":\"#2a3f5f\",\"gridcolor\":\"white\",\"linecolor\":\"white\",\"minorgridcolor\":\"white\",\"startlinecolor\":\"#2a3f5f\"},\"type\":\"carpet\"}],\"table\":[{\"cells\":{\"fill\":{\"color\":\"#EBF0F8\"},\"line\":{\"color\":\"white\"}},\"header\":{\"fill\":{\"color\":\"#C8D4E3\"},\"line\":{\"color\":\"white\"}},\"type\":\"table\"}],\"barpolar\":[{\"marker\":{\"line\":{\"color\":\"#E5ECF6\",\"width\":0.5},\"pattern\":{\"fillmode\":\"overlay\",\"size\":10,\"solidity\":0.2}},\"type\":\"barpolar\"}],\"pie\":[{\"automargin\":true,\"type\":\"pie\"}]},\"layout\":{\"autotypenumbers\":\"strict\",\"colorway\":[\"#636efa\",\"#EF553B\",\"#00cc96\",\"#ab63fa\",\"#FFA15A\",\"#19d3f3\",\"#FF6692\",\"#B6E880\",\"#FF97FF\",\"#FECB52\"],\"font\":{\"color\":\"#2a3f5f\"},\"hovermode\":\"closest\",\"hoverlabel\":{\"align\":\"left\"},\"paper_bgcolor\":\"white\",\"plot_bgcolor\":\"#E5ECF6\",\"polar\":{\"bgcolor\":\"#E5ECF6\",\"angularaxis\":{\"gridcolor\":\"white\",\"linecolor\":\"white\",\"ticks\":\"\"},\"radialaxis\":{\"gridcolor\":\"white\",\"linecolor\":\"white\",\"ticks\":\"\"}},\"ternary\":{\"bgcolor\":\"#E5ECF6\",\"aaxis\":{\"gridcolor\":\"white\",\"linecolor\":\"white\",\"ticks\":\"\"},\"baxis\":{\"gridcolor\":\"white\",\"linecolor\":\"white\",\"ticks\":\"\"},\"caxis\":{\"gridcolor\":\"white\",\"linecolor\":\"white\",\"ticks\":\"\"}},\"coloraxis\":{\"colorbar\":{\"outlinewidth\":0,\"ticks\":\"\"}},\"colorscale\":{\"sequential\":[[0.0,\"#0d0887\"],[0.1111111111111111,\"#46039f\"],[0.2222222222222222,\"#7201a8\"],[0.3333333333333333,\"#9c179e\"],[0.4444444444444444,\"#bd3786\"],[0.5555555555555556,\"#d8576b\"],[0.6666666666666666,\"#ed7953\"],[0.7777777777777778,\"#fb9f3a\"],[0.8888888888888888,\"#fdca26\"],[1.0,\"#f0f921\"]],\"sequentialminus\":[[0.0,\"#0d0887\"],[0.1111111111111111,\"#46039f\"],[0.2222222222222222,\"#7201a8\"],[0.3333333333333333,\"#9c179e\"],[0.4444444444444444,\"#bd3786\"],[0.5555555555555556,\"#d8576b\"],[0.6666666666666666,\"#ed7953\"],[0.7777777777777778,\"#fb9f3a\"],[0.8888888888888888,\"#fdca26\"],[1.0,\"#f0f921\"]],\"diverging\":[[0,\"#8e0152\"],[0.1,\"#c51b7d\"],[0.2,\"#de77ae\"],[0.3,\"#f1b6da\"],[0.4,\"#fde0ef\"],[0.5,\"#f7f7f7\"],[0.6,\"#e6f5d0\"],[0.7,\"#b8e186\"],[0.8,\"#7fbc41\"],[0.9,\"#4d9221\"],[1,\"#276419\"]]},\"xaxis\":{\"gridcolor\":\"white\",\"linecolor\":\"white\",\"ticks\":\"\",\"title\":{\"standoff\":15},\"zerolinecolor\":\"white\",\"automargin\":true,\"zerolinewidth\":2},\"yaxis\":{\"gridcolor\":\"white\",\"linecolor\":\"white\",\"ticks\":\"\",\"title\":{\"standoff\":15},\"zerolinecolor\":\"white\",\"automargin\":true,\"zerolinewidth\":2},\"scene\":{\"xaxis\":{\"backgroundcolor\":\"#E5ECF6\",\"gridcolor\":\"white\",\"linecolor\":\"white\",\"showbackground\":true,\"ticks\":\"\",\"zerolinecolor\":\"white\",\"gridwidth\":2},\"yaxis\":{\"backgroundcolor\":\"#E5ECF6\",\"gridcolor\":\"white\",\"linecolor\":\"white\",\"showbackground\":true,\"ticks\":\"\",\"zerolinecolor\":\"white\",\"gridwidth\":2},\"zaxis\":{\"backgroundcolor\":\"#E5ECF6\",\"gridcolor\":\"white\",\"linecolor\":\"white\",\"showbackground\":true,\"ticks\":\"\",\"zerolinecolor\":\"white\",\"gridwidth\":2}},\"shapedefaults\":{\"line\":{\"color\":\"#2a3f5f\"}},\"annotationdefaults\":{\"arrowcolor\":\"#2a3f5f\",\"arrowhead\":0,\"arrowwidth\":1},\"geo\":{\"bgcolor\":\"white\",\"landcolor\":\"#E5ECF6\",\"subunitcolor\":\"white\",\"showland\":true,\"showlakes\":true,\"lakecolor\":\"white\"},\"title\":{\"x\":0.05},\"mapbox\":{\"style\":\"light\"}}},\"xaxis\":{\"anchor\":\"y\",\"domain\":[0.0,1.0],\"title\":{\"text\":\"theta\"}},\"yaxis\":{\"anchor\":\"x\",\"domain\":[0.0,1.0],\"title\":{\"text\":\"phi\"}},\"legend\":{\"tracegroupgap\":0},\"margin\":{\"t\":60}},                        {\"responsive\": true}                    ).then(function(){\n",
       "                            \n",
       "var gd = document.getElementById('a4f53ef0-1164-4c47-99eb-2d95a3bdc3e6');\n",
       "var x = new MutationObserver(function (mutations, observer) {{\n",
       "        var display = window.getComputedStyle(gd).display;\n",
       "        if (!display || display === 'none') {{\n",
       "            console.log([gd, 'removed!']);\n",
       "            Plotly.purge(gd);\n",
       "            observer.disconnect();\n",
       "        }}\n",
       "}});\n",
       "\n",
       "// Listen for the removal of the full notebook cells\n",
       "var notebookContainer = gd.closest('#notebook-container');\n",
       "if (notebookContainer) {{\n",
       "    x.observe(notebookContainer, {childList: true});\n",
       "}}\n",
       "\n",
       "// Listen for the clearing of the current output cell\n",
       "var outputEl = gd.closest('.output');\n",
       "if (outputEl) {{\n",
       "    x.observe(outputEl, {childList: true});\n",
       "}}\n",
       "\n",
       "                        })                };                });            </script>        </div>"
      ]
     },
     "metadata": {},
     "output_type": "display_data"
    }
   ],
   "source": [
    "from astropy.coordinates import cartesian_to_spherical\n",
    "\n",
    "time_id = 700\n",
    "\n",
    "tracks_df_ft = tracks_df.loc[tracks_df[\"t\"]==time_id]\n",
    "\n",
    "\n",
    "fig = px.scatter(tracks_df_ft, x=\"theta\", y=\"phi\")\n",
    "fig.show()"
   ]
  },
  {
   "cell_type": "code",
   "execution_count": null,
   "metadata": {
    "ExecuteTime": {
     "start_time": "2024-02-28T04:14:13.950772700Z"
    },
    "pycharm": {
     "is_executing": true
    }
   },
   "outputs": [
    {
     "name": "stderr",
     "output_type": "stream",
     "text": [
      "/var/folders/m7/tpjttxb92tl8b4c9svgvgby00000gn/T/ipykernel_44460/2157250016.py:6: SettingWithCopyWarning:\n",
      "\n",
      "\n",
      "A value is trying to be set on a copy of a slice from a DataFrame.\n",
      "Try using .loc[row_indexer,col_indexer] = value instead\n",
      "\n",
      "See the caveats in the documentation: https://pandas.pydata.org/pandas-docs/stable/user_guide/indexing.html#returning-a-view-versus-a-copy\n",
      "\n",
      " 67%|██████▋   | 905/1350 [00:53<00:36, 12.22it/s]"
     ]
    }
   ],
   "source": [
    "mem = 25\n",
    "max_time = sphere_df.shape[0]# np.max(tracks_df[\"t\"])\n",
    "    \n",
    " \n",
    "plotly_repmap = np.asarray(px.colors.qualitative.Plotly*100)\n",
    "tracks_df_clean[\"plot_color\"] = plotly_repmap[tracks_df_clean[\"track_id\"]]\n",
    "\n",
    "big_jump_thresh = 50\n",
    "\n",
    "track_path_2d = os.path.join(figure_root, \"track_plots_2d\")\n",
    "if not os.path.isdir(track_path_2d):\n",
    "    os.makedirs(track_path_2d)\n",
    "\n",
    "\n",
    "for time_id in tqdm(range(max_time)): #range(max_time)):\n",
    "    tracks_df_ft = tracks_df_clean.loc[tracks_df_clean[\"t\"]==time_id]\n",
    "    tracks_df_ft_mem = tracks_df_clean.loc[(tracks_df_clean[\"t\"]<=time_id) & (tracks_df[\"t\"]>time_id-mem) ]\n",
    "\n",
    "    \n",
    "    point_array = tracks_df_ft.loc[:, [\"theta\", \"phi\"]].to_numpy() / np.pi * 180\n",
    "    point_ids = tracks_df_ft.loc[:, [\"track_id\"]].to_numpy().flatten()\n",
    "    point_colors = tracks_df_ft.loc[:, [\"plot_color\"]].to_numpy().flatten()\n",
    "    track_array = tracks_df_ft_mem.loc[:, [\"theta\", \"phi\"]].to_numpy() / np.pi * 180\n",
    "    track_ids = tracks_df_ft_mem.loc[:, [\"track_id\"]].to_numpy().flatten()\n",
    "    track_colors = tracks_df_ft_mem.loc[:, [\"plot_color\"]].to_numpy().flatten()\n",
    "    \n",
    "    extant_ids = np.unique(track_ids)\n",
    "\n",
    "    fig = go.Figure()\n",
    "#     fig.add_trace(go.Surface(x=x_pns_surface, y=y_pns_surface, z=z_pns_surface, opacity=0.7, \n",
    "#                              colorscale=\"Blues\"))#, lighting=dict(ambient=0.5)))\n",
    "    \n",
    "    fig.update_traces(showscale=False)\n",
    "\n",
    "    for t in range(len(extant_ids)-1):\n",
    "        tid = extant_ids[t]\n",
    "        point_ft = point_ids==tid\n",
    "        track_ft = track_ids==tid\n",
    "\n",
    "        x_vec = track_array[track_ft, 0]\n",
    "        y_vec = track_array[track_ft, 1]\n",
    "        if len(x_vec) > 1:\n",
    "            xj_ind_vec = (np.where(np.abs(np.diff(x_vec)) > big_jump_thresh)[0] + 1).tolist()\n",
    "            yj_ind_vec = (np.where(np.abs(np.diff(y_vec)) > big_jump_thresh)[0] + 1).tolist()\n",
    "        else:\n",
    "            xj_ind_vec = []\n",
    "            yj_ind_vec = []\n",
    "            \n",
    "        jump_indices = np.unique([0] + xj_ind_vec + yj_ind_vec + [len(x_vec)])\n",
    "        \n",
    "        \n",
    "        for j in range(len(jump_indices)-2, len(jump_indices)-1):\n",
    "            start_i = jump_indices[j]\n",
    "            stop_i = jump_indices[j+1]\n",
    "            fig.add_trace(go.Scatter(x=x_vec[start_i:stop_i], y=y_vec[start_i:stop_i], \n",
    "                                       mode=\"lines\", showlegend=False, line=dict(color=track_colors[track_ft][0])))\n",
    "        \n",
    "        if np.sum(point_ft) > 0:\n",
    "            fig.add_trace(go.Scatter(x=point_array[point_ft, 0], y=point_array[point_ft, 1],\n",
    "                                       mode=\"markers\", showlegend=False, marker=dict(color=point_colors[point_ft], \n",
    "                                                                    size=8, line=dict(color=\"SlateGray\", width=1))))\n",
    "\n",
    "        \n",
    "\n",
    "    fig.update_layout(\n",
    "                        xaxis_title='longitude (degrees)',\n",
    "                        yaxis_title='latitude (degrees)', \n",
    "                        yaxis_range=[0, 90],\n",
    "                        xaxis_range=[0, 360])\n",
    "    \n",
    "    \n",
    "    fig.write_image(os.path.join(track_path_2d, f'frame3d_t{time_id:04}.png'), scale=2)\n",
    "\n",
    "fig.show()"
   ]
  },
  {
   "cell_type": "code",
   "execution_count": 77,
   "metadata": {},
   "outputs": [
    {
     "name": "stdout",
     "output_type": "stream",
     "text": [
      "[3.08148476e+00 1.31089024e+00 9.30474936e-01 1.03541161e+00\n",
      " 3.59362393e+02 3.58844478e+02 3.57748584e+02 3.57255171e+02\n",
      " 3.56959907e+02 3.57125665e+02 3.57252334e+02 3.57293322e+02\n",
      " 3.57404256e+02 3.58426135e+02 3.59001282e+02 3.59115139e+02\n",
      " 3.59781286e+02 8.35341780e-01 3.31473705e-01 2.13500004e-01\n",
      " 3.58626282e+02 3.57494843e+02 3.56913328e+02 3.56897730e+02\n",
      " 3.56942290e+02]\n"
     ]
    }
   ],
   "source": [
    "tid = extant_ids[13]\n",
    "point_ft = point_ids==tid\n",
    "track_ft = track_ids==tid\n",
    "\n",
    "x_vec = track_array[track_ft, 0]\n",
    "y_vec = track_array[track_ft, 1]\n",
    "if len(x_vec) > 1:\n",
    "    xj_ind_vec = np.where(np.abs(np.diff(x_vec)) > big_jump_thresh)[0].tolist()\n",
    "    yj_ind_vec = np.where(np.abs(np.diff(y_vec)) > big_jump_thresh)[0].tolist()\n",
    "else:\n",
    "    xj_ind_vec = []\n",
    "    yj_ind_vec = []\n",
    "    \n",
    "print(x_vec)"
   ]
  },
  {
   "cell_type": "code",
   "execution_count": 79,
   "metadata": {},
   "outputs": [
    {
     "data": {
      "text/plain": [
       "array([ 0,  3, 16, 19, 25])"
      ]
     },
     "execution_count": 79,
     "metadata": {},
     "output_type": "execute_result"
    }
   ],
   "source": [
    "jump_indices = np.unique([0] + xj_ind_vec + yj_ind_vec + [len(x_vec)])\n",
    "jump_indices"
   ]
  },
  {
   "cell_type": "code",
   "execution_count": null,
   "metadata": {
    "ExecuteTime": {
     "start_time": "2024-02-28T04:14:13.952772500Z"
    },
    "pycharm": {
     "is_executing": true
    }
   },
   "outputs": [],
   "source": [
    "from tqdm import tqdm\n",
    "dt = 90\n",
    "\n",
    "window_size_vec = [5, 25]\n",
    "\n",
    "for window_size in window_size_vec:\n",
    "    w_str = str(window_size)\n",
    "    c_time = dt*(window_size-1)\n",
    "    buffer_size = window_size // 2\n",
    "    track_index = np.unique(tracks_df[\"track_id\"])\n",
    "\n",
    "    for t, track_id in enumerate(tqdm(track_index)):\n",
    "        track_bool = tracks_df[\"track_id\"] == track_id\n",
    "\n",
    "        if np.sum(track_bool) >= window_size:\n",
    "            xyz = tracks_df.loc[track_bool, [\"x\", \"y\", \"z\"]].to_numpy()\n",
    "\n",
    "            # get contour length\n",
    "            d1 = np.sqrt(np.sum(np.diff(xyz, 1, axis=0)**2, axis=1))\n",
    "            d1_cs = np.cumsum(d1)\n",
    "            cs1 = d1_cs[window_size-2:]\n",
    "            cs2 = np.concatenate(([0], d1_cs[:-window_size+1]))\n",
    "            contour_r = cs1 - cs2\n",
    "\n",
    "            # get net displacement\n",
    "            net_r = np.sqrt(np.sum((xyz[window_size-1:, :] - xyz[:-window_size+1, :])**2, axis=1))\n",
    "\n",
    "            # assign to tracks df\n",
    "            to_indices = np.where(track_bool)[0]\n",
    "            to_indices = to_indices[buffer_size:-buffer_size]\n",
    "            tracks_df.loc[to_indices, \"speed_\" + w_str] = contour_r / c_time\n",
    "            tracks_df.loc[to_indices, \"speed_net_\" + w_str] = net_r / c_time\n",
    "            tracks_df.loc[to_indices, \"coherence_\" + w_str] = net_r / contour_r\n",
    "\n",
    "\n",
    "        "
   ]
  },
  {
   "cell_type": "code",
   "execution_count": null,
   "metadata": {
    "ExecuteTime": {
     "start_time": "2024-02-28T04:14:13.954773400Z"
    },
    "pycharm": {
     "is_executing": true
    }
   },
   "outputs": [],
   "source": [
    "import plotly.express as px\n",
    "\n",
    "track_id = 101\n",
    "fig = px.scatter(tracks_df.loc[tracks_df[\"track_id\"]==track_id], x=\"t\", y=\"speed_5\", color=\"t\", template=\"plotly\")\n",
    "fig.show()"
   ]
  },
  {
   "cell_type": "code",
   "execution_count": null,
   "metadata": {
    "ExecuteTime": {
     "start_time": "2024-02-28T04:14:13.956773800Z"
    },
    "pycharm": {
     "is_executing": true
    }
   },
   "outputs": [],
   "source": [
    "fig = px.density_contour(tracks_df, x=\"speed_25\", y=\"speed_net_25\")\n",
    "fig.update_traces(contours_coloring=\"fill\", contours_showlabels = True, colorscale=\"Blues\")\n",
    "fig.show()"
   ]
  },
  {
   "cell_type": "code",
   "execution_count": null,
   "metadata": {
    "ExecuteTime": {
     "start_time": "2024-02-28T04:14:13.958772800Z"
    },
    "pycharm": {
     "is_executing": true
    }
   },
   "outputs": [],
   "source": [
    "fig = px.density_contour(tracks_df, x=\"t\", y=\"coherence_25\")\n",
    "fig.update_traces(contours_coloring=\"fill\", contours_showlabels = True, colorscale=\"Blues\")\n",
    "fig.show()"
   ]
  },
  {
   "cell_type": "code",
   "execution_count": null,
   "metadata": {
    "ExecuteTime": {
     "start_time": "2024-02-28T04:14:13.960773400Z"
    },
    "pycharm": {
     "is_executing": true
    }
   },
   "outputs": [],
   "source": [
    "shape_df = pd.read_csv(os.path.join(tracking_directory, \"cell_shape_df.csv\"))\n",
    "shape_df.head()"
   ]
  },
  {
   "cell_type": "code",
   "execution_count": null,
   "metadata": {
    "ExecuteTime": {
     "start_time": "2024-02-28T04:14:13.961773200Z"
    },
    "pycharm": {
     "is_executing": true
    }
   },
   "outputs": [],
   "source": [
    "fig = px.density_contour(shape_df, x=\"t\", y=\"circularity\")\n",
    "fig.update_traces(contours_coloring=\"fill\", contours_showlabels = True, colorscale=\"Blues\")\n",
    "fig.show()"
   ]
  },
  {
   "cell_type": "code",
   "execution_count": null,
   "metadata": {
    "ExecuteTime": {
     "start_time": "2024-02-28T04:14:13.962773300Z"
    },
    "pycharm": {
     "is_executing": true
    }
   },
   "outputs": [],
   "source": [
    "master_df = tracks_df.merge(shape_df, on=[\"track_id\", \"t\"], how=\"left\")"
   ]
  },
  {
   "cell_type": "code",
   "execution_count": null,
   "metadata": {
    "ExecuteTime": {
     "start_time": "2024-02-28T04:14:13.971772900Z"
    },
    "pycharm": {
     "is_executing": true
    }
   },
   "outputs": [],
   "source": [
    "master_df[\"time_id\"] = np.floor(master_df[\"t\"].to_numpy()/350).astype(int)\n",
    "\n",
    "fig = px.density_contour(master_df, x=\"complexity\", y=\"speed_25\", color=\"time_id\", template=\"plotly\")\n",
    "# fig.update_traces(contours_coloring=\"fill\", contours_showlabels = True, colorscale=\"Blues\")\n",
    "fig.show()"
   ]
  },
  {
   "cell_type": "code",
   "execution_count": null,
   "metadata": {
    "ExecuteTime": {
     "start_time": "2024-02-28T04:14:13.971772900Z"
    },
    "pycharm": {
     "is_executing": true
    }
   },
   "outputs": [],
   "source": [
    "fig = px.density_contour(master_df, x=\"circularity\", y=\"speed_25\")\n",
    "fig.update_traces(contours_coloring=\"fill\", contours_showlabels = True, colorscale=\"Blues\")\n",
    "fig.show()"
   ]
  },
  {
   "cell_type": "code",
   "execution_count": null,
   "metadata": {
    "ExecuteTime": {
     "start_time": "2024-02-28T04:14:13.971772900Z"
    },
    "pycharm": {
     "is_executing": true
    }
   },
   "outputs": [],
   "source": []
  }
 ],
 "metadata": {
  "kernelspec": {
   "display_name": "Python 3 (ipykernel)",
   "language": "python",
   "name": "python3"
  },
  "language_info": {
   "codemirror_mode": {
    "name": "ipython",
    "version": 3
   },
   "file_extension": ".py",
   "mimetype": "text/x-python",
   "name": "python",
   "nbconvert_exporter": "python",
   "pygments_lexer": "ipython3",
   "version": "3.10.14"
  }
 },
 "nbformat": 4,
 "nbformat_minor": 4
}
