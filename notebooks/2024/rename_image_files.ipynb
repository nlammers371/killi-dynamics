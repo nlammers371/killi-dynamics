{
 "cells": [
  {
   "cell_type": "code",
   "execution_count": 8,
   "metadata": {
    "ExecuteTime": {
     "end_time": "2024-02-23T21:35:17.789977800Z",
     "start_time": "2024-02-23T21:35:17.161977400Z"
    }
   },
   "outputs": [],
   "source": [
    "import os\n",
    "import pandas as pd"
   ]
  },
  {
   "cell_type": "code",
   "execution_count": 9,
   "metadata": {},
   "outputs": [
    {
     "data": {
      "text/html": [
       "<div>\n",
       "<style scoped>\n",
       "    .dataframe tbody tr th:only-of-type {\n",
       "        vertical-align: middle;\n",
       "    }\n",
       "\n",
       "    .dataframe tbody tr th {\n",
       "        vertical-align: top;\n",
       "    }\n",
       "\n",
       "    .dataframe thead th {\n",
       "        text-align: right;\n",
       "    }\n",
       "</style>\n",
       "<table border=\"1\" class=\"dataframe\">\n",
       "  <thead>\n",
       "    <tr style=\"text-align: right;\">\n",
       "      <th></th>\n",
       "      <th>time_curr</th>\n",
       "      <th>time_corrected</th>\n",
       "    </tr>\n",
       "  </thead>\n",
       "  <tbody>\n",
       "    <tr>\n",
       "      <th>0</th>\n",
       "      <td>0</td>\n",
       "      <td>1</td>\n",
       "    </tr>\n",
       "    <tr>\n",
       "      <th>1</th>\n",
       "      <td>1</td>\n",
       "      <td>10</td>\n",
       "    </tr>\n",
       "    <tr>\n",
       "      <th>2</th>\n",
       "      <td>2</td>\n",
       "      <td>100</td>\n",
       "    </tr>\n",
       "    <tr>\n",
       "      <th>3</th>\n",
       "      <td>3</td>\n",
       "      <td>101</td>\n",
       "    </tr>\n",
       "    <tr>\n",
       "      <th>4</th>\n",
       "      <td>4</td>\n",
       "      <td>102</td>\n",
       "    </tr>\n",
       "  </tbody>\n",
       "</table>\n",
       "</div>"
      ],
      "text/plain": [
       "   time_curr  time_corrected\n",
       "0          0               1\n",
       "1          1              10\n",
       "2          2             100\n",
       "3          3             101\n",
       "4          4             102"
      ]
     },
     "execution_count": 9,
     "metadata": {},
     "output_type": "execute_result"
    }
   ],
   "source": [
    "metadata_root = \"E:\\\\Nick\\\\Cole Trapnell's Lab Dropbox\\\\Nick Lammers\\\\Nick\\\\killi_tracker\\\\metadata\\\\\"\n",
    "# project_name = \"231016_EXP40_LCP1_UVB_300mJ_WT_Timelapse_Raw\"\n",
    "\n",
    "# load time df\n",
    "time_df = pd.read_csv(os.path.join(metadata_root, project_name, \"time_key.csv\"))\n",
    "time_df.head()"
   ]
  },
  {
   "cell_type": "markdown",
   "metadata": {},
   "source": [
    "## \"Raw\" image files first"
   ]
  },
  {
   "cell_type": "code",
   "execution_count": 25,
   "metadata": {},
   "outputs": [
    {
     "name": "stderr",
     "output_type": "stream",
     "text": [
      "100%|██████████| 643/643 [00:00<00:00, 966.92it/s] \n"
     ]
    }
   ],
   "source": [
    "import glob2 as glob\n",
    "from tqdm import tqdm\n",
    "from src.utilities.functions import path_leaf\n",
    "# first correct the exported tif files\n",
    "root = \"E:\\\\Nick\\\\Cole Trapnell's Lab Dropbox\\\\Nick Lammers\\\\Nick\\\\killi_tracker\\\\\" \n",
    "tiff_dir = os.path.join(root, \"built_data\", project_name, \"\")\n",
    "tiff_list = sorted(glob.glob(tiff_dir + \"*.tiff\"))\n",
    "\n",
    "for t, tiff_path in enumerate(tqdm(tiff_list)):\n",
    "    fname_curr = path_leaf(tiff_path)\n",
    "    fname_base = fname_curr.replace(\".tiff\", \"\")\n",
    "    \n",
    "    time_curr = int(fname_base[-4:])\n",
    "    time_new = time_df.loc[time_df[\"time_curr\"]==time_curr, \"time_corrected\"].to_numpy()[0] - 1\n",
    "    \n",
    "    fname_new = fname_base[:-5] + f't{time_new:04}_fx.tiff'\n",
    "    path_new = tiff_dir + fname_new\n",
    "    os.rename(tiff_path, path_new)"
   ]
  },
  {
   "cell_type": "code",
   "execution_count": 27,
   "metadata": {},
   "outputs": [
    {
     "name": "stderr",
     "output_type": "stream",
     "text": [
      "100%|██████████| 643/643 [00:00<00:00, 1520.10it/s]\n"
     ]
    }
   ],
   "source": [
    "# now remove the \"fx\" suffix\n",
    "tiff_list = sorted(glob.glob(tiff_dir + \"*_fx.tiff\"))\n",
    "\n",
    "for t, tiff_path in enumerate(tqdm(tiff_list)):\n",
    "    \n",
    "    path_new = tiff_path.replace(\"_fx.tiff\", \".tiff\")\n",
    "    os.rename(tiff_path, path_new)"
   ]
  },
  {
   "cell_type": "markdown",
   "metadata": {},
   "source": [
    "## Labels"
   ]
  },
  {
   "cell_type": "code",
   "execution_count": 43,
   "metadata": {},
   "outputs": [
    {
     "name": "stderr",
     "output_type": "stream",
     "text": [
      "100%|██████████| 641/641 [00:00<00:00, 975.64it/s]\n"
     ]
    }
   ],
   "source": [
    "lb_dir = os.path.join(root, \"built_data\", \"cellpose_output\", project_name, \"\")\n",
    "lb_list = sorted(glob.glob(lb_dir + \"*_labels.tif\"))\n",
    "\n",
    "for t, lb_path in enumerate(tqdm(lb_list[2:])):\n",
    "    fname_curr = path_leaf(lb_path)\n",
    "    fname_base = fname_curr.replace(\"_labels.tif\", \"\")[:-5]\n",
    "    \n",
    "#     print(fname_curr)\n",
    "#     print(fname_base)\n",
    "    try:\n",
    "        time_curr = int(fname_base[-4:])\n",
    "        time_new = time_df.loc[time_df[\"time_curr\"]==time_curr, \"time_corrected\"].to_numpy()[0] - 1\n",
    "\n",
    "    #     print(time_curr)\n",
    "    #     print(time_new)\n",
    "\n",
    "        fname_new = fname_base[:-5] + f't{time_new:04}_labels.tif'\n",
    "        path_new = lb_dir + fname_new\n",
    "        os.rename(lb_path, path_new)\n",
    "    except:\n",
    "        pass"
   ]
  },
  {
   "cell_type": "markdown",
   "metadata": {},
   "source": [
    "## Probs"
   ]
  },
  {
   "cell_type": "code",
   "execution_count": 52,
   "metadata": {},
   "outputs": [
    {
     "name": "stderr",
     "output_type": "stream",
     "text": [
      "100%|██████████| 643/643 [00:00<00:00, 1052.37it/s]\n"
     ]
    }
   ],
   "source": [
    "prob_dir = os.path.join(root, \"built_data\", \"cellpose_output\", project_name, \"\")\n",
    "prob_list = sorted(glob.glob(lb_dir + \"*_probs.tif\"))\n",
    "\n",
    "for t, prob_path in enumerate(tqdm(prob_list)):\n",
    "    fname_curr = path_leaf(prob_path)\n",
    "    fname_base = fname_curr.replace(\"_probs.tif\", \"\")[:-5]\n",
    "    \n",
    "#     print(fname_curr)\n",
    "#     print(fname_base)\n",
    "\n",
    "    time_curr = int(fname_base[-4:])\n",
    "    time_new = time_df.loc[time_df[\"time_curr\"]==time_curr, \"time_corrected\"].to_numpy()[0] - 1\n",
    "\n",
    "#     print(time_curr)\n",
    "#     print(time_new)\n",
    "\n",
    "    fname_new = fname_base[:-5] + f't{time_new:04}_probs.tif'\n",
    "    path_new = lb_dir + fname_new\n",
    "    \n",
    "#     print(prob_path)\n",
    "#     print(path_new)\n",
    "    os.rename(prob_path, path_new)\n",
    "  "
   ]
  },
  {
   "cell_type": "code",
   "execution_count": 48,
   "metadata": {},
   "outputs": [
    {
     "data": {
      "text/plain": [
       "\"E:\\\\Nick\\\\Cole Trapnell's Lab Dropbox\\\\Nick Lammers\\\\Nick\\\\killi_tracker\\\\built_data\\\\cellpose_output\\\\231016_EXP40_LCP1_UVB_300mJ_WT_Timelapse_Raw\\\\231016_EXP40_LCP1_UVB_300mJ_WT_Timelapse_Raw_t0000_t000_probs.tif\""
      ]
     },
     "execution_count": 48,
     "metadata": {},
     "output_type": "execute_result"
    }
   ],
   "source": [
    "prob_list[0]"
   ]
  },
  {
   "cell_type": "code",
   "execution_count": null,
   "metadata": {},
   "outputs": [],
   "source": []
  }
 ],
 "metadata": {
  "kernelspec": {
   "display_name": "Python 3 (ipykernel)",
   "language": "python",
   "name": "python3"
  },
  "language_info": {
   "codemirror_mode": {
    "name": "ipython",
    "version": 3
   },
   "file_extension": ".py",
   "mimetype": "text/x-python",
   "name": "python",
   "nbconvert_exporter": "python",
   "pygments_lexer": "ipython3",
   "version": "3.10.10"
  }
 },
 "nbformat": 4,
 "nbformat_minor": 1
}
